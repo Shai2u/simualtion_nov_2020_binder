{
 "cells": [
  {
   "cell_type": "markdown",
   "metadata": {
    "id": "-FOOKidV9gz-"
   },
   "source": [
    "# Import Libraries"
   ]
  },
  {
   "cell_type": "code",
   "execution_count": 1,
   "metadata": {
    "colab": {
     "base_uri": "https://localhost:8080/"
    },
    "id": "VyU3xEZE_HkV",
    "outputId": "77ed1d83-931e-49ad-b20b-306d1937c5c6"
   },
   "outputs": [],
   "source": [
    "\n",
    "#! git clone https://github.com/Shai2u/ridt_nov_2020_colab.git\n",
    "import pandas as pd\n",
    "import ipywidgets as widgets\n",
    "from IPython.display import display\n",
    "from ipywidgets.widgets.interaction import show_inline_matplotlib_plots\n",
    "from ipywidgets import HBox, VBox,Layout\n",
    "import numpy as np\n",
    "import random\n",
    "import uuid\n",
    "import random\n",
    "import datetime\n",
    "import geopandas as gpd\n",
    "import folium\n",
    "from folium.features import GeoJson, GeoJsonTooltip\n",
    "import matplotlib.pyplot as plt; plt.rcdefaults()\n",
    "import copy\n",
    "import branca.colormap as cm\n",
    "from plotly.subplots import make_subplots\n",
    "import plotly.graph_objects as go\n",
    "import plotly.express as px\n",
    "from folium.features import GeoJson, GeoJsonTooltip\n",
    "pd.options.display.max_columns=50"
   ]
  },
  {
   "cell_type": "code",
   "execution_count": 2,
   "metadata": {
    "id": "XjgkFUkUxolZ"
   },
   "outputs": [],
   "source": [
    "from plotly.subplots import make_subplots\n",
    "import plotly.graph_objects as go\n",
    "import plotly.express as px"
   ]
  },
  {
   "cell_type": "markdown",
   "metadata": {
    "id": "_TRiZd1hYCBi"
   },
   "source": [
    "# Classes\n"
   ]
  },
  {
   "cell_type": "markdown",
   "metadata": {
    "id": "HJWWZE0sYHH7"
   },
   "source": [
    "## Random 🎲🎲"
   ]
  },
  {
   "cell_type": "code",
   "execution_count": 3,
   "metadata": {
    "id": "nIUOBma_BfiJ"
   },
   "outputs": [],
   "source": [
    "class ridt_random:\n",
    "    \n",
    "    def random_dates_list(start, end, n):\n",
    "        \"\"\" recieves a START date\n",
    "        and an END date\n",
    "        and a N number of random Dates\"\"\"\n",
    "        start_u = start.value//10**9\n",
    "        end_u = end.value//10**9\n",
    "        return pd.DatetimeIndex((10**9*np.random.randint(start_u, end_u, n, dtype=np.int64)).view('M8[ns]')) "
   ]
  },
  {
   "cell_type": "markdown",
   "metadata": {
    "id": "sCPfiO1YYM9F"
   },
   "source": [
    "## RIDT Info ℹ️"
   ]
  },
  {
   "cell_type": "code",
   "execution_count": 4,
   "metadata": {
    "id": "PEgsxhsBBz81"
   },
   "outputs": [],
   "source": [
    "class ridt_info:\n",
    "    last_year_of_simulation = 2050 # Define the last year of the simulaiton\n",
    "    end_of_simulation_date =  pd.to_datetime((datetime.date(last_year_of_simulation, 1, 1)))\n",
    "    ami_100_percent=91000\n",
    "    affordable_category = {\n",
    "    'Rental':'Rental',\n",
    "    'Rental & Coop':'Rental',\n",
    "    'Coop':'Coop',\n",
    "    'Rntal Condo':'Rental',\n",
    "    'Condo':'Condo'\n",
    "    }\n",
    "    Non_affordable_category = {\n",
    "        'Rental':'Rental',\n",
    "        'Rental & Coop':'Coop',\n",
    "        'Coop':'Coop',\n",
    "        'Rntal Condo':'Condo',\n",
    "        'Condo':'Condo'\n",
    "    }\n",
    "    #Non Affordable Before Simulation\n",
    "    non_affordable ={\n",
    "        ### Change according to Year!!!\n",
    "        'min': 35000,\n",
    "        'max': 100000\n",
    "    }\n",
    "    affordable_models = {\n",
    "        'Southtown':{\n",
    "            'type':'multi',\n",
    "            'a' :{\n",
    "                'ap_percent': 0.15,\n",
    "                'ami_percent_min':0.5,\n",
    "                'ami_percent_max':0.8            \n",
    "            },\n",
    "            'b':{\n",
    "                'ap_percent': 0.35,\n",
    "                'ami_percent_min':1.2,\n",
    "                'ami_percent_max':1.48            \n",
    "            }\n",
    "        },\n",
    "        'Other' : {\n",
    "            'type':'default',\n",
    "            'Upper':{\n",
    "                'ami_percent_min':1.2,\n",
    "                'ami_percent_max':1.48                \n",
    "            },\n",
    "            'Middle':{\n",
    "                'ami_percent_min':0.8,\n",
    "                'ami_percent_max':1.2                 \n",
    "            },\n",
    "            'LowMed':{\n",
    "                'ami_percent_min':0.1,\n",
    "                'ami_percent_max':0.3                  \n",
    "            }\n",
    "        },\n",
    "        'Northtown' : {\n",
    "            'type':'default',\n",
    "            'Upper':{\n",
    "                'ami_percent_min':1.2,\n",
    "                'ami_percent_max':1.48                \n",
    "            },\n",
    "            'Middle':{\n",
    "                'ami_percent_min':0.8,\n",
    "                'ami_percent_max':1.2                 \n",
    "            },\n",
    "            'LowMed':{\n",
    "                'ami_percent_min':0.1,\n",
    "                'ami_percent_max':0.3                  \n",
    "            }\n",
    "        },\n",
    "        'Student':{\n",
    "            'type':'default',\n",
    "            'Middle':{\n",
    "                'ami_percent_min':0.8,\n",
    "                'ami_percent_max':1.2                 \n",
    "            }\n",
    "\n",
    "        }\n",
    "    }\n",
    "    north = ['Manhattan park', 'The Octagon','2-4 River Road']\n",
    "    south = ['Riverwalk Landing','Riverwalk Point',  'Riverwalk place','Riverwalk Court', 'Riverwalk Crossing']\n",
    "    wire = ['Roosevelt Landings', 'Rivercross','Westview','island house']\n",
    "\n",
    "    def get_group_category(x):\n",
    "        \"\"\"Returns the group Category for a given Age\"\"\"\n",
    "        x = x\n",
    "        if (x>85):\n",
    "            return 90\n",
    "        elif (x>75):\n",
    "            return 80\n",
    "        elif (x>65):\n",
    "            return 70\n",
    "        elif (x>60):\n",
    "            return 63\n",
    "        elif (x>55):\n",
    "            return 58\n",
    "        elif (x>45):\n",
    "            return 50\n",
    "        elif(x>35):\n",
    "            return 40\n",
    "        else:\n",
    "            return 30\n",
    "\n",
    "\n",
    "    def get_income_category(x):\n",
    "        \"\"\"Returns a income category for a given income\"\"\"\n",
    "        #get tiltes for given income\n",
    "        # need to add a sort function\n",
    "        if (x> 200000):\n",
    "            return 'HH Income $200K+'\n",
    "        elif (x>150000):\n",
    "            return 'HH Income $150K-199K'\n",
    "        elif (x>100000):\n",
    "            return 'HH Income $100K-149K'\n",
    "        elif (x>75000):\n",
    "            return 'HH Income $75K-99K'\n",
    "        elif (x>50000):\n",
    "            return 'HH Income $50K-74K'\n",
    "        elif (x>35000):\n",
    "            return 'HH Income $35K-49K'\n",
    "        elif (x>25000):\n",
    "            return 'HH Income $25K-34K'\n",
    "        elif (x>15000):\n",
    "            return 'HH Income $15K-24K'\n",
    "        else:\n",
    "            return 'HH Income <$15K'\n",
    "    \n",
    "    def simulate_ami_using_polynom(year_):\n",
    "      \"\"\"returns a simulated ami for calculating the peoples income who come to live\"\"\"\n",
    "      x_ = year_-1900 #\n",
    "      ami_ = 9.8125*np.power(x_,2)-844.375*x_+51025 \n",
    "      return ami_\n",
    "\n",
    "\n",
    "    def non_affordable_approximation(year_):\n",
    "      \"\"\"Provide an approximation of market income based on year that creates an AMI, needs to be calibrated by percentage of ami\"\"\"\n",
    "      ami_ap = ridt_info.simulate_ami_using_polynom(year_)\n",
    "      non_affordable ={\n",
    "          ### Change according to Year!!!\n",
    "          'min': ami_ap*0.85,\n",
    "          'max': ami_ap*2\n",
    "          }\n",
    "      return non_affordable\n",
    "    @staticmethod\n",
    "    def filter_group_buildigns(building_filters,dobj):\n",
    "      \"\"\"Filter dataset according to group of buildings\"\"\"\n",
    "      if (building_filters =='north'):\n",
    "        return ridt_agents_obj(dobj.ds[dobj.ds['Building Name'].isin(ridt_info.north)])\n",
    "      elif (building_filters =='south'):\n",
    "        return ridt_agents_obj(dobj.ds[dobj.ds['Building Name'].isin(ridt_info.south)])\n",
    "      else:\n",
    "        return ridt_agents_obj(dobj.ds[dobj.ds['Building Name'].isin(ridt_info.wire)])\n",
    "    \n",
    "    @staticmethod\n",
    "    def get_Income_based_on_marketRent_and_size_year(sqft,year_):\n",
    "      \"\"\"\n",
    "      The Function returns a list of minimum income requiered and max income estimated\n",
    "      based on Size of appartment and a given year\n",
    "      \"\"\"\n",
    "      ppf = ridt_info.rent_per_feet_market(year_)\n",
    "      minmum_Income = ppf*sqft*40\n",
    "      non_affordable ={\n",
    "          ### Change according to Year!!!\n",
    "          'min': minmum_Income*1.0,\n",
    "          'max': minmum_Income*2\n",
    "          }\n",
    "      return pd.Series(non_affordable)\n",
    "    \n",
    "    @staticmethod\n",
    "    def rent_per_feet_market(year_):\n",
    "      \"\"\"Function that simulates the increase in price rent\n",
    "      based on given year\n",
    "      https://docs.google.com/spreadsheets/d/1znc9L9kiLTPZoeeP5kaL-9WtPn5IKFvH/edit?usp=drive_web&ouid=106407473734356401683&rtpof=true\n",
    "      \n",
    "      \"\"\"\n",
    "      \n",
    "      a = 0.0702\n",
    "      b = - 138.29\n",
    "      return a*year_+b\n",
    "    \n"
   ]
  },
  {
   "cell_type": "markdown",
   "metadata": {
    "id": "RXMi1_o9YTOA"
   },
   "source": [
    "## Plot 📊"
   ]
  },
  {
   "cell_type": "code",
   "execution_count": 5,
   "metadata": {
    "id": "gxpSQVn4B3QL"
   },
   "outputs": [],
   "source": [
    "class ridt_plot:\n",
    "    age_colorscale = ['rgb(247,148,29)', \n",
    "              'rgb(248,159,53)',\n",
    "              'rgb(249,167,69)',\n",
    "              'rgb(250,176,90)',\n",
    "              'rgb(252,190,121)',\n",
    "              'rgb(252,197,137)',\n",
    "              'rgb(254,210,164)',\n",
    "              'rgb(254,219,185)']\n",
    "\n",
    "    income_group_scale = [\n",
    "              'rgb(250,191,171)', \n",
    "              'rgb(248,176,158)',\n",
    "              'rgb(247,165,149)',\n",
    "              'rgb(246,152,138)', #3\n",
    "              'rgb(245,141,129)', #4\n",
    "              'rgb(244,127,117)', #5\n",
    "              'rgb(243,115,107)', #6\n",
    "              'rgb(242,102,96)' , #7\n",
    "              'rgb(241,91,87)' , #8\n",
    "              'rgb(240,74,73)' , #9\n",
    "              'rgb(239,62,63)' , #10   \n",
    "              'rgb(238,51,53)' , #11\n",
    "              'rgb(236,35,40)'  #12           \n",
    "    ]\n",
    "    def plot_age_histogram(a_ds,wid=5,title_='Normal Distribution Histogram'):\n",
    "        \"\"\"for a given seires this function plots a histogram\n",
    "        a_ds is the series\n",
    "        wid=5 is the Width (can be changed)\n",
    "        title_ is the title\n",
    "        \"\"\"\n",
    "        hist,bin_edges = np.histogram(a_ds)\n",
    "        plt.figure(figsize=[8,5])\n",
    "        plt.bar(bin_edges[:-1], hist, width = wid, color='#0504aa',alpha=0.7)\n",
    "        plt.xlim(min(bin_edges), max(bin_edges))\n",
    "        plt.grid(axis='y', alpha=0.75)\n",
    "        plt.xlabel('Value',fontsize=15)\n",
    "        plt.ylabel('Frequency',fontsize=15)\n",
    "        plt.xticks(fontsize=15)\n",
    "        plt.yticks(fontsize=15)\n",
    "        plt.ylabel('Frequency',fontsize=15)\n",
    "        plt.title(title_,fontsize=15)\n",
    "        plt.show()\n",
    "        \n",
    "    def plot_bar(ds,col_data,col_x_axis,x_title,y_title,title):\n",
    "        \"\"\"ds is the dataset\n",
    "        col_data is the column with the data\n",
    "        col_x_axis is the column with the x axis\n",
    "        x_title and y_title and title are the titles\"\"\"\n",
    "        if col_x_axis=='index':\n",
    "            x_axis_ = ds.index\n",
    "        else:\n",
    "            x_axis_ = ds['col_x_axis']\n",
    "        y_pos = np.arange(len(x_axis_))\n",
    "        plt.bar(y_pos, ds[col_data], align='center', alpha=0.5)\n",
    "        plt.xticks(y_pos,x_axis_)\n",
    "        plt.ylabel(y_title)\n",
    "        plt.xlabel(x_title)\n",
    "        plt.title(title)\n",
    "\n",
    "        plt.show()\n",
    "        \n",
    "    def plot_treemap_1(ds,path_=[\"Building Name\",\"ap_index\"], values_='Ap_number_of_rooms', color_='Low_income'):\n",
    "        #https://plotly.com/python/treemaps/\n",
    "        \"\"\"Experiment with Treemap\n",
    "        ds: is the dataset\n",
    "        path_: hierarchy of the layers\n",
    "        values_: defines the size\n",
    "        color_: defines the color of the sell\"\"\"\n",
    "        #fig = px.treemap(ds, path=path_ ,values=values_,color=color_,hover_data=['address_door'],color_continuous_scale='RdBu')\n",
    "        #fig = px.treemap()\n",
    "        fig = px.treemap(ds, path=path_ ,values=values_,color=ds[color_],hover_data=['address_door'],color_continuous_scale='RdBu')\n",
    "\n",
    "        return fig\n",
    "\n",
    "    def plot_treemap_2(ds,path_=[\"Building Name\",\"ap_index\"], values_='Ap_number_of_rooms'):\n",
    "        #https://plotly.com/python/treemaps/\n",
    "        \"\"\"Experiment with Treemap\n",
    "        ds: is the dataset\n",
    "        path_: hierarchy of the layers\n",
    "        values_: defines the size\n",
    "        color_: defines the color of the sell\"\"\"\n",
    "#        fig = px.treemap(ds, path=path_ ,values=values_,color=color_,hover_data=['address_door'],color_continuous_scale='RdBu')\n",
    "        fig = px.treemap(ds, path=path_ ,values=values_,hover_data=['address_door'],color_continuous_scale='RdBu')\n",
    "\n",
    "        return(fig)\n",
    "    def plot_age_group(ds,width_=400,height_=300):\n",
    "      \"\"\"\"\"\"\n",
    "      ds['color'] = ds.index*15\n",
    "      fig = px.bar(ds,x='Age_category',y='count',color='mean age',\n",
    "             labels={'count':'Distribution','Age_category':'Age Category'},\n",
    "             title='Age Distribution For Year: {}'.format(c_year),\n",
    "             color_continuous_scale=['#F6941C','#F7D4B1'],width=width_,height=height_\n",
    "             )\n",
    "      fig.layout.update(plot_bgcolor='rgb(255,255,255)')\n",
    "      return(fig)\n",
    "    def get_age_island_v2(age_report, col_,cat_):\n",
    "      ac = ridt_plot.age_colorscale\n",
    "      cb = age_report.copy()\n",
    "      fig = go.Figure(go.Bar(x=cb[col_],y=cb[cat_],orientation=\"h\",marker=dict(color=cb['mean age'],colorscale=ac)))\n",
    "      fig.update_layout(title_text='Age Distribution',width=800)\n",
    "      return(fig)\n",
    "\n",
    "    def get_age_subplots(bldg_age,c_year,bldg_,percent_):\n",
    "      \"\"\"get age subplot given dataset and year\"\"\"\n",
    "      ac = ridt_plot.age_colorscale\n",
    "      if (bldg_==True):\n",
    "        tBt = []\n",
    "        for i in range(1, 5):\n",
    "            for j in range(1, 5):\n",
    "                tBt.append((i, j))\n",
    "\n",
    "        fig = make_subplots(rows=4, cols=4, start_cell=\"top-left\",\n",
    "                            subplot_titles=bldg_age['Building Name'].unique())\n",
    "\n",
    "        i = 0\n",
    "        col_='count'\n",
    "        col_title='count'\n",
    "        if (percent_==True):\n",
    "          col_='percent'\n",
    "          col_title = 'ratio %'\n",
    "        \n",
    "        for bldg in bldg_age['Building Name'].unique():\n",
    "            cb = bldg_age[bldg_age['Building Name'] == bldg]\n",
    "            fig.append_trace(go.Bar(x=cb[col_], y=cb['Age_category'], showlegend=False, orientation=\"h\", marker=dict(\n",
    "                color=cb['mean age'], colorscale=ac)), row=tBt[i][0], col=tBt[i][1])\n",
    "            i += 1\n",
    "        fig.update_layout(width=1200, height=800, title='Buildings Age Distribution for the year: {}'.format(\n",
    "            c_year), plot_bgcolor='rgba(255,255,255,0)')\n",
    "        fig.update_xaxes(showline=True, linecolor='rgb(150,150,150)',\n",
    "                        showgrid=True, gridcolor='rgb(150,150,150)')\n",
    "        fig.update_yaxes(showline=True, linecolor='rgb(150,150,150)',\n",
    "                        showgrid=True, gridcolor='rgb(150,150,150)')\n",
    "      else:\n",
    "        cb = bldg_age.copy()\n",
    "        #,orientation=\"h\", colorscale=ac\n",
    "        col_='count'\n",
    "        col_title='count'\n",
    "        if (percent_==True):\n",
    "          col_='percent'\n",
    "          col_title = 'ratio %'\n",
    "        fig = go.Figure(go.Bar(x=cb[col_],y=cb['Age_category'],orientation=\"h\",marker=dict(color=cb['mean age'],colorscale=ac)))\n",
    "        fig.update_layout(title_text='Age Distribution for the year: {}'.format(c_year),width=800)\n",
    "      return(fig)\n",
    "    \n",
    "    def get_income_by_group_subplots(ds,by_building,c_year,percent_):\n",
    "      if (by_building==True):\n",
    "        fig = ridt_plot.get_income_by_group_subplots_helper_1(ds,by_building,c_year,percent_)\n",
    "        \n",
    "      else:\n",
    "        fig = ridt_plot.get_income_by_group_for_island_helper_1(ds,by_building,c_year,percent_)\n",
    "      return fig\n",
    "\n",
    "    def get_income_by_group_subplots_helper_1(ds,by_building,c_year,percent_):\n",
    "      \"\"\"ds-->dataset\n",
    "      by_building--> subplots by building or accoridng to the whole island\n",
    "      c_year --> title for year\"\"\"\n",
    "      tBt = []\n",
    "      for i in range(1, 5):\n",
    "          for j in range(1, 5):\n",
    "              tBt.append((i, j))\n",
    "\n",
    "      fig = make_subplots(rows=4, cols=4, start_cell=\"top-left\",\n",
    "                          subplot_titles=ds['Building Name'].unique())\n",
    "\n",
    "      i = 0\n",
    "      ac = ridt_plot.age_colorscale\n",
    "\n",
    "      col_='count'\n",
    "      if (percent_==True):\n",
    "        col_='percent'\n",
    "      for bldg in ds['Building Name'].unique():\n",
    "          cb = ds[ds['Building Name'] == bldg]\n",
    "          fig.append_trace(go.Bar(x=cb['income_category'],y=cb[col_], showlegend=False, marker=dict(\n",
    "              color=cb['mean income'], colorscale=ridt_plot.income_group_scale)), row=tBt[i][0], col=tBt[i][1])\n",
    "          i += 1\n",
    "      fig.update_layout(width=1200, height=1200, title='Buildings Mean Distribution for the year: {}'.format(\n",
    "          c_year), plot_bgcolor='rgba(255,255,255,0)')\n",
    "      fig.update_xaxes(showline=True, linecolor='rgb(150,150,150)',\n",
    "                      showgrid=True, gridcolor='rgb(150,150,150)')\n",
    "      fig.update_yaxes(showline=True, linecolor='rgb(150,150,150)',\n",
    "                      showgrid=True, gridcolor='rgb(150,150,150)')\n",
    "      \n",
    "      return fig\n",
    "\n",
    "    def get_income_by_group_for_island_helper_1(ds,by_building,c_year,percent_):\n",
    "      col_='count'\n",
    "      if (percent_==True):\n",
    "        col_='percent'\n",
    "      fig = go.Figure(go.Bar(x=ds['income_category'],y=ds[col_],marker=dict(color=ds['mean income'], colorscale=ridt_plot.income_group_scale)))\n",
    "      fig.update_layout(title_text='Income Distribution for island by year: {}'.format(c_year))\n",
    "      return fig\n",
    "    \n",
    "    def plot_income_years_buildings_1(ds_obj,bldg_,percent_):\n",
    "      width=1200\n",
    "      height=2000\n",
    "      years_list = [1980, 1990, 2000, 2010, 2020,2030]\n",
    "      nds_obj = ridt_plot.all_yaers_helper_1(ds_obj)\n",
    "\n",
    "      nds_obj.ds['income_category'] = nds_obj.ds['income'].apply(\n",
    "          ridt_info.get_income_category)\n",
    "      col_='c'\n",
    "      xtitle='count'\n",
    "\n",
    "      if (bldg_==True):\n",
    "        nds2_ojb = nds_obj.ds.groupby(['year', 'Building Name', 'income_category']).agg(\n",
    "            {'agentID': 'count', 'income': 'mean'}).reset_index()\n",
    "        if (percent_==True):\n",
    "          sum_ = nds2_ojb.groupby(['year','Building Name']).agg({'agentID':'sum'}).reset_index().rename(columns={'year':'yr','Building Name':'bn','agentID':'sum'})\n",
    "\n",
    "          nds2_ojb['percent'] = pd.merge(nds2_ojb,sum_,how='left',left_on=['year','Building Name'], right_on=['yr','bn']).apply(lambda x: x['agentID']/x['sum'],axis=1)\n",
    "          nds2_ojb.rename(columns={'Building Name': 'B:','percent': '%'}, inplace=True)\n",
    "          col_='%'\n",
    "          xtitle='ratio %'\n",
    "        else:\n",
    "          nds2_ojb.rename(columns={'Building Name': 'B:','agentID': 'c'}, inplace=True)\n",
    "          col_='c'\n",
    "          xtitle='count'\n",
    "\n",
    "        nds2_ojb.sort_values(['income'], inplace=True)\n",
    "        fig = px.histogram(nds2_ojb, x='income_category', y=col_, color='income_category', category_orders={\"year\": years_list}, facet_row=\"B:\", facet_col=\"year\", facet_row_spacing=0.05, color_discrete_sequence=ridt_plot.income_group_scale,labels={'income_category':'Income Category'})\n",
    "        width=1200\n",
    "        height=3500\n",
    "      else:\n",
    "        nds2_ojb = nds_obj.ds.groupby(['year', 'income_category']).agg(\n",
    "            {'agentID': 'count', 'income': 'mean'}).reset_index() \n",
    "\n",
    "        if (percent_==True):\n",
    "          sum_ = nds2_ojb.groupby('year').agg({'agentID':'sum'}).reset_index().rename(columns={'year':'yr','agentID':'sum'})\n",
    "          nds2_ojb['percent'] = pd.merge(nds2_ojb,sum_,how='left',left_on=['year'], right_on=['yr']).apply(lambda x: x['agentID']/x['sum'],axis=1)\n",
    "          nds2_ojb.rename(columns={'percent': '%'}, inplace=True)\n",
    "          col_='%'\n",
    "          xtitle='ratio %'\n",
    "        else:        \n",
    "          nds2_ojb.rename(columns={'agentID': 'c'}, inplace=True)\n",
    "          col_='c'\n",
    "          xtitle='count'\n",
    "        fig = px.histogram(nds2_ojb, x='income_category', y=col_, color='income_category', category_orders={\"year\": years_list}, facet_col=\"year\", facet_row_spacing=0.05, color_discrete_sequence=ridt_plot.income_group_scale,labels={'income_category':'Income Category'})\n",
    "        width=1200\n",
    "        height=400\n",
    "\n",
    "      for d in fig.layout:\n",
    "        if (d[0:5]=='xaxis'):\n",
    "          fig.layout[d]['title']['text']=xtitle\n",
    "          #fig.layout[d]['showticklabels']= True\n",
    "\n",
    "      fig.update_layout(width=width, height=height)\n",
    "      return (fig,nds_obj)\n",
    "\n",
    "    def plot_population_years_buildings_1(ds_obj,bldg_,percent_):\n",
    "      width=1200\n",
    "      height=2000\n",
    "      years_list = [1980, 1990, 2000, 2010, 2020,2030]\n",
    "      ac = ridt_plot.age_colorscale\n",
    "      nds_obj = ridt_plot.all_yaers_helper_1(ds_obj)\n",
    "\n",
    "      nds_obj = ridt_plot.update_ages_all_yaers_helper_1(nds_obj)\n",
    "      col_ ='c'\n",
    "      xtitle='count'\n",
    "      if (bldg_==True):\n",
    "        \n",
    "        nds2_ojb = nds_obj.ds.groupby(['year', 'Building Name', 'Age_category']).agg(\n",
    "            {'agentID': 'count', 'current_age': 'mean'}).reset_index()\n",
    "\n",
    "        if (percent_==True):\n",
    "          sum_ = nds2_ojb.groupby(['year','Building Name']).agg({'agentID':'sum'}).reset_index().rename(columns={'year':'yr','Building Name':'bn','agentID':'sum'})\n",
    "          nds2_ojb['percent'] = pd.merge(nds2_ojb,sum_,how='left',left_on=['year','Building Name'], right_on=['yr','bn']).apply(lambda x: x['agentID']/x['sum'],axis=1)\n",
    "\n",
    "          nds2_ojb.rename(columns={'Building Name': 'B:',\n",
    "                          'percent': '%'}, inplace=True)\n",
    "          col_='%'\n",
    "          xtitle='ratio %'\n",
    "        else:\n",
    "          nds2_ojb.rename(columns={'Building Name': 'B:',\n",
    "                                  'agentID': 'c'}, inplace=True)\n",
    "          col_ ='c'\n",
    "          xtitle='count'\n",
    "        nds2_ojb.sort_values(['current_age'], inplace=True,ascending=False)\n",
    "        fig = px.histogram(nds2_ojb, y='Age_category', x=col_,orientation=\"h\", color='Age_category', category_orders={\"year\": years_list}, facet_row=\"B:\", facet_col=\"year\", facet_row_spacing=0.05, color_discrete_sequence=ac,labels={'Age_category':'Age Group'})\n",
    "        #fig.update_layout(x_axis=dict(title = '123'))\n",
    "        width=1200\n",
    "        height=2000\n",
    "      else:\n",
    "        nds2_ojb = nds_obj.ds.groupby(['year', 'Age_category']).agg(\n",
    "            {'agentID': 'count', 'current_age': 'mean'}).reset_index()\n",
    "        if (percent_==True):\n",
    "          sum_ = nds2_ojb.groupby('year').agg({'agentID':'sum'}).reset_index().rename(columns={'year':'yr','agentID':'sum'})\n",
    "          nds2_ojb['percent'] = pd.merge(nds2_ojb,sum_,how='left',left_on=['year'], right_on=['yr']).apply(lambda x: x['agentID']/x['sum'],axis=1)\n",
    "          nds2_ojb.rename(columns={'Building Name': 'B:',\n",
    "                          'percent': '%'}, inplace=True)\n",
    "          col_='%'\n",
    "          xtitle='ratio %'\n",
    "        else:   \n",
    "          nds2_ojb.rename(columns={'agentID': 'c'}, inplace=True)\n",
    "          col_ ='c'\n",
    "          xtitle='count'\n",
    "        nds2_ojb.sort_values(['current_age'], inplace=True,ascending=False)\n",
    "        x_axis_old = 'sum of '+col_\n",
    "        x_axis_new = col_\n",
    "        fig = px.histogram(nds2_ojb, y='Age_category', x=col_,orientation=\"h\", color='Age_category', category_orders={\"year\": years_list}, facet_col=\"year\", facet_row_spacing=0.03, color_discrete_sequence=ac,labels={'Age_category':'Age Group'})\n",
    "        #\n",
    "        #labels=dict(x=\"Fruit\", y=\"Amount\")\n",
    "        #fig.update_layout(x_axis=dict(title = '123'))\n",
    "        # Add Labels\n",
    "        width=1200\n",
    "        height=400\n",
    "\n",
    "      for d in fig.layout:\n",
    "        if (d[0:5]=='xaxis'):\n",
    "          fig.layout[d]['title']['text']=xtitle\n",
    "          #fig.layout[d]['showticklabels']= True\n",
    "      fig.update_layout(width=width, height=height)\n",
    "      return (fig,nds2_ojb)\n",
    "    \n",
    "    def all_yaers_helper_1(ds_obj):\n",
    "      nds_obj = ds_obj.filter_ds_by_year(1980)\n",
    "      nds_obj.ds['year'] = 1980\n",
    "      for year_ in [1990, 2000, 2010, 2020]:\n",
    "          temp = ds_obj.filter_ds_by_year(year_)\n",
    "          nds_obj.concat_year(temp.ds, year_)\n",
    "      return nds_obj\n",
    "\n",
    "    def update_ages_all_yaers_helper_1(ds_obj):\n",
    "      ds_obj.ds['current_age'] = ds_obj.ds['year'] -  ds_obj.ds['birth_date'].dt.year\n",
    "      ds_obj.ds['Age_category'] = ds_obj.ds['current_age'].apply(ridt_info.get_group_category).apply(lambda x: ridt_demographic.pop_age_mid_reverse[x])\n",
    "      return ds_obj"
   ]
  },
  {
   "cell_type": "markdown",
   "metadata": {
    "id": "obBW1aMLdsgF"
   },
   "source": [
    "## Folium (Map Plotting) 🗺"
   ]
  },
  {
   "cell_type": "code",
   "execution_count": 6,
   "metadata": {
    "id": "en2PaFXydvbl"
   },
   "outputs": [],
   "source": [
    "class ridt_plotmaps:\n",
    "  \n",
    "\n",
    "  def base_map():\n",
    "    return(folium.Map([40.762, -73.955], zoom_start=16, tiles='cartodbpositron'))\n",
    "\n",
    "  def prepare_and_plot_burden(ds,json_):\n",
    "    \"\"\"\"\"\"\n",
    "    json_burden = ridt_plotmaps.prepare_for_burden_map(ds,json_)\n",
    "    m = ridt_plotmaps.burden_map(json_burden)\n",
    "    #m = ridt_plotmaps.base_map()\n",
    "    return [m,json_burden]\n",
    "\n",
    "  def prepare_for_burden_map(ds,json_):\n",
    "    \"\"\"\"\"\"\n",
    "    burden_map_by_year = ridt_agents_obj(ds.ds.copy())\n",
    "    burden_map_by_year.ds['annual_burden'] = burden_map_by_year.ds['annual_burden'].apply(ridt_agent_economy.get_burden_title)\n",
    "    bbybp = burden_map_by_year.report_burden_by_building_summary()\n",
    "\n",
    "    jb1 = json_.copy()\n",
    "    col = ['Bldg Proje', 'cnstrct_yr','bld_key','Address', 'geometry']\n",
    "    jb1= jb1[col]\n",
    "    jbbf2 = pd.merge(jb1, bbybp, how='right', right_on='Building Name', left_on='Bldg Proje')\n",
    "    return jbbf2\n",
    "\n",
    "  def burden_map(json_burden):\n",
    "    colormap = cm.LinearColormap(\n",
    "        ['red', 'yellow', 'green'],\n",
    "        vmin = json_burden['Mean Annual Expenses ($)'].min(),\n",
    "        vmax = json_burden['Mean Annual Expenses ($)'].max())\n",
    "    burden_dict = json_burden.set_index('bld_key')['Mean Annual Expenses ($)']\n",
    " \n",
    "    m = ridt_plotmaps.base_map()\n",
    "    tooltip = GeoJsonTooltip(\n",
    "    fields=['Bldg Proje'],\n",
    "    aliases=['Building Project'],\n",
    "    localize=True,\n",
    "    sticky=False,\n",
    "    labels=True,\n",
    "    style=\"\"\"\n",
    "        background-color: #F0EFEF;\n",
    "        border: 2px solid black;\n",
    "        border-radius: 3px;\n",
    "        box-shadow: 3px;\n",
    "    \"\"\",\n",
    "   )\n",
    "    \n",
    "    \n",
    "    folium.Tooltip = tooltip\n",
    "    \n",
    "    geo_json = folium.GeoJson(json_burden,\n",
    "                              name='Annual Burden',\n",
    "                              style_function=lambda feature: {\n",
    "                                  'fillColor': colormap(burden_dict[feature['properties']['bld_key']]),\n",
    "                                  'color': 'black',\n",
    "                                  'weight': 1\n",
    "                                  },tooltip=tooltip\n",
    "                              )\n",
    "    folium.GeoJsonPopup(fields=['Bldg Proje','Address','Less than 10.0 percent','10.0 to 14.9 percent','15.0 to 19.9 percent','20.0 to 24.9 percent','25.0 to 29.9 percent','30.0 to 34.9 percent','Mean Annual Expenses ($)'],\n",
    "                          aliases=['Building Project: ','Address: ','Less than 10.0 percent','10.0 to 14.9 percent','15.0 to 19.9 percent','20.0 to 24.9 percent','25.0 to 29.9 percent','30.0 to 34.9 percent','Mean Annual Expenses($):']).add_to(geo_json)\n",
    "    geo_json.add_to(m)\n",
    "    folium.LayerControl().add_to(m)\n",
    "    colormap.caption = 'Mean Annual Expenses'\n",
    "    colormap.add_to(m)\n",
    "    return(m)\n",
    "\n",
    "  def map_2(json_):\n",
    "    from branca.colormap import linear\n",
    "    colormap = cm.LinearColormap(\n",
    "        ['red', 'yellow', 'green'],\n",
    "        vmin = json_['Income $ mean'].min(),\n",
    "        vmax = json_['Income $ mean'].max())\n",
    "  \n",
    "    afford_dict = json_.set_index('bld_key')['Income $ mean']\n",
    "\n",
    "    m = ridt_plotmaps.base_map()\n",
    "    tooltip = GeoJsonTooltip(\n",
    "    fields=['Bldg Proje'],\n",
    "    aliases=['Building Project'],\n",
    "    localize=True,\n",
    "    sticky=False,\n",
    "    labels=True,\n",
    "    style=\"\"\"\n",
    "        background-color: #F0EFEF;\n",
    "        border: 2px solid black;\n",
    "        border-radius: 3px;\n",
    "        box-shadow: 3px;\n",
    "    \"\"\",\n",
    "   )\n",
    "    \n",
    "    \n",
    "    folium.Tooltip = tooltip\n",
    "    \n",
    "    geo_json = folium.GeoJson(json_,\n",
    "                              name='Income',\n",
    "                              style_function=lambda feature: {\n",
    "                                  'fillColor': colormap(afford_dict[feature['properties']['bld_key']]),\n",
    "                                  'color': 'black',\n",
    "                                  'weight': 1\n",
    "                                  },tooltip=tooltip\n",
    "                              )\n",
    "    folium.GeoJsonPopup(fields=['Bldg Proje','Address','Income $ mean'],\n",
    "                          aliases=['Building Project: ','Address: ','Mean Income($):']).add_to(geo_json).add_to(geo_json)\n",
    "    geo_json.add_to(m)\n",
    "    folium.LayerControl().add_to(m)\n",
    "    colormap.caption = 'Income'\n",
    "    colormap.add_to(m)\n",
    "    return(m)\n",
    "\n",
    "\n",
    "  def map_3(json_):\n",
    "    from branca.colormap import linear\n",
    "    colormap = cm.LinearColormap(\n",
    "        ['red', 'yellow', 'green'],\n",
    "        vmin = json_['Income $ mean'].min(),\n",
    "        vmax = json_['Income $ mean'].max())\n",
    "  \n",
    "    afford_dict = json_.set_index('bld_key')['Income $ mean']\n",
    "\n",
    "    m = ridt_plotmaps.base_map()\n",
    "    tooltip = GeoJsonTooltip(\n",
    "    fields=['Bldg Proje'],\n",
    "    aliases=['Building Project'],\n",
    "    localize=True,\n",
    "    sticky=False,\n",
    "    labels=True,\n",
    "    style=\"\"\"\n",
    "        background-color: #F0EFEF;\n",
    "        border: 2px solid black;\n",
    "        border-radius: 3px;\n",
    "        box-shadow: 3px;\n",
    "    \"\"\",\n",
    "   )\n",
    "    \n",
    "    \n",
    "    folium.Tooltip = tooltip\n",
    "    for index, row in json_.iterrows():\n",
    "      geo_json = folium.GeoJson(row,\n",
    "                                name='Income',\n",
    "                                style_function=lambda feature: {\n",
    "                                    'fillColor': colormap(afford_dict[feature['properties']['bld_key']]),\n",
    "                                    'color': 'black',\n",
    "                                    'weight': 1\n",
    "                                    },tooltip=tooltip\n",
    "                                )\n",
    "      folium.GeoJsonPopup(fields=['Bldg Proje','Income $ mean'],\n",
    "                          aliases=['Building Project','Mean Income($)']).add_to(geo_json)\n",
    "      geo_json.add_to(m)\n",
    "    #folium.Popup(list(json_['Bldg Proje'])).add_to(geo_json)\n",
    "    #geo_json.add_to(m)\n",
    "    folium.LayerControl().add_to(m)\n",
    "    colormap.caption = 'Income'\n",
    "    colormap.add_to(m)\n",
    "    return(m)\n",
    "\n"
   ]
  },
  {
   "cell_type": "markdown",
   "metadata": {
    "id": "YoudJz5_X8aA"
   },
   "source": [
    "## Demographic"
   ]
  },
  {
   "cell_type": "code",
   "execution_count": 7,
   "metadata": {
    "id": "jt4WBj2MCEHr"
   },
   "outputs": [],
   "source": [
    "class ridt_demographic:\n",
    "    #population demographic distribution global\n",
    "    #\n",
    "        # pop_age_dist={'25-35':0.30,\n",
    "        #       '36-45':0.16,\n",
    "        #       '46-55':0.14,\n",
    "        #       '56-60':0.13,\n",
    "        #       '61-65':0.07,\n",
    "        #       '66-75':0.11,\n",
    "        #       '76-85':0.06,\n",
    "        #       '90+':0.03}\n",
    "    pop_age_dist={'25-35':1,\n",
    "              '36-45':0.0,\n",
    "              '46-55':0.0,\n",
    "              '56-60':0.0,\n",
    "              '61-65':0.0,\n",
    "              '66-75':0.0,\n",
    "              '76-85':0.0,\n",
    "              '90+':0.00}\n",
    "\n",
    "    pop_age_mid={'25-35':30,\n",
    "              '36-45':40,\n",
    "              '46-55':50,\n",
    "              '56-60':58,\n",
    "              '61-65':63,\n",
    "              '66-75':70,\n",
    "              '76-85':80,\n",
    "              '90+':90}\n",
    "    pop_model_1975_hud_dist = {'25-35':0.55,\n",
    "              '36-45':0.05,\n",
    "              '46-55':0.15,\n",
    "              '56-60':0.15,\n",
    "              '61-65':0.05,\n",
    "              '66-75':0.05,\n",
    "              '76-85':0.00,\n",
    "              '90+':0.00}\n",
    "    \n",
    "    pop_age_labels = [item for item in pop_age_mid.keys()]\n",
    "    pop_age_mid_reverse = {value : key for (key, value) in pop_age_mid.items()}\n",
    "\n",
    "\n",
    "    pop_age_dist_ds = pd.DataFrame.from_dict(pop_age_dist,orient='index',columns=['distribution'])\n",
    "    pop_age_elderlies_dist={'66-75':0.6,'76-85':0.3,'90+':0.1}\n",
    "    pop_age_elderlies_mid= {'66-75':70,'76-85':80,'90+':90}   \n",
    "    age_group_var = {22:2,30:5,40:5,50:5,58:2,63:2,70:5,80:5,90:5}\n",
    "    \n",
    "    def calculate_brithdate_ds(ag):\n",
    "        \"\"\"Calculate the birthdate based on the entrance date fo the agent\"\"\"\n",
    "        if ag['elderly_lving']==0:\n",
    "            sample_age = ridt_demographic.sample_ages(1,'Young').squeeze()\n",
    "        else:\n",
    "            sample_age = ridt_demographic.sample_ages(1,'Old').squeeze()\n",
    "        #Birthdate\n",
    "        birthdate = pd.to_datetime(\n",
    "            [ (str(ag['move_in'].year-sample_age)+\"-\"+str(random.randint(1,12))+\"-\"+str(random.randint(1,28)))])\n",
    "        return birthdate\n",
    "    \n",
    "    def death_date_calculator2(ag,a = 0.0009,b = 0.3313,c=62):\n",
    "        \"\"\"for a given AGENT and a A B C parameters\n",
    "            The Function calculates the Manhattan death Age based on the birthdate\n",
    "            a one deviation random is calcualted and multipled by 10 (for ten years)\n",
    "            and that is the offset of the Age\n",
    "            if the Death Age is less than the entrance age\n",
    "            than a new random age is given that is the entrance age with 10-15 years offset\n",
    "        \"\"\"\n",
    "        #explanation to Journal + used 100 years statistics + trial and error calibration\n",
    "        #checked the average age of people who died at certain eyars\n",
    "        bd = ag['birth_date']\n",
    "        if 'start_action' in ag.index:\n",
    "            ed = ag['start_action']\n",
    "        else:\n",
    "            ed = ag['move_in']\n",
    "        y_n = bd.year-1900 #Year normal\n",
    "        mdy = int(np.power(y_n,2) * a + b*y_n+c) # mdy manhattan death year\n",
    "        death_date_ = pd.to_datetime(str(bd.year+mdy)+\"-1-1\")\n",
    "        random_number_of_years = int(np.random.normal(scale=1)*10) #+- 10 years\n",
    "        death_date_ = death_date_ +  pd.DateOffset(years=random_number_of_years)\n",
    "        if (death_date_)<ed:\n",
    "            death_date_ =  ed +  pd.DateOffset(years=(random.randint(10,15)))\n",
    "        return death_date_\n",
    "    \n",
    "    def death_date_calculator3(ag_ob,a = 0.0009,b = 0.3313,c=62):\n",
    "        \"\"\"for a given AGENT Object and a A B C parameters\n",
    "            The Function calculates the Manhattan death Age based on the birthdate\n",
    "            a one deviation random is calcualted and multipled by 10 (for ten years)\n",
    "            and that is the offset of the Age\n",
    "            if the Death Age is less than the entrance age\n",
    "            than a new random age is given that is the entrance age with 10-15 years offset\n",
    "        \"\"\"\n",
    "        y_n = ag_ob.birth_date.year-1900 #Year normal\n",
    "        mdy = int(np.power(y_n,2) * a + b*y_n+c) # mdy manhattan death year\n",
    "        death_date_ = pd.to_datetime(str(ag_ob.birth_date.year+mdy)+\"-1-1\")\n",
    "        random_number_of_years = int(np.random.normal(scale=1)*10) #+- 10 years\n",
    "        death_date_ = death_date_ +  pd.DateOffset(years=random_number_of_years)\n",
    "        if (death_date_)<ag_ob.move_in:\n",
    "            death_date_ =  ag_ob.move_in +  pd.DateOffset(years=(random.randint(10,15)))\n",
    "        return death_date_\n",
    "    \n",
    "    def setMaxDeathAge(DeathDate):\n",
    "        \"\"\"If Given Date is beyond 2099-12-31 the simulation will set it for 2101 to end the simulation\"\"\"\n",
    "        if (DeathDate > pd.to_datetime('2099-12-31')):\n",
    "            return pd.to_datetime('2101-1-1')\n",
    "        else:\n",
    "            return DeathDate\n",
    "    \n",
    "    def age_group_fun(num):\n",
    "        return ridt_demographic.age_group_var[num]\n",
    "    \n",
    "    def sample_ages(pop_size,choice='other', ag = list(pop_age_mid.values()),p_ = list(pop_age_dist.values())):\n",
    "        \"\"\"The Function Returns a sample of Ages according to the given distribtion (With slight variation)\n",
    "        pop_size: is the size of the poulation (for example pop_size=1000)\n",
    "        ag: is the age group (for example elderlis 75,85,90)\n",
    "        p_: is the actual distribution of the group\n",
    "        \"\"\"\n",
    "        if  choice=='hud_1975':\n",
    "            print('in 1985 hud')\n",
    "            ag = list(ridt_demographic.pop_age_mid.values())\n",
    "            p_ = list(ridt_demographic.pop_model_1975_hud_dist.values())\n",
    "        elif  choice=='Young':\n",
    "            ag = list(ridt_demographic.pop_age_mid.values())\n",
    "            p_ = list(ridt_demographic.pop_age_dist.values())\n",
    "        elif choice=='Old':\n",
    "            ag = list(ridt_demographic.pop_age_elderlies_mid.values())\n",
    "            p_ = list(ridt_demographic.pop_age_elderlies_dist.values()) \n",
    "        sam = np.random.choice(ag, pop_size, p=p_)\n",
    "        #Add VAriance\n",
    "        sam_variance = np.array(list(map(ridt_demographic.age_group_fun, sam)))*np.random.normal(scale=1,size=pop_size)\n",
    "        sam2 = sam + sam_variance\n",
    "        return sam2.astype(int)\n",
    "    \n",
    "    def group_ds_by_age(ds,year_1):\n",
    "        \"\"\"\"\"\"\n",
    "        ds2 = ds.copy()\n",
    "        ds2['age_given_date'] = (year_1 - ds2['birth_date'].dt.year)\n",
    "        ds2['group_age'] = ds2['age_given_date'].apply(ridt_info.get_group_category)\n",
    "        ca = ds2.groupby('group_age').agg({'agentID':'count'}).reset_index()\n",
    "        ca.rename(columns = {'agentID':'count'},inplace=True)\n",
    "        ca['group_age'] = ca['group_age'].apply(lambda x: ridt_demographic.pop_age_mid_reverse[x])\n",
    "        return(ca)\n",
    "    \n",
    "    def cause_of_displacement(agent):\n",
    "      \"\"\"\"\"\"\n",
    "      if agent['death_date']!=agent['move_out']:\n",
    "        return('Burden Displacement')\n",
    "      else:\n",
    "        return('death')\n",
    "    \n",
    "    def generate_new_marketRate_agents_from_avilable_ap(p_ds,bld_name,ai,bld_type,start_year,comment):\n",
    "      new_agents = ridt_agents_from_bld.get_agents_from_ap_list(p_ds,bld_name,ai,bld_type,start_year,comment)\n",
    "      new_agents['annual_return_mortgage'] = new_agents['Ap_sq_feet_size'].apply(lambda x: ridt_mortgage_calc.calculte_monthly_mortgage(x * ridt_agent_economy.pp_sqft))\n",
    "      new_agents =ridt_agent_economy.modify_annual_expenses_for_condo(new_agents,start_year)\n",
    "      return(new_agents)\n",
    "\n"
   ]
  },
  {
   "cell_type": "markdown",
   "metadata": {
    "id": "h51mxtuQYXYq"
   },
   "source": [
    "## Agent Economy"
   ]
  },
  {
   "cell_type": "code",
   "execution_count": 8,
   "metadata": {
    "id": "wUrYdTCLXgmz"
   },
   "outputs": [],
   "source": [
    "\n",
    "class ridt_agent_economy:\n",
    "  hoa_a = 0.0074\n",
    "  hoa_b = 1.247 #star year 2000\n",
    "  utilities_burden = 0.08\n",
    "  mortgage_burden = 0.43\n",
    "  pp_sqft = 1000 #dollars per square feet place holder till we will add complexity\n",
    "  y = str(2000)\n",
    "  l = ['Q1 '+y,'Q2 '+y,'Q3 '+y,'Q4 '+y]\n",
    "  d = [y+'-1-1',y+'-4-1',y+'-7-1',y+'-10-1']\n",
    "  burden_labels = ['50 Percent or Less','40.0 to 49.9 percent','35.0 to 39.9 percent',\n",
    "                  '30.0 to 34.9 percent','25.0 to 29.9 percent','20.0 to 24.9 percent',\n",
    "                  '15.0 to 19.9 percent','10.0 to 14.9 percent','Less than 10.0 percent']\n",
    "  for year_ in range(2001,2100):\n",
    "    y = str(year_)\n",
    "    l = l + ['Q1 '+y,'Q2 '+y,'Q3 '+y,'Q4 '+y]\n",
    "    d = d + [y+'-1-1',y+'-4-1',y+'-7-1',y+'-10-1']\n",
    "  d = pd.to_datetime(pd.Series(d))\n",
    "  #Hoa based on regression \n",
    "  #https://www.notion.so/sociotechtechnion/HOA-Fees-Research-1b35be351266468694631d98115ce321\n",
    "  \n",
    "  iag=0.04 #income annual growth (about 4% a year) this should be calcualted by the number of years the agent lived in the building\n",
    "  # based on\n",
    "  #https://www.notion.so/sociotechtechnion/Annual-income-increase-ef007ee7809140b88544755e3f80cdfe\n",
    "  acoopg =0.1 #annual coop price sale increase (compared to the original price), the price increase by 10% evey year by average\n",
    "\n",
    "  def get_this_years_coop_value(o_price,e_year,c_year):\n",
    "    \"\"\"This function calculates the current price of the Coop\n",
    "    o_price - original price\n",
    "    e_year - entrance year\n",
    "    c_year - current year\"\"\"\n",
    "    acoopg = ridt_agent_economy.acoopg\n",
    "    noy = c_year - e_year #number of years\n",
    "    adjusted_price = o_price + o_price*np.power(noy,acoopg)\n",
    "    return adjusted_price\n",
    "  \n",
    "  def get_this_years_income(o_income,e_year,c_year):\n",
    "    \"\"\"This function calculates the current price of the Coop\n",
    "    o_income - original income\n",
    "    e_year - entrance year\n",
    "    c_year - current year\"\"\"\n",
    "    iag = ridt_agent_economy.iag\n",
    "    noy = c_year - e_year #number of years\n",
    "    adjusted_income = o_income + o_income*np.power(noy,iag)\n",
    "    return adjusted_income\n",
    "\n",
    "  def month_converter(date_):\n",
    "    if (date_.month== 12):\n",
    "      return 1\n",
    "    elif (date_.month>= 9):\n",
    "      return 10\n",
    "    elif (date_.month>= 6):\n",
    "      return 7\n",
    "    elif (date_.month>=3):\n",
    "      return 4\n",
    "    else:\n",
    "      return 1\n",
    "\n",
    "  def get_burden_title(burden_ratio):\n",
    "    if burden_ratio>=0.5:\n",
    "      return ('50.0 percent or more')\n",
    "    elif burden_ratio>=0.4:\n",
    "      return ('40.0 to 49.9 percent')\n",
    "    elif burden_ratio>=0.35:\n",
    "      return ('35.0 to 39.9 percent')\n",
    "    elif burden_ratio>=0.3:\n",
    "      return ('30.0 to 34.9 percent')\n",
    "    elif burden_ratio>=0.25:\n",
    "      return ('25.0 to 29.9 percent')\n",
    "    elif  burden_ratio>=0.2:\n",
    "      return ('20.0 to 24.9 percent')\n",
    "    elif  burden_ratio>=0.15:\n",
    "      return ('15.0 to 19.9 percent')\n",
    "    elif  burden_ratio>=0.1:\n",
    "      return ('10.0 to 14.9 percent')\n",
    "    else:\n",
    "      return ('Less than 10.0 percent')\n",
    "    \n",
    "  def find_nearest_quarter(date_):\n",
    "    m = ridt_agent_economy.month_converter(date_) #get nearest month\n",
    "    if (date_.month)==12:\n",
    "      y = date_.year+1\n",
    "    else:\n",
    "      y = date_.year\n",
    "    n_date = pd.to_datetime(str(y)+'-'+str(m)+'-1')\n",
    "    return(n_date)\n",
    "  \n",
    "  def find_index_by_year_quarter(date_):\n",
    "    q_date = ridt_agent_economy.find_nearest_quarter(date_)\n",
    "    return(ridt_agent_economy.d[ridt_agent_economy.d==q_date].index.values)\n",
    "\n",
    "  def group_ds_income_group(ds,by_building=False):\n",
    "    ds_ = ds.copy()\n",
    "    if (by_building==True):\n",
    "        ds_['income_category'] = ds_['income'].apply(ridt_info.get_income_category)    \n",
    "        ca = ds_.groupby(['Building Name','income_category']).agg({'agentID':'count','income':'mean'}).sort_values(['Building Name','income']).reset_index()\n",
    "        ca.rename(columns = {'agentID':'count','income':'mean income'},inplace=True)\n",
    "        sum_ = ca.groupby(['Building Name']).agg({'count':'sum'}).reset_index().rename(columns={'Building Name':'bn','count':'sum'})\n",
    "        ca['percent'] = pd.merge(ca,sum_,how='left',left_on=['Building Name'], right_on=['bn']).apply(lambda x: x['count']/x['sum'],axis=1)\n",
    "\n",
    "        return ca\n",
    "    else:\n",
    "        ds_['income_category'] = ds_['income'].apply(ridt_info.get_income_category)    \n",
    "        ca = ds_.groupby('income_category').agg({'agentID':'count','income':'mean'}).sort_values(['income']).reset_index()\n",
    "        ca.rename(columns = {'agentID':'count','income':'mean income'},inplace=True)\n",
    "        ca['percent'] = ca['count']/ca['count'].sum()\n",
    "        return ca\n",
    "  \n",
    "  def calculate_hoa_for_condos(date_):\n",
    "    x_0 = ridt_agent_economy.find_index_by_year_quarter(date_)\n",
    "    f_x0 = x_0 * ridt_agent_economy.hoa_a + ridt_agent_economy.hoa_b\n",
    "    return f_x0[0]\n",
    "  \n",
    "  def modify_annual_expenses_for_condo(agents,date_):\n",
    "    get_cofactor = ridt_agent_economy.calculate_hoa_for_condos(date_)\n",
    "    agents['annual_hoa_expenses'] = get_cofactor * agents['Ap_sq_feet_size']\n",
    "    return agents"
   ]
  },
  {
   "cell_type": "markdown",
   "metadata": {
    "id": "OjhDLCpuY6Kc"
   },
   "source": [
    "## Agent"
   ]
  },
  {
   "cell_type": "code",
   "execution_count": 9,
   "metadata": {
    "id": "gzr0AgeaCGEi"
   },
   "outputs": [],
   "source": [
    "class ridt_agent:\n",
    "    def get_building_info_from_agent(agent):\n",
    "        \"\"\"For a given AGENT returns the building data from the JSON FIle\"\"\"\n",
    "        bld_key = agent['bld_key']\n",
    "        building_info = json_bldgs.loc[json_bldgs['bld_key']==bld_key]\n",
    "        return building_info\n",
    "\n",
    "    def helper_function_2_cal_income(a_type,cat,year_):\n",
    "        \"\"\"Returns minimum and maximum income\"\"\"\n",
    "        ami_ = ridt_info.simulate_ami_using_polynom(year_)\n",
    "        ami_min = ridt_info.affordable_models[cat][a_type]['ami_percent_min']\n",
    "        ami_max = ridt_info.affordable_models[cat][a_type]['ami_percent_max']\n",
    "        income_min = int(ami_min*ami_)\n",
    "        income_max = int(ami_max*ami_)\n",
    "        #income_min = int(ami_min*ridt_info.ami_100_percent)\n",
    "        #income_max = int(ami_max*ridt_info.ami_100_percent)\n",
    "        return ([income_min,income_max])\n",
    "    \n",
    "    def helper_function_1_cal_income(a_type,cat,year_=1974):\n",
    "        \"\"\"returns a random income based on range and house type that is calculated\"\"\"\n",
    "        income_min,income_max = ridt_agent.helper_function_2_cal_income(a_type,cat,year_)\n",
    "        income = random.randint(income_min, income_max)\n",
    "        return income\n",
    "    \n",
    "    def get_agents_new_income_NonWIRE(agent):\n",
    "        \"\"\"returns a random income based on range and house type that is calculated\"\"\"\n",
    "        bi = get_building_info_from_agent(agent) # get data of the building that the agent lived in\n",
    "        cb = bi.squeeze() #convert to simple series\n",
    "        type_ = ridt_info.affordable_models[cb['affordable_Cat']]['type']\n",
    "        cat = cb['affordable_Cat']\n",
    "        if (type_=='default'):\n",
    "            # default is the standard rule for building ffordablity\n",
    "            a_type = cb['affordable_sub']\n",
    "            income = ridt_agent.helper_function_1_cal_income(a_type,cat,1974)\n",
    "        else:\n",
    "            #Exception some agents will have the a income and others will have the b income\n",
    "            chance = random.randint(0,10)\n",
    "            if chance<6:\n",
    "                income = ridt_agent.helper_function_1_cal_income('a',cat,1974)\n",
    "            else:\n",
    "                income = ridt_agent.helper_function_1_cal_income('b',cat,1974)\n",
    "        return income"
   ]
  },
  {
   "cell_type": "code",
   "execution_count": 10,
   "metadata": {
    "id": "sSumRly4CIAa"
   },
   "outputs": [],
   "source": [
    "class ridt_populationDF:\n",
    "    \n",
    "    def calculate_agent_from_apartment(ca,i,init=True,ap_cycle=0,previous_agent=0):\n",
    "        agent_dataset = pd.DataFrame()\n",
    "        agent_dataset.loc[i,'agent_action']='In Building'\n",
    "        agent_dataset.loc[i,'move_in']=ca['built_year'] #Date Move in\n",
    "        if ca['elderly_lving']==0:\n",
    "            sample_age = ridt_demographic.sample_ages(1,'Young').squeeze()\n",
    "        else:\n",
    "            sample_age = ridt_demographic.sample_ages(1,'Old').squeeze()\n",
    "        #Birthdate\n",
    "        agent_dataset.loc[i,'birth_date'] = pd.to_datetime(\n",
    "            [ (str(ca['built_year'].year-sample_age)+\"-\"+str(random.randint(1,12))+\"-\"+str(random.randint(1,28)))])\n",
    "        #Death Date\n",
    "        #calculates the death date based on the birthdate\n",
    "        temp_agent = (agent_dataset.loc[i]).copy().rename(index={'move_in':'start_action'}).squeeze()\n",
    "        agent_dataset.loc[i,'death_date'] = ridt_demographic.death_date_calculator2(temp_agent)\n",
    "\n",
    "        agent_dataset.loc[i,'death_age'] = agent_dataset.loc[i,'death_date'].year-agent_dataset.loc[i,'birth_date'].year\n",
    "        agent_dataset.loc[i,'entrance_age'] = agent_dataset.loc[i,'move_in'].year-agent_dataset.loc[i,'birth_date'].year\n",
    "        agent_dataset.loc[i,'move_out'] = agent_dataset.loc[i,'death_age']\n",
    "        agent_dataset.loc[i,'cause'] = 'death'\n",
    "        agent_dataset.loc[i,'affordable_living'] = ca['affordable_living']\n",
    "        agent_dataset.loc[i,'elderly_lving'] = ca['elderly_lving']\n",
    "        agent_dataset.loc[i,'Rental_Units'] = ca['Rental_Units']\n",
    "        if (cb['Rental_Units']==1):\n",
    "            agent_dataset.loc[i,'ApartmentType'] = 'Rental'\n",
    "            agent_dataset.loc[i,'annual_utilities'] = 3000\n",
    "\n",
    "        else:\n",
    "            agent_dataset.loc[i,'ApartmentType'] = 'Other'\n",
    "        if cb['protected']=='1':\n",
    "            agent_dataset.loc[i,'protected']=True\n",
    "        else:\n",
    "            agent_dataset.loc[i,'protected']=False\n",
    "\n",
    "        agent_dataset.loc[i,'Ap_sq_feet_size'] = ca['Ap_sq_feet_size'] # default\n",
    "        agent_dataset.loc[i,'Ap_number_of_rooms'] = ca['Ap_number_of_rooms'] # default\n",
    "        #add in the end\n",
    "        #apartment Cycle\n",
    "        #Modify move_in date according to the new agent\n",
    "        #Agent Income\n",
    "        #previous AgentID\n",
    "        #comment1\n",
    "        #comment2\n",
    "        if i==0:\n",
    "            return agent_dataset\n",
    "        else:\n",
    "            return agent_dataset.loc[i]\n",
    "        \n",
    "    def calculate_income_from_affordability(cb):\n",
    "        \"\"\"for a given building the function claculates the income\"\"\"\n",
    "        #Needs modification\n",
    "        type_ = ridt_info.affordable_models[cb['affordable_Cat']]['type']\n",
    "        cat = cb['affordable_Cat']\n",
    "        if (type_=='default'):\n",
    "            a_type = cb['affordable_sub']\n",
    "            income_min,income_max = ridt_agent.helper_function_2_cal_income(a_type,cat)\n",
    "            App_datasets.loc[0:cb['Afford_uni']-1,'income'] = [random.randint(income_min, income_max) for j in range(0,int(cb['Afford_uni']))]\n",
    "        else:\n",
    "            a_ap_percent = ridt_info.affordable_models[cb['affordable_Cat']]['a']['ap_percent']\n",
    "            a_max = int(np.floor(a_ap_percent*cb['Afford_uni']))\n",
    "            income_min,income_max = ridt_agent.helper_function_2_cal_income('a',cat)\n",
    "            App_datasets.loc[0:a_max-1,'income'] = [random.randint(income_min, income_max) for j in range(0,a_max)]\n",
    "            b_ap_percent = ridt_info.affordable_models[cb['affordable_Cat']]['b']['ap_percent']\n",
    "            b_max = a_max+int(np.floor(b_ap_percent*cb['Afford_uni']))\n",
    "            income_min,income_max = ridt_agent.helper_function_2_cal_income('b',cat)\n",
    "            App_datasets.loc[a_max:a_max+b_max-1,'income'] = [random.randint(income_min, income_max) for j in range(a_max,a_max+b_max)]"
   ]
  },
  {
   "cell_type": "markdown",
   "metadata": {
    "id": "i0Ww_ihOFgGz"
   },
   "source": [
    "##RIDT_Agents_OBJ"
   ]
  },
  {
   "cell_type": "code",
   "execution_count": 11,
   "metadata": {
    "id": "OUN39kfCCJrW"
   },
   "outputs": [],
   "source": [
    "class ridt_agents_obj:\n",
    "    \n",
    "    def __init__(self,ds):\n",
    "        self.ds = ds\n",
    "    \n",
    "    def update_cleanup_agents(self):\n",
    "        \"\"\"Clean up Agents DS before report\"\"\"\n",
    "        self.ds.loc[self.ds['Rental_Units']==0,'annual_utilities']=0\n",
    "        self.ds['annual_expenses'] = self.ds['annual_return_mortgage'] + self.ds['annual_hoa_expenses']  + self.ds['annual_utilities']\n",
    "        self.ds['annual_burden'] = self.ds['annual_expenses']/self.ds['income']\n",
    "        self.ds['annual_mortgage_burden'] = self.ds['annual_hoa_expenses']/self.ds['income']\n",
    "        self.ds['annual_expenses_burden'] = (self.ds['annual_hoa_expenses']  + self.ds['annual_utilities'])/self.ds['income']\n",
    "    \n",
    "    def get_current_age_by_caetgory(self,c_year):\n",
    "      current_age = c_year - self.ds['birth_date'].dt.year\n",
    "      self.ds['current_age'] = current_age\n",
    "      self.ds['Age_category'] = current_age.apply(ridt_info.get_group_category).apply(lambda x: ridt_demographic.pop_age_mid_reverse[x])\n",
    "    \n",
    "    def report_burden_by_building_summary(self):\n",
    "      bbypm = self.report_burden_by_building()\n",
    "      col_list = ridt_agent_economy.burden_labels\n",
    "      for col in col_list:\n",
    "        if col not in bbypm.columns:\n",
    "          bbypm[col] = 0\n",
    "      less_than_50 = 0\n",
    "      for col in col_list[1:]:\n",
    "        less_than_50 += bbypm[col]\n",
    "      bbypm['50 Percent or Less'] = less_than_50\n",
    "      return bbypm\n",
    "\n",
    "    def report_age_for_ds(self):\n",
    "      return self.ds.groupby('Age_category').agg({'agentID':'count','current_age':'mean'}).rename(columns={'agentID':'count','current_age':'mean age'}).reset_index()\n",
    "    \n",
    "    def report_age_for_buildings_and_island(self,bldg_):\n",
    "      \"\"\"for the whole island\"\"\"\n",
    "      if (bldg_==True):\n",
    "        d_1 = self.ds.groupby(['Building Name','Age_category']).agg({'agentID':'count','current_age':'mean'}).rename(columns={'agentID':'count','current_age':'mean age'}).reset_index()\n",
    "        sum_ = d_1.groupby(['Building Name']).agg({'count':'sum'}).reset_index().rename(columns={'Building Name':'bn','count':'sum'})\n",
    "        d_1['percent'] = pd.merge(d_1,sum_,how='left',left_on=['Building Name'], right_on=['bn']).apply(lambda x: x['count']/x['sum'],axis=1)\n",
    "\n",
    "        return d_1\n",
    "      else:\n",
    "        d_1 = self.ds.groupby(['Age_category']).agg({'agentID':'count','current_age':'mean'}).rename(columns={'agentID':'count','current_age':'mean age'}).reset_index()\n",
    "        d_1['percent'] = d_1['count']/d_1['count'].sum()\n",
    "        return d_1\n",
    "       \n",
    "\n",
    "    def report_burden_by_building(self):\n",
    "      self.update_cleanup_agents()\n",
    "      temp_ds = self.ds.copy()\n",
    "      temp_ds['annual_burden'] = temp_ds['annual_burden'].apply(ridt_agent_economy.get_burden_title)\n",
    "      burden_ds_gb = temp_ds.groupby(['Building Name','annual_burden'])\n",
    "      burden_ds = burden_ds_gb.agg({'ap_index':'count'}).rename(\n",
    "            columns={'ap_index':'Number Of Housholds'}).reset_index()\n",
    "      #burden_bap_by_year_bldg\n",
    "      bbybp = burden_ds.pivot(index='Building Name', columns='annual_burden', values='Number Of Housholds').reset_index().fillna(0)\n",
    "      burden_ds_gb2 = temp_ds.groupby(['Building Name'])\n",
    "      burden_ds = burden_ds_gb2.agg({'annual_expenses':'mean'}).rename(\n",
    "            columns={'annual_expenses':'Mean Annual Expenses ($)'}).reset_index()\n",
    "      bbybpm = pd.merge(bbybp,burden_ds, how='left', on='Building Name')\n",
    "      return (bbybpm)\n",
    "\n",
    "    def report_burden(self):\n",
    "      self.update_cleanup_agents()\n",
    "      temp_ds = self.ds.copy()\n",
    "      temp_ds['annual_burden'] = temp_ds['annual_burden'].apply(ridt_agent_economy.get_burden_title)\n",
    "      burden_ds_gb = temp_ds.groupby('annual_burden')\n",
    "      burden_ds = burden_ds_gb.agg({'ap_index':'count'}).rename(\n",
    "            columns={'ap_index':'Number Of Housholds'}).reset_index()\n",
    "      return (burden_ds)\n",
    "    def report_income_by_group(self,by_building):\n",
    "      \"\"\"returns a report of the income by group\n",
    "      by_building pivots by the building without it, it pivots by island\"\"\"\n",
    "      return ridt_agent_economy.group_ds_income_group(self.ds,by_building)\n",
    "\n",
    "    def report(self):\n",
    "        #update annual expenses        \n",
    "        self.update_cleanup_agents()\n",
    "        check_ds_gb = self.ds.groupby('Building Name')\n",
    "        check_ds = check_ds_gb.agg({'ap_index':'count','affordable_living':'sum',\n",
    "                                    'elderly_lving':'sum','Rental_Units':'sum',\n",
    "                                    'Ap_sq_feet_size':'mean',\n",
    "                                    'Ap_number_of_rooms':'mean',\n",
    "                                    'death_age':'mean',\n",
    "                                    'entrance_age':'mean',\n",
    "                                    'income':['mean','min','max'],\n",
    "                                    'annual_expenses':'mean',\n",
    "                                    'annual_burden':'mean'}).rename(\n",
    "            columns={'ap_index':'Apartments',\n",
    "                     'built_year':'Built Year',\n",
    "                     'affordable_living':'Affordable Living',\n",
    "                     'elderly_lving':'Elderlies',\n",
    "                     'Rental_Units':'Rentals',\n",
    "                     'Ap_sq_feet_size':'Mean Sq Feet',\n",
    "                     'Ap_number_of_rooms':'mean Rooms',\n",
    "                     'death_age':'Death Age',\n",
    "                     'entrance_age':'Entrance Age',\n",
    "                     'income':'Income $',\n",
    "                     'annual_expenses':'Annual Expenses $',\n",
    "                     'annual_burden':'Annual Burden %'}).reset_index()\n",
    "        \n",
    "        for f in ['Mean Sq Feet','mean Rooms','Income $','Death Age','Entrance Age']:\n",
    "            check_ds[f] = check_ds[f].apply(lambda x: round(x,1))\n",
    "        check_ds['Annual Burden %'] = check_ds['Annual Burden %'].apply(lambda x: round(x,3))\n",
    "\n",
    "        return check_ds\n",
    "    \n",
    "    def filter_ds_by_year(self,year_,onlyLiving=False):\n",
    "        ds = self.ds.copy()\n",
    "        if (onlyLiving==True):\n",
    "          date_ = pd.to_datetime(str(year_)+\"-1-1\")\n",
    "          \n",
    "          sample_ds = ridt_agents_obj(\n",
    "              ds[((ds['move_in'] <= (date_)) & \n",
    "                       (ds['death_date']>\n",
    "                                          (date_))) &\n",
    "                      ((ds['move_in'] <= (date_)) & (ds['move_out']>(date_)))\n",
    "                                        ])\n",
    "          return sample_ds\n",
    "        else:\n",
    "          date_ = pd.to_datetime(str(year_)+\"-1-1\")\n",
    "          sample_ds = ridt_agents_obj(\n",
    "              ds[(ds['move_in'] <= (date_)) & \n",
    "                                        (ds['move_out']>\n",
    "                                          (date_))])\n",
    "          return sample_ds\n",
    "    \n",
    "    def filter_ds_by_full_year_date(self,start_year):\n",
    "      end_of_year = pd.to_datetime(str(start_year.year+1)+\"-1-1\")\n",
    "      sample_ds = ridt_agents_obj(\n",
    "          self.ds[(self.ds['move_in'] <= (start_year)) & \n",
    "                  (self.ds['move_out']>=(end_of_year))])\n",
    "      return sample_ds   \n",
    "\n",
    "    def filter_ds_by_year_building(self, year_, bld):\n",
    "      ds_year = self.filter_ds_by_year(year_)\n",
    "      return ridt_agents_obj(ds_year.ds[ds_year.ds['Building Name']==bld])\n",
    "    \n",
    "    def filter_ds_by_building(self, bld):\n",
    "      return ridt_agents_obj(self.ds[self.ds['Building Name']==bld])\n",
    "               \n",
    "    def filter_report(self,sample_date):\n",
    "        sample_ds = ridt_agents_obj(\n",
    "            self.ds[(self.ds['move_in'] <= (sample_date)) & \n",
    "                                       (self.ds['death_date']>=\n",
    "                                        (sample_date))])\n",
    "        return sample_ds.report()\n",
    "    \n",
    "    def year_report_summary(self,c_date):\n",
    "        report =self.filter_report(c_date).copy()\n",
    "        report = report.agg({('Apartments','count'):['sum'],\n",
    "                   ('Affordable Living','sum'):['sum'],\n",
    "                   ('Death Age','mean'):['mean'],\n",
    "                   ('Income $',  'mean'):['mean'],\n",
    "                   ('Income $',  'min'):['mean'],\n",
    "                   ('Income $',  'max'):['mean']}).applymap(lambda x: round(x,1))\n",
    "        return report\n",
    "        \n",
    "    def iterate_all_years_report(self):\n",
    "        for year in range(1976,2025):\n",
    "            c_date = pd.to_datetime(str(year)+\"-1-1\")\n",
    "            print()\n",
    "            print('---------------------- For the Date: '+ str(c_date)[0:9]+' ---------------------------------')\n",
    "            print(self.year_report_summary(c_date).transpose())\n",
    "\n",
    "    def drop(self,dr_ds,field_):\n",
    "      \"\"\"Sepcial Drop, drop by feild for this object\"\"\"\n",
    "      self.ds = (self.ds[~self.ds[field_].isin(dr_ds[field_])]).reset_index(drop=True)\n",
    "\n",
    "    def concat(self, ds_array):\n",
    "      \"\"\"Special Concat for a list of arrawys\"\"\"\n",
    "      for ds in ds_array:\n",
    "        self.ds = pd.concat([self.ds,ds])\n",
    "      self.ds.reset_index(drop=True,inplace=True)\n",
    "    def concat_year(self,ds,c_year):\n",
    "      ds['year'] = c_year\n",
    "      self.ds = pd.concat([self.ds,ds])\n",
    "      self.ds.reset_index(drop=True,inplace=True)\n",
    "\n",
    "\n"
   ]
  },
  {
   "cell_type": "markdown",
   "metadata": {
    "id": "FKDQxHW5mzvg"
   },
   "source": [
    "## agents_from_bld"
   ]
  },
  {
   "cell_type": "code",
   "execution_count": 12,
   "metadata": {
    "id": "VSZe-wWFCLVB"
   },
   "outputs": [],
   "source": [
    "class ridt_agents_from_bld(ridt_agents_obj):\n",
    "\n",
    "    def __init__(self,bldgs_ds):\n",
    "        \"\"\"Creates the original object of agents\"\"\"\n",
    "        #I can use the Function get_standard_agents_from_ap_list to cut on code\n",
    "        self.ds = bldgs_ds.copy()\n",
    "        self.ds['agent_action'] = 'In Building'\n",
    "        self.ds['move_in'] = self.ds['built_year']\n",
    "\n",
    "        ### Setting Birth Day for old Ages\n",
    "        con = self.ds['elderly_lving']==1 #old age condition\n",
    "        count_elderlies = len(self.ds[con].index)\n",
    "        old_ages = ridt_demographic.sample_ages(count_elderlies,'Old')\n",
    "        self.ds.loc[con,'birth_date'] = self.ds.loc[con,'move_in'].dt.year - old_ages\n",
    "        #self.ds.loc[con,'birth_date'] = self.ds.loc[con,'birth_date'].apply(lambda x: str(x)+\n",
    "        #                                                                       \"-\"+str(random.randint(1,12))+\"-\"+str(random.randint(1,28)))\n",
    "        ###Setting Birthday for Youngsters\n",
    "        con = self.ds['elderly_lving']==0 #old age condition\n",
    "        count_young = len(self.ds[con].index)\n",
    "        young_ages = ridt_demographic.sample_ages(count_young,'hud_1975')\n",
    "        self.ds.loc[con,'birth_date'] = self.ds.loc[con,'move_in'].dt.year - young_ages\n",
    "        \n",
    "        self.ds['birth_date'] = self.ds['birth_date'].apply(int)\n",
    "        self.ds['birth_date'] = self.ds['birth_date'].apply(lambda x: str(x)+\"-\"+str(random.randint(1,12))+\"-\"+str(random.randint(1,28)))\n",
    "        self.ds['birth_date'] = pd.to_datetime(self.ds['birth_date'])\n",
    "        #death age\n",
    "        self.ds['death_date'] = self.ds.apply(ridt_demographic.death_date_calculator2,axis=1)\n",
    "        self.ds['death_age'] = self.ds['death_date'].dt.year-self.ds['birth_date'].dt.year\n",
    "        self.ds['entrance_age'] = self.ds['move_in'].dt.year-self.ds['birth_date'].dt.year\n",
    "        self.ds['move_out'] = self.ds['death_date']\n",
    "        self.ds['cause'] = 'death'\n",
    "        #agents_ds['income'] = [i for i in agents_ds.index]\n",
    "        self.ds.loc[self.ds['Low_income'].isnull(),'Low_income'] = ridt_info.non_affordable['min']\n",
    "        self.ds.loc[self.ds['Upper_income'].isnull(),'Upper_income'] = ridt_info.non_affordable['max']\n",
    "        self.ds['Low_income'] = self.ds['Low_income'].astype(int)\n",
    "        self.ds['Upper_income'] = self.ds['Upper_income'].astype(int)\n",
    "        self.ds['income']  = self.ds.apply(lambda x: random.randint(x['Low_income'],x['Upper_income']),axis=1)\n",
    "        #App_datasets['income'] =  App_datasets.apply(lambda x: int(random.uniform(1.48,2.0)*ridt_info.ami_100_percent), axis=1) \n",
    "        self.ds['annual_return_mortgage'] = 0\n",
    "        self.ds['annual_hoa_expenses'] = 0\n",
    "        #self.ds['annual_utilities'] = 0           \n",
    "        self.ds['annual_expenses'] = 0\n",
    "        self.ds['annual_burden'] = 0\n",
    "        self.ds['agentID'] = [uuid.uuid4() for _ in range(len(self.ds.index))]\n",
    "        self.ds['previous_agentID']='0'\n",
    "        self.ds['tenant_cycle'] =0\n",
    "        self.ds['comment 1']=''\n",
    "        self.ds['comment 2']=''\n",
    "    \n",
    "\n",
    "\n",
    "    @staticmethod\n",
    "    def get_agents_from_ap_list(bld_obj,bld_name,ap_list,bld_type,move_in_date,comment):\n",
    "      sb = bld_obj.get_ap_data_from_specific_building(bld_name,ap_list)\n",
    "      ads = ridt_agents_from_bld.get_standard_agents_from_ap_list(sb,move_in_date)\n",
    "      if (bld_type=='Partial_Market'):\n",
    "        ads['affordable_living'] = 0\n",
    "        ads['comment 1'] = comment\n",
    "        ads['Rental_Units'] = 0\n",
    "        ads['protected'] = False\n",
    "        ads['ApartmentType'] = 'Other'\n",
    "\n",
    "      return ads\n",
    "\n",
    "    @staticmethod\n",
    "    def get_standard_agents_from_ap_list(sb,move_in_date,bld_type='Partial_Market'):\n",
    "      #I can merge both functions! (Init and this funciton)\n",
    "      ads = sb.copy()\n",
    "      ads['agent_action'] = 'In Building'\n",
    "      ads['move_in'] = move_in_date\n",
    "      if (bld_type=='Partial_Market'):\n",
    "        count_pop = len(ads.index)\n",
    "        young_ages = ridt_demographic.sample_ages(count_pop,'Young')\n",
    "        ads['birth_date'] = ads['move_in'].dt.year - young_ages\n",
    "      else:\n",
    "        ads = ridt_agents_from_bld.birth_date_diff(ads)\n",
    "      ads['birth_date'] = ridt_agents_from_bld.fix_birthdate(ads)\n",
    "      #death age\n",
    "      ads['death_date'] = ads.apply(ridt_demographic.death_date_calculator2,axis=1)\n",
    "      ads['death_age'] = ads['death_date'].dt.year-ads['birth_date'].dt.year\n",
    "      ads['entrance_age'] = ads['move_in'].dt.year-ads['birth_date'].dt.year\n",
    "      ads['move_out'] = ads['death_date']\n",
    "      ads['cause'] = 'death'\n",
    "      #agents_ds['income'] = [i for i in agents_ds.index]\n",
    "      #non_affordable = ridt_info.non_affordable_approximation(ads['move_in'].year)\n",
    "      ads.loc[ads['Low_income'].isnull(),'Low_income'] = ridt_info.non_affordable['min']\n",
    "      ads.loc[ads['Upper_income'].isnull(),'Upper_income'] = ridt_info.non_affordable['max']\n",
    "      #ads.loc[ads['Low_income'].isnull(),'Low_income'] = non_affordable['min'] # test\n",
    "      #ads.loc[ads['Upper_income'].isnull(),'Upper_income'] = non_affordable['max'] # test\n",
    "      ads['Low_income'] = ads['Low_income'].astype(int)\n",
    "      ads['Upper_income'] = ads['Upper_income'].astype(int)\n",
    "      ads['income']  = ads.apply(lambda x: random.randint(x['Low_income'],x['Upper_income']),axis=1)\n",
    "      #App_datasets['income'] =  App_datasets.apply(lambda x: int(random.uniform(1.48,2.0)*ridt_info.ami_100_percent), axis=1) \n",
    "      ads['annual_utilities'] = 0\n",
    "      ads['annual_return_mortgage'] = 0\n",
    "      ads['annual_hoa_expenses'] = 0\n",
    "      #self.ds['annual_utilities'] = 0           \n",
    "      ads['annual_expenses'] = 0\n",
    "      ads['annual_burden'] = 0\n",
    "      ads['agentID'] = [uuid.uuid4() for _ in range(len(ads.index))]\n",
    "      ads['previous_agentID']='0'\n",
    "      ads['tenant_cycle'] =0\n",
    "      ads['comment 1']=''\n",
    "      ads['comment 2']=''      \n",
    "      return ads\n",
    "\n",
    "    @staticmethod\n",
    "    def fix_birthdate(ads,field_='birth_date'):\n",
    "      ads1 = ads.copy()\n",
    "      ads1[field_] = ads1[field_].apply(int)\n",
    "      ads1[field_] = ads1[field_].apply(lambda x: str(x)+\"-\"+str(random.randint(1,12))+\"-\"+str(random.randint(1,28)))\n",
    "      return (pd.to_datetime(ads1[field_]))\n",
    "\n",
    "    @staticmethod\n",
    "    def birth_date_diff(ads):\n",
    "        ### Setting Birth Day for old Ages\n",
    "        con = ads['elderly_lving']==1 #old age condition\n",
    "        count_elderlies = len(ads[con].index)\n",
    "        old_ages = ridt_demographic.sample_ages(count_elderlies,'Old')\n",
    "        ads.loc[con,'birth_date'] = ads.loc[con,'move_in'].dt.year - old_ages\n",
    "        #### Youngsters\n",
    "        con = ads['elderly_lving']==0 #old age condition\n",
    "        count_young = len(ads[con].index)\n",
    "        young_ages = ridt_demographic.sample_ages(count_young,'Young')\n",
    "        ads.loc[con,'birth_date'] = ads.loc[con,'move_in'].dt.year - young_ages\n",
    "        return ads\n",
    "\n",
    "\n",
    "      "
   ]
  },
  {
   "cell_type": "code",
   "execution_count": 13,
   "metadata": {
    "id": "56xHW6ySCNUZ"
   },
   "outputs": [],
   "source": [
    "class ridt_bldg_obj:\n",
    "    def __init__(self,cb):\n",
    "        \"\"\"The object recieves the json row and returns an object of a specfic building with it's info\"\"\"\n",
    "        self.name_ = cb['Bldg Proje']\n",
    "        self.bldg_key = cb['bldgs_id']\n",
    "        self.constr_date = pd.to_datetime(cb['cnstrct_yr'].astype(str)+\"-1-\"+\"1\")\n",
    "        self.heightroof = cb['heightroof']\n",
    "        self.address = cb['Address']\n",
    "        self.total_units = cb['Total Unit']\n",
    "        self.affordable_units = cb['Afford_uni'].astype(int)\n",
    "        self.elderly = cb['elderly_affordable']\n",
    "        self.affordable =cb['non_elderly_affordable']\n",
    "        self.affordable_Cat = cb['affordable_Cat']\n",
    "        self.affordable_sub = cb['affordable_sub']\n",
    "        self.rental_units = cb['Rental_Units']\n",
    "        self.protected = cb['protected']\n",
    "        self.geometry = cb['geometry']\n",
    "    \n",
    "    @staticmethod    \n",
    "    def get_cb(cb):\n",
    "        \"\"\"return a cb object\"\"\"\n",
    "        return ridt_bldg_obj(cb)\n",
    "        "
   ]
  },
  {
   "cell_type": "markdown",
   "metadata": {
    "id": "OpGtIg7958FH"
   },
   "source": [
    "## WIRE 🏬"
   ]
  },
  {
   "cell_type": "code",
   "execution_count": 14,
   "metadata": {
    "id": "ohmsEMuNCPbS"
   },
   "outputs": [],
   "source": [
    "class ridt_WIRE:\n",
    "    wire_projects = pd.Series(['Roosevelt Landings','Rivercross','island house','Westview'])\n",
    "    wire_dict = {'island house': '543_585',\n",
    "     'Roosevelt Landings': '500_580',\n",
    "     'Rivercross': '501_541',\n",
    "     'Westview': '587_625'}\n",
    "    \n",
    "    @staticmethod\n",
    "    def updateRoomsInWire(cb,App_datasets):\n",
    "        \"\"\"Update Number of Rooms in WIRE\"\"\"\n",
    "        #bldg_name = cb['Bldg Proje']\n",
    "        bldg_name = cb.name_\n",
    "        # Check IF WIRE!\n",
    "        if bldg_name in ridt_WIRE.wire_dict.keys():\n",
    "            wbd_subset = wire_bldg_data[wire_bldg_data['bld_name']==bldg_name].reset_index(drop=True) #Wire Buidling Data Subset\n",
    "            f_c=0 #floor_count\n",
    "            for j in wbd_subset.index:\n",
    "                wbds_room_subset = wbd_subset.loc[j]\n",
    "                elderly_flag=0\n",
    "                if (wbds_room_subset['Elderly']==1):\n",
    "                    elderly_flag=1\n",
    "                r_c=wbds_room_subset['Units']+f_c #roof_count\n",
    "                App_datasets.loc[f_c:r_c-1,'Ap_number_of_rooms'] =wbds_room_subset['Bedroom'] \n",
    "                App_datasets.loc[f_c:r_c-1,'Ap_sq_feet_size'] =wbds_room_subset['sq_feet'] \n",
    "                f_c = r_c\n",
    "            return App_datasets\n",
    "        else:\n",
    "            return App_datasets\n",
    "      \n",
    "    @staticmethod\n",
    "    def update_Wire_To_Market_rate(p_ds,bldg_events,df_ts_1):\n",
    "      \"\"\"This function updates the Populatino Time Series according to the WIRE Scenario\n",
    "      Input\n",
    "      -----\n",
    "      p_ds: building object (information about building)\n",
    "      bldg_events: the events of the building\n",
    "      df_ts_1: Population TimeSeries\n",
    "      Output\n",
    "      ------\n",
    "      the simulation returns a new dataset with the agents modification according to WIRE Scenario\"\"\"\n",
    "      bld_ts = ridt_buildings_ts_obj(p_ds.json_bldgs, bldg_events) #Adds time series to the building DS\n",
    "      abe = bld_ts.ds[bld_ts.ds['Event']!=\"No Events\"] # Will need to update for non WIRE eventually\n",
    "      bld_list = list(abe['Bldg Proje'].unique())\n",
    "      df_ts_2 = ridt_agents_ts_obj(df_ts_1.ds, False)\n",
    "      df_ts_2 = ridt_WIRE.updtate_write_to_market_rate_iterate_bld_list(bld_list,abe,df_ts_2,bld_ts,p_ds)\n",
    "      return(df_ts_2)\n",
    "  \n",
    "    @staticmethod\n",
    "    def updtate_write_to_market_rate_iterate_bld_list(bld_list,abe,df_ts_2,bld_ts,p_ds):\n",
    "      for cb in bld_list:\n",
    "        if cb in ridt_WIRE.wire_dict.keys():\n",
    "          fe = abe.loc[(abe['Bldg Proje']==cb)& (abe['Event']=='Flaged')].squeeze() #fe flaged Event\n",
    "          rc = ridt_agents_ts_obj(df_ts_2.filter_ds_by_building(fe['Bldg Proje']).ds,False)\n",
    "          rc.buy_in_buy_out(fe)\n",
    "          df_ts_2.drop(rc.ds,\"Building Name\") # Remove from the main dataset Rivercross\n",
    "          #rc.report_buy_out()\n",
    "          #rc.report_buy_in()\n",
    "          pem = abe.loc[(abe['Bldg Proje']==cb)& (abe['Event']=='Market Rate')].squeeze() #me market event Market rate pilot for Rivercros\n",
    "          rc.update_cleanup_agents()\n",
    "          se = pem.start_event #start event\n",
    "          ee = pem.end_event\n",
    "          b_ds = rc.copy() # switching to procedures\n",
    "          ridt_agents_ts_obj.iterate_years_update_market(se,ee,b_ds,bld_ts,cb,p_ds,'Partial_Market','Market Buy',False)\n",
    "          df_ts_2.concat([b_ds.ds])\n",
    "          \n",
    "        else:\n",
    "          continue\n",
    "      return df_ts_2\n",
    "    "
   ]
  },
  {
   "cell_type": "markdown",
   "metadata": {
    "id": "-J67rdg3Ky82"
   },
   "source": [
    "## NorthTown🏢"
   ]
  },
  {
   "cell_type": "code",
   "execution_count": 15,
   "metadata": {
    "id": "gmr739lYK4q7"
   },
   "outputs": [],
   "source": []
  },
  {
   "cell_type": "markdown",
   "metadata": {
    "id": "YRIFyGQkivBi"
   },
   "source": [
    "## bldgs"
   ]
  },
  {
   "cell_type": "code",
   "execution_count": 15,
   "metadata": {
    "id": "t-7kRsSwChFc"
   },
   "outputs": [],
   "source": [
    "class ridt_bldgs:\n",
    "    def generate_properties_in_bldg(cb1_):\n",
    "        #cb1_ = ridt_bldg_obj.get_cb(cb_)    \n",
    "        \"\"\"The Function recieves the current building \n",
    "        and returns the properties and it's properties\"\"\"\n",
    "        total_units = cb1_.total_units #Total number of Agents in the building\n",
    "        bld_key = [cb1_.bldg_key]*total_units #Defines the number of the building\n",
    "        property_ds = {'ap_index' : [i for i in range(total_units)],\n",
    "                      'bld_key' : bld_key} # define the dictionary for the dataset\n",
    "        App_datasets = pd.DataFrame.from_dict(property_ds)\n",
    "        #The building key and the door number\n",
    "        App_datasets['address_door']=App_datasets['bld_key']+\"_\"+App_datasets['ap_index'].astype(str)\n",
    "        #Building Name\n",
    "        App_datasets['Building Name'] = cb1_.name_\n",
    "        #Building construction year\n",
    "        #construct_year = pd.to_datetime(cb['cnstrct_yr'].astype(str)+\"-1-\"+\"1\")\n",
    "        #Construction year\n",
    "        App_datasets['built_year']= cb1_.constr_date\n",
    "        #is the apartment orginaly affordable?\n",
    "        App_datasets['affordable_living'] = 0\n",
    "        # by default all the apartments are not for elderly\n",
    "        App_datasets['elderly_lving'] = 0\n",
    "        #by default apartments are non rnetal\n",
    "        App_datasets['Rental_Units'] = 0\n",
    "        #by default apartments are non rental\n",
    "        App_datasets['ApartmentType'] = 'Other'\n",
    "        App_datasets['annual_utilities'] = 0\n",
    "        if cb1_.rental_units>0:\n",
    "            App_datasets.loc[0:cb1_.rental_units-1,'Rental_Units'] = 1\n",
    "            App_datasets.loc[0:cb1_.rental_units-1,'ApartmentType'] = 'Rental'\n",
    "            App_datasets.loc[0:cb1_.rental_units-1,'annual_utilities'] = 3000\n",
    "\n",
    "        App_datasets['Ap_sq_feet_size'] = 1364 # default\n",
    "        App_datasets['Ap_number_of_rooms'] = 2 # default\n",
    "        if cb1_.protected=='1':\n",
    "            App_datasets['protected']=True\n",
    "        else:\n",
    "            App_datasets['protected']=False\n",
    "        ela = cb1_.elderly #elderly living agents\n",
    "        if ela>0:\n",
    "            # Check if it's wire if not all other cases\n",
    "            App_datasets.loc[0:ela,'elderly_lving'] = 1\n",
    "        if cb1_.affordable_units>0:\n",
    "            App_datasets.loc[0:cb1_.affordable_units,'affordable_living'] = 1\n",
    "        return App_datasets\n",
    "    \n",
    "    def afford_price_range_NotWIRE(cb,App_datasets):\n",
    "        \"\"\"generates income range min and max for Non WIRE\n",
    "        in addition it generates Upper Income\n",
    "        cb: current building\n",
    "        App_datasets: property dataset in the current building\"\"\"\n",
    "         #calculate affordability according to the building\n",
    "        year_ = cb.constr_date.year\n",
    "        affordable_units = cb.affordable_units\n",
    "        non_affordable = ridt_info.non_affordable_approximation(year_)\n",
    "        if affordable_units>0:\n",
    "            #Needs modification\n",
    "            cat = cb.affordable_Cat\n",
    "            type_ = ridt_info.affordable_models[cat]['type']\n",
    "            \n",
    "            if (type_=='default'):\n",
    "                a_type = cb.affordable_sub\n",
    "                income_min,income_max = ridt_agent.helper_function_2_cal_income(a_type,cat,year_)\n",
    "                App_datasets.loc[0:affordable_units-1,'Low_income'] = income_min\n",
    "                App_datasets.loc[0:affordable_units-1,'Upper_income'] = income_max\n",
    "                #Upper Income Needs \n",
    "                App_datasets.loc[affordable_units :,'Low_income'] = non_affordable['min']\n",
    "                App_datasets.loc[affordable_units :,'Upper_income'] = non_affordable['max']\n",
    "\n",
    "            else:\n",
    "                # SouthTown Affordable\n",
    "                App_datasets = ridt_bldgs.south_town_calc_rental(App_datasets,cb,cat,year_)\n",
    "        else:\n",
    "            \"\"\"for a given building the function claculates the income\"\"\"\n",
    "            App_datasets['Low_income'] = non_affordable['min']\n",
    "            App_datasets['Upper_income'] = non_affordable['max']\n",
    "        return App_datasets\n",
    "    \n",
    "    @staticmethod\n",
    "    def south_town_calc_rental(App_datasets,cb,cat,year_):\n",
    "            affordable_units = cb.affordable_units\n",
    "            a_ap_percent = ridt_info.affordable_models[cat]['a']['ap_percent']\n",
    "            a_max = int(np.floor(a_ap_percent*affordable_units))\n",
    "            income_min,income_max = ridt_agent.helper_function_2_cal_income('a',cat,year_)\n",
    "            App_datasets.loc[0:a_max-1,'Low_income'] = income_min\n",
    "            App_datasets.loc[0:a_max-1,'Upper_income'] = income_max\n",
    "            b_ap_percent = ridt_info.affordable_models[cat]['b']['ap_percent']\n",
    "            b_max = a_max+int(np.floor(b_ap_percent*affordable_units))\n",
    "            income_min,income_max = ridt_agent.helper_function_2_cal_income('b',cat,year_)\n",
    "            App_datasets.loc[a_max:a_max+b_max-1,'Low_income'] = income_min\n",
    "            App_datasets.loc[a_max:a_max+b_max-1,'Upper_income'] = income_max\n",
    "            #upper income\n",
    "            non_affordable = App_datasets.apply(lambda x:ridt_info.get_Income_based_on_marketRent_and_size_year(x['Ap_sq_feet_size'],x['built_year'].year),axis=1)\n",
    "            App_datasets.loc[a_max+b_max:,'Low_income'] = non_affordable['min']\n",
    "            App_datasets.loc[a_max+b_max:,'Upper_income'] = non_affordable['max']\n",
    "            return App_datasets\n",
    "\n",
    "    def afford_price_range(cb,App_datasets):\n",
    "        #bldg_name = cb['Bldg Proje'] # Old Code\n",
    "        bldg_name = cb.name_\n",
    "        # Check IF WIRE!\n",
    "        if bldg_name in ridt_WIRE.wire_dict.keys():\n",
    "            #distrivute agents to rooms and prices\n",
    "            wbd_subset = wire_bldg_data[wire_bldg_data['bld_name']==bldg_name].reset_index(drop=True) #Wire Buidling Data Subset\n",
    "            f_c=0 #floor_count\n",
    "            for j in wbd_subset.index:\n",
    "                wbds_room_subset = wbd_subset.loc[j]\n",
    "                low_t = wbds_room_subset['Low_today']\n",
    "                up_t = wbds_room_subset['Upper_today']\n",
    "                r_c=wbds_room_subset['Units']+f_c #roof_count\n",
    "                App_datasets.loc[f_c:r_c-1,'Low_income'] = low_t\n",
    "                App_datasets.loc[f_c:r_c-1,'Upper_income'] = up_t\n",
    "                f_c = r_c\n",
    "        else:\n",
    "            App_datasets=ridt_bldgs.afford_price_range_NotWIRE(cb,App_datasets)\n",
    "        return App_datasets\n",
    "\n",
    "    def get_avilable_index_units(remove_agents, bld_ts,bld_name):\n",
    "      tu = bld_ts.ds[bld_ts.ds['Bldg Proje']==bld_name].iloc[0]['Total Unit']\n",
    "      ap_index = np.array([ i for i in range(tu)])\n",
    "      avilable_index = np.delete(ap_index, remove_agents['ap_index'])\n",
    "      return avilable_index\n"
   ]
  },
  {
   "cell_type": "markdown",
   "metadata": {
    "id": "UnAADQPtYjbr"
   },
   "source": [
    "##RIDT_Properites"
   ]
  },
  {
   "cell_type": "code",
   "execution_count": 16,
   "metadata": {
    "id": "sVTtLO2RCjsn"
   },
   "outputs": [],
   "source": [
    "class ridt_properties:\n",
    "    # default constructor \n",
    "    def __init__(self,js_bldgs):\n",
    "        \"\"\"Recieves json building file and returns a property dataset\n",
    "        js_bldgs: json_bldgs\n",
    "        \"\"\"\n",
    "        self.json_bldgs = js_bldgs\n",
    "        self.bldgs_list = js_bldgs['Bldg Proje'].unique()\n",
    "        ridt_widgets.select_bldg = widgets.Dropdown(\n",
    "          options=self.bldgs_list,\n",
    "          value=\"Rivercross\",\n",
    "          description='Bldgs:'\n",
    "          )\n",
    "        self.ds = self.iterate_json_bldgs()\n",
    "        self.bldg_dict = self.ApartmentType_according_to_dict()\n",
    "        \n",
    "    def iterate_json_bldgs(self):\n",
    "        \"\"\"Iterates through each json_bldg index and creates property dataset\"\"\"\n",
    "        count = 0\n",
    "        for i in (self.json_bldgs.index):\n",
    "            cb = self.json_bldgs.loc[i]#current building\n",
    "            cb_ = ridt_bldg_obj(cb)\n",
    "            App_datasets = ridt_bldgs.generate_properties_in_bldg(cb_)\n",
    "            App_datasets = ridt_WIRE.updateRoomsInWire(cb_,App_datasets)\n",
    "            App_datasets = ridt_bldgs.afford_price_range(cb_,App_datasets)\n",
    "            #Need to update AMI in all apartments!!!!!!!\n",
    "\n",
    "            if (count==0): # First iteration\n",
    "                property_df = App_datasets\n",
    "                count += 1\n",
    "            else:\n",
    "                frames = [property_df,App_datasets]\n",
    "                property_df = pd.concat(frames)\n",
    "        property_df.reset_index(inplace=True,drop=True)\n",
    "        return property_df\n",
    "    \n",
    "    def get_ap_data_from_specific_building(self,bld_name, ap_list):\n",
    "      subset = self.ds[self.ds['Building Name']==bld_name].copy()\n",
    "      sebset2 = subset[subset['ap_index'].isin(ap_list)]\n",
    "      return sebset2\n",
    "      \n",
    "    \n",
    "    def report(self):\n",
    "      \"\"\"Report buildings list according to building name\"\"\"\n",
    "\n",
    "      check_ds_gb = self.ds.groupby('Building Name')      \n",
    "      check_ds = check_ds_gb.agg({'ap_index':'count','built_year':'first','affordable_living':'sum',\n",
    "                                  'elderly_lving':'sum','Rental_Units':'sum',\n",
    "                                  'Ap_sq_feet_size':'mean',\n",
    "                                  'Ap_number_of_rooms':'mean',\n",
    "                                  'Low_income':'mean',\n",
    "                                  'Upper_income':'mean'}).rename(\n",
    "          columns={'ap_index':'Apartments',\n",
    "                    'built_year':'Built Year',\n",
    "                    'affordable_living':' Affordable Living',\n",
    "                    'elderly_lving':'Elderlies',\n",
    "                    'Rental_Units':'Rentals',\n",
    "                    'Ap_sq_feet_size':'Mean Sq Feet',\n",
    "                    'Ap_number_of_rooms':'mean Rooms',\n",
    "                    'Low_income':'Lower $',\n",
    "                    'Upper_income':'Upper $'}).reset_index()\n",
    "      \n",
    "      for f in ['Mean Sq Feet','mean Rooms','Lower $','Upper $']:\n",
    "          check_ds[f] = check_ds[f].apply(lambda x: round(x,1))\n",
    "\n",
    "      return check_ds\n",
    "\n",
    "    def ApartmentType_according_to_dict(self):\n",
    "      \"\"\"return a dictionary of building types\"\"\"\n",
    "      building_dict = self.json_bldgs[['bldgs_id','cnstrct_yr','Bldg Proje','Category']].copy()\n",
    "      building_dict.loc[building_dict['bldgs_id'].isin(['10-40','888','4_2']),'Group']='NorthTown'\n",
    "      building_dict.loc[building_dict['bldgs_id'].isin(['1_E']),'Group']='Other'\n",
    "      building_dict.loc[building_dict['bldgs_id'].isin(['425','480','455','415','405','465','475','460']),'Group']='SouthTown'\n",
    "      building_dict.loc[building_dict['Group'].isnull(),'Group']='WIRE'\n",
    "      return building_dict\n"
   ]
  },
  {
   "cell_type": "code",
   "execution_count": 17,
   "metadata": {
    "id": "11nocOCDCmBH"
   },
   "outputs": [],
   "source": [
    "class ridt_agent_obj:\n",
    "    \n",
    "    def __init__(self,agent):\n",
    "        self.birth_date = agent['birth_date']\n",
    "        self.death_date = agent['death_date']\n",
    "        self.entrance_age = agent['entrance_age']\n",
    "        self.death_age = agent['death_age']\n",
    "        self.bld_key = agent['bld_key']\n",
    "        self.bdl_key_door = agent['address_door']\n",
    "        self.bld_name = agent['Building Name']\n",
    "        self.affordable_living =agent['affordable_living']\n",
    "        self.apartment_type = agent['ApartmentType']\n",
    "        self.sq_feet = agent['Ap_sq_feet_size']\n",
    "        self.rooms = agent['Ap_number_of_rooms']\n",
    "        self.protected = agent['protected']\n",
    "        self.elderly = agent['elderly_lving']\n",
    "        self.income = agent['income']\n",
    "        self.action = agent['agent_action']\n",
    "        self.move_in = agent['move_in']\n",
    "        self.move_out = agent['move_out']\n",
    "        self.cause_moveout = agent['cause']\n",
    "        self.agentID = agent['agentID']\n",
    "        self.previous_agentID = agent['previous_agentID']\n",
    "        #self.tenant_cycle = agent['Ap_tenant_cycle']\n",
    "        self.tenant_cycle = 0\n",
    "        self.comment_1 = agent['comment 1']\n",
    "        self.comment_2 = agent['comment 2']\n",
    "    \n",
    "    def print_entrance_exit_birth_death(self):\n",
    "        \"\"\"proivde information regarding agent for replacement - helper agent\"\"\"\n",
    "        print('Birthdate '+ str(self.birth_date))\n",
    "        print('Deathdate '+ str(self.death_date))\n",
    "        print('MoveIn '+ str(self.move_in))\n",
    "        print('MoveOot '+ str(self.move_out))\n",
    "        print('Agent '+ str(self.agentID)[0:5])\n",
    "        print('previous Agent ' + str(self.previous_agentID)[0:5])\n",
    "        print('cycle '+ str(self.tenant_cycle))\n",
    "\n",
    "    #generating agents till end of simulation\n",
    "    #modify agent\n",
    "    #duplicate agent\n",
    "    #in case of buyout cancel all future tenants"
   ]
  },
  {
   "cell_type": "markdown",
   "metadata": {
    "id": "gbhHKWKMcgoL"
   },
   "source": [
    "## ridt_agents_ts_obj ⏳"
   ]
  },
  {
   "cell_type": "code",
   "execution_count": 18,
   "metadata": {
    "id": "pmfdNVw5CnpD"
   },
   "outputs": [],
   "source": [
    "class ridt_agents_ts_obj(ridt_agents_obj):\n",
    "    last_date = pd.to_datetime((datetime.date(2100, 1, 1)))\n",
    "    def __init__(self,agents_ds,flag=True):\n",
    "        \n",
    "        \"\"\"recieves agentds_ds: and returns a time series agents dataset\"\"\"\n",
    "        if flag:\n",
    "            datr = agents_ds.loc[agents_ds['death_date']<ridt_agents_ts_obj.last_date].copy() # select all the dead agents Simulation Ends\n",
    "            iteration = 0\n",
    "            new_agents_accumulator = pd.DataFrame()\n",
    "            while iteration < 15:\n",
    "                if (iteration >0):\n",
    "                    conc_ = [new_agents_accumulator,datr]\n",
    "                    new_agents_accumulator = pd.concat(conc_)\n",
    "                    datr = datr.loc[datr['death_date']<ridt_agents_ts_obj.last_date].copy() # select all the dead agents Simulation Ends\n",
    "                    print('Total Dead Agents remaining to replace: '+ str(check))\n",
    "                check = len( datr.index)\n",
    "                if check<5:\n",
    "                        iteration = 30\n",
    "                        print('goal Reached')\n",
    "                else:\n",
    "                    datr = ridt_agents_ts_obj.replace_dead_tenants_once(datr)\n",
    "                iteration +=1\n",
    "            print('out of loop')\n",
    "            conc_ = [new_agents_accumulator,datr]\n",
    "            new_agents_accumulator = pd.concat(conc_)\n",
    "            self.ds = pd.concat([agents_ds,new_agents_accumulator])\n",
    "            self.ds.reset_index(inplace=True,drop=True)\n",
    "        else:\n",
    "            self.ds = agents_ds.copy()\n",
    "\n",
    "    def copy(self):\n",
    "      \"\"\"Copy Myself\"\"\"\n",
    "      return ridt_agents_ts_obj(self.ds,False)\n",
    "\n",
    "    ### Need to add an iterating flag to call for buy-out and buy-in agents\n",
    "    def buy_out(self,b_events):\n",
    "        \"\"\"Future proejct to iterate all the building events\"\"\"\n",
    "        pass\n",
    "    \n",
    "    def filter_by_list_of_bld_keys(self,list_of_Bldg):\n",
    "      return ridt_agents_ts_obj(self.ds.loc[self.ds['bld_key'].isin(list_of_Bldg)],False)\n",
    "\n",
    "    def remove_dead_agents_for_year(self,start_year):\n",
    "      \"\"\"return dead agents of this year\"\"\"\n",
    "      end_of_year = pd.to_datetime(str(start_year.year+1)+\"-1-1\")\n",
    "      dead_agents = self.ds[(self.ds['death_date']>=start_year) &(self.ds['death_date']<end_of_year)]\n",
    "      return dead_agents\n",
    "\n",
    "    def remove_protected_for_year(self,start_year):\n",
    "      \"\"\"return dead protected agents\"\"\"\n",
    "      #protected\n",
    "      ag_sub = self.filter_ds_by_full_year_date(start_year)\n",
    "      ag_sub_protected = ag_sub.ds[ag_sub.ds['protected']==True]\n",
    "      return ag_sub_protected \n",
    "\n",
    "    def find_agents_to_remove_market_rate_for_year(self,start_year, pilot_):\n",
    "      \"\"\"\"\"\"\n",
    "      end_of_year = pd.to_datetime(str(start_year.year+1)+\"-1-1\")\n",
    "      ag_sub = self.filter_ds_by_full_year_date(start_year)\n",
    "      dead_agents = self.ds[(self.ds['death_date']>=start_year) &(self.ds['death_date']<end_of_year)]\n",
    "      renters_only = ag_sub.ds[ag_sub.ds['Rental_Units']==1].copy()\n",
    "      #Need to update the conditions to match \n",
    "      if pilot_==True:\n",
    "        utilities_burden_ag = renters_only[renters_only['annual_burden']>0.02] #arbitrary number for now!!! not real\n",
    "        Agents_to_displace = pd.concat([dead_agents,utilities_burden_ag])\n",
    "      else:\n",
    "        ub = ridt_agent_economy.utilities_burden\n",
    "        mb = ridt_agent_economy.mortgage_burden\n",
    "        utilities_burden_ag = (ag_sub.ds[ag_sub.ds['annual_expenses_burden']>=ub]).copy()\n",
    "        mortgage_burden_age = (ag_sub.ds[ag_sub.ds['annual_mortgage_burden']>=mb]).copy()\n",
    "        burden_agents = pd.concat([utilities_burden_ag,mortgage_burden_age])\n",
    "        Agents_to_displace = pd.concat([dead_agents,burden_agents])\n",
    "\n",
    "      Agents_to_displace.drop_duplicates(inplace=True)\n",
    "      return Agents_to_displace\n",
    "\n",
    "    def buy_in_buy_out(self, ce):\n",
    "      \"\"\"This Function retreives the building event\n",
    "      and Updates the Buy in and Buy Out Status\"\"\"\n",
    "      self.buy_out_specific_building(ce)\n",
    "      self.buy_in_specific_building(ce)\n",
    "\n",
    "    def buy_out_specific_building(self,ce):\n",
    "        \"\"\"updates data set, choose 1% of tenants who buy out\n",
    "        the function also calls for future cycle tenats and removes them.\n",
    "        sd: specific buidling\"\"\"\n",
    "        con1 = self.ds['Building Name']==ce['Bldg Proje']\n",
    "        #active agents start action needs to be before start date and end action after end date\n",
    "        con2 = ((self.ds['move_in']<=ce['start_event']) & \n",
    "        (self.ds['move_out']>= ce['end_event'])) & (self.ds['elderly_lving']==0) & (self.ds['comment 1']=='')\n",
    "        safsb = self.ds[con1 & con2].copy() #select agents from selected building\n",
    "        # sample 1% of the agents and save a copy of them (those will buy out!!!)\n",
    "        safsb_buy_out = safsb.sample(frac=0.01) # 1% buy out\n",
    "        self.drop_future_agent_cycles(safsb_buy_out)\n",
    "        safsb_buy_out['cause']='Buy Out'\n",
    "        safsb_buy_out['comment 1']='55000$'\n",
    "        safsb_buy_out['move_out'] = ridt_random.random_dates_list(ce['start_event'],ce['end_event'],len(safsb_buy_out.index))\n",
    "        self.ds.loc[safsb_buy_out.index] = safsb_buy_out\n",
    "        self.ds.reset_index(inplace=True,drop=True)\n",
    "\n",
    "    def buy_in_specific_building(self,ce):\n",
    "        \"\"\"updates data set, choose 1# of tenants who buy out\n",
    "        the function also calls for future cycle tenats and removes them.\n",
    "        sd: specific buidling\"\"\"\n",
    "        con1 = self.ds['Building Name']==ce['Bldg Proje']\n",
    "        self.ds[con1]\n",
    "        #active agents start action needs to be before start date and end action after end date\n",
    "        con2 = ((self.ds['move_in']<=ce['start_event']) & \n",
    "        (self.ds['move_out']>= ce['end_event'])) & ((self.ds['elderly_lving']==0) & (self.ds['comment 1']==''))\n",
    "        safsb = self.ds[con1 & con2].copy() #select agents from selected building\n",
    "        # sample 1% of the agents and save a copy of them (those will buy out!!!)\n",
    "        safsb_buy_in = safsb.sample(frac=0.03) # 1% buy out\n",
    "        self.drop_future_agent_cycles(safsb_buy_in) ###!!!!! NEEED TO DECIDE WHAT HAPPENDS to FUTURE CYCLE after Death\n",
    "        safsb_buy_in['cause']='Buy IN'\n",
    "        safsb_buy_in['comment 1']='55000$'\n",
    "        safsb_buy_in['comment 2']=''\n",
    "        safsb_buy_in['move_out'] = ridt_random.random_dates_list(ce['start_event'],ce['end_event'],len(safsb_buy_in.index))\n",
    "        self.ds.loc[safsb_buy_in.index] = safsb_buy_in\n",
    "        #add the same agent now as a BUYER\n",
    "        safsb_buy_in['cause']='death'\n",
    "        #safsb_buy_in['cause']='Buy IN'\n",
    "        safsb_buy_in['move_in'] = safsb_buy_in['move_out'] + datetime.timedelta(days=1)\n",
    "        safsb_buy_in['move_out'] = safsb_buy_in['death_date']\n",
    "        safsb_buy_in['comment 2']='Buy IN'\n",
    "        safsb_buy_in['affordable_living'] = 0\n",
    "        safsb_buy_in['Rental_Units'] = 0\n",
    "        safsb_buy_in['ApartmentType'] = 'Other'\n",
    "        safsb_buy_in['protected'] = False\n",
    "        count_agents = len(safsb_buy_in.index)\n",
    "        #ridt_mortgage_calc\n",
    "        monthly_retun = ridt_mortgage_calc.calculte_monthly_mortgage(55000)\n",
    "        safsb_buy_in['annual_return_mortgage'] = monthly_retun * 12\n",
    "        \n",
    "        safsb_buy_in['annual_hoa_expenses'] = 12 *safsb_buy_in['Ap_sq_feet_size']* safsb_buy_in['move_in'].apply(ridt_agent_economy.calculate_hoa_for_condos)\n",
    "\n",
    "        safsb_buy_in['annual_expenses'] = safsb_buy_in['annual_return_mortgage'] + safsb_buy_in['annual_hoa_expenses']\n",
    "        #safsb_buy_in['annual_expenses'] = annual_return\n",
    "        safsb_buy_in['annual_burden'] = round(safsb_buy_in['annual_expenses']/safsb_buy_in['income'],3)\n",
    "        self.ds = pd.concat([self.ds,safsb_buy_in])\n",
    "        self.ds.reset_index(inplace=True,drop=True)\n",
    "        \n",
    "    def drop_future_agent_cycles(self,safsb_buy_out):\n",
    "        \"\"\"receives the buy-out tenants and deltes all future of their cycle\n",
    "        safsb_buy_out: is the tenants who are buying out\"\"\"\n",
    "        for door,cycle in zip(safsb_buy_out['address_door'],safsb_buy_out['tenant_cycle']):\n",
    "            #print('door '+door)\n",
    "            #print('cycle '+ str(cycle))\n",
    "            d = self.ds.loc[(self.ds['address_door']==door) &(self.ds['tenant_cycle']>cycle)]\n",
    "            #print(list(d.index))\n",
    "            self.ds.drop(list(d.index),inplace=True)\n",
    "    \n",
    "    def report_buy_out(self):\n",
    "        return self.ds.loc[self.ds['cause']=='Buy Out']\n",
    "\n",
    "    def report_buy_in(self):\n",
    "        return self.ds.loc[self.ds['comment 2']=='Buy IN']\n",
    "    \n",
    "    @staticmethod\n",
    "    def update_status_of_displaced_agents_market_rate(Agents_to_displace,start_year):\n",
    "      \"\"\"\"\"\"\n",
    "      Agents_to_displace['move_out'] = start_year\n",
    "      Agents_to_displace['cause'] = Agents_to_displace.apply(ridt_demographic.cause_of_displacement, axis=1)\n",
    "      return Agents_to_displace\n",
    "\n",
    "    \n",
    "    @staticmethod\n",
    "    def get_index_of_apartments_to_inhabit_market_rate_for_year(ds,ad,bld_ts,bld_name,start_year):\n",
    "      \"\"\"\"ad displaced agents\"\"\"\n",
    "      end_of_year = pd.to_datetime(str(start_year.year+1)+\"-1-1\")\n",
    "      StayingAgents = ds[~ds['agentID'].isin(ad['agentID'])]\n",
    "      ai = ridt_bldgs.get_avilable_index_units(StayingAgents,bld_ts,bld_name)\n",
    "      return (ai)\n",
    "    \n",
    "    @staticmethod\n",
    "    def create_and_calibarte_new_agents_market_rate(p_ds,bld_name,ai,type_market,start_year,comment,Agents_to_displace):\n",
    "      na = ridt_demographic.generate_new_marketRate_agents_from_avilable_ap(p_ds,bld_name,ai,type_market,start_year,comment)\n",
    "      col_to_remove =['address_door','tenant_cycle','agentID','cause']\n",
    "      ad_slim = Agents_to_displace[col_to_remove]\n",
    "      col_to_remove_x = [col + \"_x\" for col in col_to_remove]\n",
    "      na_2 = pd.merge(na,ad_slim, how='left',on='address_door',suffixes=('','_x'))\n",
    "      na_2['tenant_cycle'] = (na_2['tenant_cycle_x']+1).fillna(0)\n",
    "      na_2['previous_agentID'] = (na_2['agentID_x']).fillna('')\n",
    "      na_2.drop(columns=col_to_remove_x[1:],inplace=True)\n",
    "      return (na_2)\n",
    "    \n",
    "    @staticmethod\n",
    "    def replace_dead_tenants_once(datr):\n",
    "        #step1 save move_out --> move_in\n",
    "        datr['move_in'] =datr['move_out'] + datetime.timedelta(days=1)\n",
    "        ### Setting Birth Day for old Ages\n",
    "        con = datr['elderly_lving']==1 #old age condition\n",
    "        count_elderlies = len(datr[con].index)\n",
    "        old_ages = ridt_demographic.sample_ages(count_elderlies,'Old')\n",
    "        datr.loc[con,'birth_date'] = datr.loc[con,'move_in'].dt.year - old_ages\n",
    "        con = datr['elderly_lving']==0 #Young age condition\n",
    "        count_young = len(datr[con].index)\n",
    "        young_ages = ridt_demographic.sample_ages(count_young,'Young')\n",
    "        datr.loc[con,'birth_date'] = datr.loc[con,'move_in'].dt.year - young_ages\n",
    "\n",
    "        datr['birth_date'] = datr['birth_date'].apply(int)\n",
    "        datr['birth_date'] = datr['birth_date'].apply(lambda x: str(x)+\"-\"+str(random.randint(1,12))+\"-\"+str(random.randint(1,28)))\n",
    "        datr['birth_date'] = pd.to_datetime(datr['birth_date'])\n",
    "        datr['death_date'] = datr.apply(ridt_demographic.death_date_calculator2,axis=1)\n",
    "        con = datr['death_date']> ridt_agents_ts_obj.last_date\n",
    "        datr.loc[con,'death_date'] = ridt_agents_ts_obj.last_date\n",
    "        datr['death_age'] = datr['death_date'].dt.year-datr['birth_date'].dt.year\n",
    "        datr['entrance_age'] = datr['move_in'].dt.year-datr['birth_date'].dt.year\n",
    "        datr['move_out'] = datr['death_date']\n",
    "        minmax =  datr['move_in'].dt.year.apply(ridt_info.non_affordable_approximation)\n",
    "        min_ =[]\n",
    "        max_ =[]\n",
    "        for i in minmax.index:\n",
    "            min_.append(int(minmax[i]['min']))\n",
    "            max_.append(int(minmax[i]['max']))\n",
    "        datr['Low_income'] = min_\n",
    "        datr['Upper_income'] = max_\n",
    "        datr['income']  = datr.apply(lambda x: random.randint(x['Low_income'],x['Upper_income']),axis=1)\n",
    "        #App_datasets['income'] =  App_datasets.apply(lambda x: int(random.uniform(1.48,2.0)*ridt_info.ami_100_percent), axis=1) \n",
    "        datr['previous_agentID']=datr['agentID']\n",
    "        datr['agentID'] = [uuid.uuid4() for _ in range(len(datr.index))]\n",
    "        datr['tenant_cycle'] +=1\n",
    "        return datr\n",
    "\n",
    "    @staticmethod\n",
    "    def update_market_rate_current_year(year_,last_year,building_ds,bld_ts,bld_name,p_ds,market_type,comment,save_report):\n",
    "      \"\"\"This function is part of a bigger loop function that iterates throughout the Market Rate Period of the building\n",
    "      year_: that is the ye iterator year in the list\n",
    "      last_year: that is the last year to check\n",
    "      building_ds: that is the building dataset reference to update\"\"\"\n",
    "      ye_ = str(year_) #turn to string\n",
    "      se_ = pd.to_datetime(ye_+'-1-1') # start event\n",
    "      if (year_<last_year):\n",
    "        da2 = building_ds.find_agents_to_remove_market_rate_for_year(se_, False) #parameters used in False\n",
    "      else:\n",
    "        protected = building_ds.remove_protected_for_year(se_)\n",
    "        dead_agents = building_ds.remove_dead_agents_for_year(se_)\n",
    "        da2 = pd.concat([protected,dead_agents]).drop_duplicates()\n",
    "\n",
    "      building_ds.drop_future_agent_cycles(da2)\n",
    "      da2 = ridt_agents_ts_obj.update_status_of_displaced_agents_market_rate(da2,se_)  \n",
    "      current_year =ridt_agents_ts_obj(building_ds.filter_ds_by_full_year_date(se_).ds,False)\n",
    "      building_ds.drop(current_year.ds,'agentID') #drop displaced Agents\n",
    "      ai = ridt_agents_ts_obj.get_index_of_apartments_to_inhabit_market_rate_for_year(current_year.ds,da2,bld_ts,bld_name,se_)\n",
    "      new_agents = ridt_agents_ts_obj(ridt_agents_ts_obj.create_and_calibarte_new_agents_market_rate(p_ds,bld_name,ai,market_type,se_,comment,da2),False)\n",
    "      new_agents.update_cleanup_agents()\n",
    "      current_year.drop(da2,'agentID')\n",
    "      current_year.concat([da2,new_agents.ds]) #Special Concat\n",
    "      building_ds.concat([current_year.ds])\n",
    "      if (save_report==True):\n",
    "        ridt_agents_ts_obj.save_active_agents_to_excel(current_year,year_,bld_name,ye_)\n",
    "    \n",
    "    @staticmethod\n",
    "    def iterate_years_update_market(se,ee,building_ds,bld_ts,bld_name,p_ds,market_type,comment,save_report):\n",
    "      print(\"Updating To Market Rate:\",bld_name)\n",
    "      for ye in range(se.year,ee.year+1):\n",
    "        ridt_agents_ts_obj.update_market_rate_current_year(ye,ee.year,building_ds,bld_ts,bld_name,p_ds,market_type,comment,save_report)\n",
    "\n",
    "    @staticmethod\n",
    "    def save_active_agents_to_excel(ds,ye,bld_name,year_):\n",
    "      ye_ = str(year_)\n",
    "      file_name = bld_name+\"_\"+ye_\n",
    "      #for testing\n",
    "      active_agents = ds.filter_ds_by_year(year_,True)\n",
    "      active_agents.ds['active_year'] = year_\n",
    "      active_agents.ds.to_excel(file_name+\".xlsx\")\n",
    "\n",
    "    \n",
    "    \n"
   ]
  },
  {
   "cell_type": "markdown",
   "metadata": {
    "id": "qKYqfJW_LpDu"
   },
   "source": [
    "## Building Event Time Series"
   ]
  },
  {
   "cell_type": "code",
   "execution_count": 19,
   "metadata": {
    "id": "b8jTlraACpb1"
   },
   "outputs": [],
   "source": [
    "class ridt_buildings_ts_obj:\n",
    "    def __init__(self, bldg_ds,b_events):\n",
    "        \"\"\"recieves a building dataset and convert it to a time series based on an event external file\"\"\"\n",
    "        self.ds=''\n",
    "        self.build_base_ds(bldg_ds)\n",
    "        self.add_events_to_ds(b_events)\n",
    "            \n",
    "    def build_base_ds(self,bldg_ds):\n",
    "        \"\"\"builds a slim version of the building dataset (with no geometry)\"\"\"\n",
    "        self.ds = bldg_ds[['Bldg Proje',\n",
    " 'cnstrct_yr',\n",
    " 'Total Unit',\n",
    " 'Non_Afford',\n",
    " 'Afford_uni',\n",
    " 'Category',\n",
    " 'bldgs_id',\n",
    " 'affordability_percent',\n",
    " 'elderly_affordable',\n",
    " 'non_elderly_affordable',\n",
    " 'bld_key',\n",
    " 'afford_percent',\n",
    " 'affordable_Cat',\n",
    " 'affordable_sub',\n",
    " 'Rental_Percent',\n",
    " 'Rental_Units',\n",
    " 'protected']].copy()\n",
    "        self.ds['Event'] =\"No Events\"\n",
    "        self.ds['start_event'] = pd.to_datetime(self.ds['cnstrct_yr'].astype(str)+\"-01-01\")\n",
    "        self.ds['end_event'] = ridt_agents_ts_obj.last_date\n",
    "        self.ds['event_counter'] =0\n",
    "        self.ds['event comment'] =''\n",
    "    \n",
    "    def add_events_to_ds(self,b_events):\n",
    "        \"\"\"adds building events from external excel file\"\"\"\n",
    "        #add i loop\n",
    "        for i in range(len(b_events.index)):\n",
    "          #Rivercross Pilot!\n",
    "          cbe = b_events.loc[i] #current building event\n",
    "          selected_b = self.ds.loc[(self.ds['Bldg Proje']==cbe['building_Project'])].copy()\n",
    "          selected_b = selected_b.loc[selected_b.index[-1]]\n",
    "          print('i',i)\n",
    "          #print(selected_b)\n",
    "          selected_b['Event'] = cbe['event']\n",
    "          selected_b['start_event'] = cbe['start_date']\n",
    "          selected_b['end_event'] = cbe['end_date']\n",
    "          selected_b['event_counter'] = selected_b['event_counter']+ 1\n",
    "          if (cbe['event']=='Market Rate'):\n",
    "            col_list = ['Afford_uni','affordability_percent','elderly_affordable','non_elderly_affordable''Rental_Percent','Rental_Units','protected','afford_percent']\n",
    "            for col in col_list:\n",
    "              selected_b[col] = 0\n",
    "            selected_b['Non_Afford']  = selected_b['Total Unit']\n",
    "\n",
    "          selected_b = pd.DataFrame(selected_b).transpose()\n",
    "          self.ds = pd.concat([self.ds,selected_b])\n",
    "          self.ds.reset_index(inplace=True,drop=True)\n",
    "      \n",
    "    "
   ]
  },
  {
   "cell_type": "code",
   "execution_count": 20,
   "metadata": {
    "id": "Hg6eSs2YCrpF"
   },
   "outputs": [],
   "source": [
    "class ridt_mortgage_calc:\n",
    "    i = 0.0438 #annual intrest rate\n",
    "    i_m = i/12.0 #Monthly Rate\n",
    "    m_burden = 0.43\n",
    "    dp = 0.25 #down payment\n",
    "    ny = 30 #number of years\n",
    "    n_m = ny*12 # Number of months\n",
    "    \n",
    "    def calculte_monthly_mortgage(mv):\n",
    "        P = mv*(1-ridt_mortgage_calc.dp) #Mortage to ask from bank (25% down payment)\n",
    "        M = round((P*ridt_mortgage_calc.i_m*np.power((1+ridt_mortgage_calc.i_m),ridt_mortgage_calc.n_m))/(np.power((1+ridt_mortgage_calc.i_m),ridt_mortgage_calc.n_m)-1),0)\n",
    "        return M"
   ]
  },
  {
   "cell_type": "markdown",
   "metadata": {
    "id": "xRt9KDITYvwR"
   },
   "source": [
    "##widgets"
   ]
  },
  {
   "cell_type": "code",
   "execution_count": 39,
   "metadata": {
    "id": "zeCxJm54CX16"
   },
   "outputs": [],
   "source": [
    "class ridt_widgets:\n",
    "    simulation_path = widgets.Text(value='',description='Simulation Path: ', style = {'description_width': 'initial'}, layout=Layout(width='50%'))\n",
    "    folder_version = widgets.Text(value='',description='Folder Version: ', style = {'description_width': 'initial'}, layout=Layout(width='50%'))\n",
    "    bldg_json_wid = widgets.Text(value='bldgs_nov_5_1122.geojson' ,description='GeoJson Buildings File :', style = {'description_width': 'initial'},layout=Layout(width='50%'))\n",
    "    wire_data_excel = widgets.Text(value='wire_apt_rooms_dist_28_9.xlsx',description='Wire Data Excel: ', style = {'description_width': 'initial'},layout=Layout(width='50%'))\n",
    "    bldg_event_excel = widgets.Text(value='building_event_sep_24.xlsx',description='Building Event Excel: ', style = {'description_width': 'initial'},layout=Layout(width='50%'))\n",
    "    \n",
    "    mv = widgets.FloatSlider(\n",
    "        #Market VAlue\n",
    "        value=55000,\n",
    "        min=55000,\n",
    "        max=10000000,\n",
    "        step=100,\n",
    "        disabled=False,\n",
    "        continuous_update=False,\n",
    "        readout_format='.1f',\n",
    "    )\n",
    "    dp = widgets.FloatSlider(\n",
    "        #Down Payment\n",
    "        value=25,\n",
    "        min=15,\n",
    "        max=35,\n",
    "        step=1,\n",
    "        disabled=False,\n",
    "        continuous_update=False,\n",
    "        readout_format='.1f',\n",
    "    )\n",
    "    ny = widgets.FloatSlider(\n",
    "        #Number of YEars\n",
    "        value=30,\n",
    "        min=5,\n",
    "        max=50,\n",
    "        step=1,\n",
    "        disabled=False,\n",
    "        continuous_update=False,\n",
    "        readout_format='.1f',\n",
    "    )\n",
    "\n",
    "    i_ = widgets.FloatSlider(\n",
    "        value=(ridt_mortgage_calc.i)*100,\n",
    "        min=0,\n",
    "        max=6,\n",
    "        step=0.01,\n",
    "        disabled=False,\n",
    "        continuous_update=False,\n",
    "        readout_format='.2f',\n",
    "    )\n",
    "    \n",
    "    select_year_widget = widgets.IntSlider(\n",
    "        value=1980,\n",
    "        min=1975,\n",
    "        max=2050,\n",
    "        step=1,\n",
    "        disabled=False,\n",
    "        description='Year',\n",
    "        continuous_update=False,\n",
    "        orientation='horizontal',\n",
    "        readout=True,\n",
    "        readout_format='d'\n",
    "    )\n",
    "    \n",
    "    select_map = widgets.Dropdown(\n",
    "        options=[('Basic', 1), ('Burden Map', 2), ('Three', 3)],\n",
    "        value=1,\n",
    "        description='Number:',\n",
    "    )\n",
    "    select_year_menu = widgets.Dropdown(\n",
    "      options=[('1980', 1980), ('1990', 1990), ('2000', 2000),('2010',2010),('2020',2020),('2030',2030),('2030',2040),('2050',2050),('Multi Year',0)],\n",
    "      value=1980,\n",
    "      description='Choos a Year:'\n",
    "    )\n",
    "    category_1_menu = widgets.Dropdown(\n",
    "      options=[('Demographic', 'demo'), ('Income', 'income')],\n",
    "      value='demo',\n",
    "      description='Choos a Category:'\n",
    "    )\n",
    "    island_building_checkbox = widgets.Checkbox(\n",
    "        value=True,\n",
    "        description='By Buildings?',\n",
    "        disabled=False,\n",
    "        indent=False\n",
    "    )\n",
    "\n",
    "    as_percent_checkbox  = widgets.Checkbox(\n",
    "        value=False,\n",
    "        description='Show Percent?',\n",
    "        disabled=False,\n",
    "        indent=False\n",
    "    )\n",
    "    \n",
    "    building_filter_menu = widgets.Dropdown(\n",
    "      options=[('All Buildings', 'all'), ('Wire', 'wire'),('NorthTown', 'north'),('Southtown','south')],\n",
    "      value='all',\n",
    "      description='Choos a Category:'\n",
    "    )\n",
    "\n",
    "    def widget1():\n",
    "        \"\"\"Function to display the first set of widgets\"\"\"\n",
    "        display(ridt_widgets.bldg_json_wid,ridt_widgets.wire_data_excel,ridt_widgets.bldg_event_excel)\n",
    "        json_path = 'json/'+ridt_widgets.bldg_json_wid.value\n",
    "        json_bldgs = gpd.read_file(json_path, driver='GeoJSON')\n",
    "        wire_bldg_data = pd.read_excel(ridt_widgets.wire_data_excel.value)\n",
    "        bldg_events = pd.read_excel(ridt_widgets.bldg_event_excel.value)\n",
    "        return([json_bldgs,wire_bldg_data,bldg_events])\n",
    " \n",
    "    def widget2():\n",
    "        \"\"\"Function to display the Morgage Calculator widget\"\"\"\n",
    "        print('Market Value')\n",
    "        display(ridt_widgets.mv)\n",
    "        print('Down Payment in percent')\n",
    "        display(ridt_widgets.dp)\n",
    "        print('Number of Years')\n",
    "        display(ridt_widgets.ny)\n",
    "        print('Annual Mortgage Intrest rate')\n",
    "        display(ridt_widgets.i_)\n",
    "        \n",
    "    def widget3():\n",
    "        \"\"\"Function to display the Morgage Calculator widget\"\"\"\n",
    "        print('Select year to show Agent Statistics:')\n",
    "        display(ridt_widgets.select_year_widget)\n",
    "        print('What Kind of Map?:')\n",
    "        display(ridt_widgets.select_map)\n",
    "        print(\"select Building:\")\n",
    "        display(ridt_widgets.select_bldg)       \n",
    "    \n",
    "    def widget4():\n",
    "      \"\"\"Function to display Demographic Age Distribution\"\"\"\n",
    "      print('Select a year:')\n",
    "      display(ridt_widgets.select_year_menu,ridt_widgets.category_1_menu,ridt_widgets.building_filter_menu,ridt_widgets.island_building_checkbox,ridt_widgets.as_percent_checkbox)\n",
    "\n",
    "    def get_data_widget2():\n",
    "        return(ridt_widgets.mv.value,\n",
    "               ridt_widgets.dp.value,\n",
    "               ridt_widgets.ny.value,\n",
    "               ridt_widgets.i_.value           \n",
    "        ) \n",
    "    \n",
    "    def get_data_widget3():\n",
    "        return(ridt_widgets.select_year_widget.value,\n",
    "               ridt_widgets.select_map.value,\n",
    "               ridt_widgets.select_bldg.value     \n",
    "        ) \n",
    "\n",
    "        \n",
    "    def get_folder_path():\n",
    "      return ridt_widgets.simulation_path.value +\"/\"+ridt_widgets.folder_version.value+\"/\"\n",
    "    \n",
    "    def widget_4_action(df_obj):\n",
    "      c_year,choice,building_,percent_,building_filters = [ridt_widgets.select_year_menu.value,\n",
    "      ridt_widgets.category_1_menu.value\n",
    "      ,ridt_widgets.island_building_checkbox.value,\n",
    "      ridt_widgets.as_percent_checkbox.value,\n",
    "      ridt_widgets.building_filter_menu.value]\n",
    "\n",
    "      if (building_filters!='all'):\n",
    "        df_obj_1 = ridt_info.filter_group_buildigns(building_filters,df_obj)\n",
    "      else:\n",
    "        df_obj_1 = df_obj\n",
    "      if c_year>0:\n",
    "        df_year = df_obj_1.filter_ds_by_year(c_year)\n",
    "      if (choice=='demo'):\n",
    "        if (c_year==0):\n",
    "          fig,df_year = ridt_plot.plot_population_years_buildings_1(df_obj_1,building_,percent_)\n",
    "        else:\n",
    "          df_year.get_current_age_by_caetgory(c_year)\n",
    "          age_report = df_year.report_age_for_buildings_and_island(building_)\n",
    "          fig = ridt_plot.get_age_subplots(age_report,c_year,building_,percent_)\n",
    "      else:\n",
    "        if (c_year==0):\n",
    "          fig,df_year = ridt_plot.plot_income_years_buildings_1(df_obj_1,building_,percent_)\n",
    "        else:\n",
    "          df_year_1 = df_year.report_income_by_group(building_)\n",
    "          fig = ridt_plot.get_income_by_group_subplots(df_year_1,building_,c_year,percent_)\n",
    "      return(fig,df_year)\n",
    "\n"
   ]
  },
  {
   "cell_type": "markdown",
   "metadata": {
    "id": "ejo_FbYvC3zk"
   },
   "source": [
    "# Load Building Events\n",
    "# Building Built TimeLine (GIS)"
   ]
  },
  {
   "cell_type": "code",
   "execution_count": 28,
   "metadata": {
    "colab": {
     "base_uri": "https://localhost:8080/",
     "height": 264,
     "referenced_widgets": [
      "8566209e3b8b4be280d1262ad576ca4d",
      "38641e4ccf99413eb55d99b59d78d045",
      "7b4ecb2db4e54dada5f326296f44e85d",
      "aee4011bfb5a4839915e0985095d3bdd",
      "2401e9f600724cc1b04ba55923ff38f6",
      "2cd68a027b8447b2a1ba20e3279c3903",
      "1910b0ab62be4769b297d57fa782fbf2",
      "0534aa6d5be542819f488a845558ebc7",
      "f2d327c1fcc3476ea539ef6fa28f9dfc",
      "997be16b5ef546b18b1e4b73c9ff8c5a",
      "5c2d758f3ffc48acaa334a4ec4d09d42",
      "d045ddd1c3da41d8a00ae072f7b1ca6a",
      "3a9c57302a2445b486fd35ef315e3b77",
      "a12b9c3262a9413dbeff11a3ea7a7204",
      "aa4f42eb187c4d3fbda6a5ff1d8283a8"
     ]
    },
    "id": "2w6n5dkaCbCV",
    "outputId": "55f4626e-9bca-4c2a-b40a-ff028b4a2d94"
   },
   "outputs": [
    {
     "data": {
      "application/vnd.jupyter.widget-view+json": {
       "model_id": "ba8fa0e7d7db419c82bf8b9189985b7d",
       "version_major": 2,
       "version_minor": 0
      },
      "text/plain": [
       "Text(value='bldgs_nov_5_1122.geojson', description='GeoJson Buildings File :', layout=Layout(width='50%'), sty…"
      ]
     },
     "metadata": {},
     "output_type": "display_data"
    },
    {
     "data": {
      "application/vnd.jupyter.widget-view+json": {
       "model_id": "d9619c081f1c4b0c9bbd7001e20d5126",
       "version_major": 2,
       "version_minor": 0
      },
      "text/plain": [
       "Text(value='wire_apt_rooms_dist_28_9.xlsx', description='Wire Data Excel: ', layout=Layout(width='50%'), style…"
      ]
     },
     "metadata": {},
     "output_type": "display_data"
    },
    {
     "data": {
      "application/vnd.jupyter.widget-view+json": {
       "model_id": "a3831dae297e4be5bd07b643addc91f5",
       "version_major": 2,
       "version_minor": 0
      },
      "text/plain": [
       "Text(value='building_event_sep_24.xlsx', description='Building Event Excel: ', layout=Layout(width='50%'), sty…"
      ]
     },
     "metadata": {},
     "output_type": "display_data"
    }
   ],
   "source": [
    "json_bldgs,wire_bldg_data,bldg_events = ridt_widgets.widget1()"
   ]
  },
  {
   "cell_type": "markdown",
   "metadata": {
    "id": "rqCcoGiwHHgN"
   },
   "source": [
    "# Building Apartment Listing\n",
    "# 🏠🏢🏠🏢🏠🏢🏠🏢🏠🏢🏠🏢🏠🏢🏠🏢"
   ]
  },
  {
   "cell_type": "code",
   "execution_count": 30,
   "metadata": {
    "colab": {
     "base_uri": "https://localhost:8080/",
     "height": 528
    },
    "id": "s1LibB39HHTy",
    "outputId": "6c190f89-5068-4902-ec15-15c69cf64f1b"
   },
   "outputs": [],
   "source": [
    "p_ds = ridt_properties(json_bldgs)\n",
    "#report = p_ds.report()\n",
    "#report\n",
    "#p_ds.bldg_dict"
   ]
  },
  {
   "cell_type": "markdown",
   "metadata": {
    "id": "0em2GJhWHu4W"
   },
   "source": [
    "# 🙍‍♀️Build Inital Synthetic Agents Synthetic Agents for Simulator\n",
    "## TO DO (possibility to load agents instead of generating them)\n",
    " 👴🏻🙆‍♀️👨🏻‍💼🙍‍♀️🧑‍🦰👴🏻🙆‍♀️👨🏻‍💼🙍‍♀️🧑‍🦰👴🏻🙆‍♀️👨🏻‍💼🙍‍♀️🧑‍🦰"
   ]
  },
  {
   "cell_type": "code",
   "execution_count": 31,
   "metadata": {
    "colab": {
     "base_uri": "https://localhost:8080/"
    },
    "id": "k8BB_iSlGzsP",
    "outputId": "ae6f8dc9-c32c-4afc-f2c9-c659ffbd8f1b"
   },
   "outputs": [
    {
     "name": "stdout",
     "output_type": "stream",
     "text": [
      "in 1985 hud\n",
      "Total Dead Agents remaining to replace: 5855\n",
      "Total Dead Agents remaining to replace: 2656\n",
      "Total Dead Agents remaining to replace: 559\n",
      "Total Dead Agents remaining to replace: 414\n",
      "Total Dead Agents remaining to replace: 410\n",
      "Total Dead Agents remaining to replace: 382\n",
      "Total Dead Agents remaining to replace: 305\n",
      "Total Dead Agents remaining to replace: 172\n",
      "Total Dead Agents remaining to replace: 79\n",
      "Total Dead Agents remaining to replace: 22\n",
      "goal Reached\n",
      "out of loop\n"
     ]
    }
   ],
   "source": [
    "#Inital Agents\n",
    "agents_ds_1 = ridt_agents_from_bld(p_ds.ds)\n",
    "#Simulating Dead Agents and their replacements\n",
    "df_ts_1 = ridt_agents_ts_obj(agents_ds_1.ds)\n",
    "df_ts_1 = ridt_agents_obj(df_ts_1.ds)"
   ]
  },
  {
   "cell_type": "markdown",
   "metadata": {
    "id": "Q9sX_Ozrc2dP"
   },
   "source": [
    "# Calibration"
   ]
  },
  {
   "cell_type": "code",
   "execution_count": 43,
   "metadata": {
    "colab": {
     "base_uri": "https://localhost:8080/",
     "height": 186,
     "referenced_widgets": [
      "6939d3a9e14e435ab4099321e6e58c21",
      "6c53a5f02ce741c1bbe8fd7579220dfa",
      "bfa6bc78e00e47cfa5b76479fb7614ef",
      "b6811e41477846468cf37037037052ea",
      "620cae3f6f294cbb903536f554382698",
      "093e16d45bc44716969647566b2dfb9d",
      "437a037037274f47971a521ebae996d2",
      "79d78ca0381940148e7155f772768a67",
      "8fe27888e8fb419293d3ad83eb50bfbd",
      "f9e9e08f743047059c03b343f8526f76",
      "7efe4b05cb10435d8de93cba530665f1",
      "1a0a35a27d944d3aafc6893cb781af0b",
      "0f314e57e5ef46c3a5456ebb4e0e2965",
      "f2c7ad27531045e0b1a51981b24932fa",
      "4a225c4ede764687965ee8785e03785d"
     ]
    },
    "id": "iMPIgx3r7wxQ",
    "outputId": "c19526c1-014e-4b29-8d52-dd03c739d2e2"
   },
   "outputs": [
    {
     "name": "stdout",
     "output_type": "stream",
     "text": [
      "Select a year:\n"
     ]
    },
    {
     "data": {
      "application/vnd.jupyter.widget-view+json": {
       "model_id": "32d90f69c09e480b867638538f8558eb",
       "version_major": 2,
       "version_minor": 0
      },
      "text/plain": [
       "Dropdown(description='Choos a Year:', options=(('1980', 1980), ('1990', 1990), ('2000', 2000), ('2010', 2010),…"
      ]
     },
     "metadata": {},
     "output_type": "display_data"
    },
    {
     "data": {
      "application/vnd.jupyter.widget-view+json": {
       "model_id": "6600e0dc49d94b4892feb6461782e230",
       "version_major": 2,
       "version_minor": 0
      },
      "text/plain": [
       "Dropdown(description='Choos a Category:', index=1, options=(('Demographic', 'demo'), ('Income', 'income')), va…"
      ]
     },
     "metadata": {},
     "output_type": "display_data"
    },
    {
     "data": {
      "application/vnd.jupyter.widget-view+json": {
       "model_id": "4eedb8140cf8447cbd8fa5b8035f0b7c",
       "version_major": 2,
       "version_minor": 0
      },
      "text/plain": [
       "Dropdown(description='Choos a Category:', options=(('All Buildings', 'all'), ('Wire', 'wire'), ('NorthTown', '…"
      ]
     },
     "metadata": {},
     "output_type": "display_data"
    },
    {
     "data": {
      "application/vnd.jupyter.widget-view+json": {
       "model_id": "2ae0b18a45a6457382f01d4b20e7929e",
       "version_major": 2,
       "version_minor": 0
      },
      "text/plain": [
       "Checkbox(value=True, description='By Buildings?', indent=False)"
      ]
     },
     "metadata": {},
     "output_type": "display_data"
    },
    {
     "data": {
      "application/vnd.jupyter.widget-view+json": {
       "model_id": "6c40fe9851764858b0d727389670a0ac",
       "version_major": 2,
       "version_minor": 0
      },
      "text/plain": [
       "Checkbox(value=False, description='Show Percent?', indent=False)"
      ]
     },
     "metadata": {},
     "output_type": "display_data"
    },
    {
     "data": {
      "application/vnd.plotly.v1+json": {
       "config": {
        "plotlyServerURL": "https://plot.ly"
       },
       "data": [
        {
         "marker": {
          "color": [
           45514.166666666664,
           64628.18666666667,
           86329.15909090909,
           119644.7578125,
           158633.5
          ],
          "colorscale": [
           [
            0,
            "rgb(250,191,171)"
           ],
           [
            0.08333333333333333,
            "rgb(248,176,158)"
           ],
           [
            0.16666666666666666,
            "rgb(247,165,149)"
           ],
           [
            0.25,
            "rgb(246,152,138)"
           ],
           [
            0.3333333333333333,
            "rgb(245,141,129)"
           ],
           [
            0.4166666666666667,
            "rgb(244,127,117)"
           ],
           [
            0.5,
            "rgb(243,115,107)"
           ],
           [
            0.5833333333333334,
            "rgb(242,102,96)"
           ],
           [
            0.6666666666666666,
            "rgb(241,91,87)"
           ],
           [
            0.75,
            "rgb(240,74,73)"
           ],
           [
            0.8333333333333334,
            "rgb(239,62,63)"
           ],
           [
            0.9166666666666666,
            "rgb(238,51,53)"
           ],
           [
            1,
            "rgb(236,35,40)"
           ]
          ]
         },
         "showlegend": false,
         "type": "bar",
         "x": [
          "HH Income $35K-49K",
          "HH Income $50K-74K",
          "HH Income $75K-99K",
          "HH Income $100K-149K",
          "HH Income $150K-199K"
         ],
         "xaxis": "x",
         "y": [
          6,
          75,
          132,
          128,
          32
         ],
         "yaxis": "y"
        },
        {
         "marker": {
          "color": [
           10593.887128712871,
           19542.7311827957,
           29890.92822966507,
           40239.01960784314,
           60402.153846153844,
           81797.91666666667
          ],
          "colorscale": [
           [
            0,
            "rgb(250,191,171)"
           ],
           [
            0.08333333333333333,
            "rgb(248,176,158)"
           ],
           [
            0.16666666666666666,
            "rgb(247,165,149)"
           ],
           [
            0.25,
            "rgb(246,152,138)"
           ],
           [
            0.3333333333333333,
            "rgb(245,141,129)"
           ],
           [
            0.4166666666666667,
            "rgb(244,127,117)"
           ],
           [
            0.5,
            "rgb(243,115,107)"
           ],
           [
            0.5833333333333334,
            "rgb(242,102,96)"
           ],
           [
            0.6666666666666666,
            "rgb(241,91,87)"
           ],
           [
            0.75,
            "rgb(240,74,73)"
           ],
           [
            0.8333333333333334,
            "rgb(239,62,63)"
           ],
           [
            0.9166666666666666,
            "rgb(238,51,53)"
           ],
           [
            1,
            "rgb(236,35,40)"
           ]
          ]
         },
         "showlegend": false,
         "type": "bar",
         "x": [
          "HH Income <$15K",
          "HH Income $15K-24K",
          "HH Income $25K-34K",
          "HH Income $35K-49K",
          "HH Income $50K-74K",
          "HH Income $75K-99K"
         ],
         "xaxis": "x2",
         "y": [
          505,
          186,
          209,
          51,
          26,
          12
         ],
         "yaxis": "y2"
        },
        {
         "marker": {
          "color": [
           34429.25,
           43806.18965517241,
           64697.05673758865,
           84776.71951219512,
           120585.45833333333,
           157050.375
          ],
          "colorscale": [
           [
            0,
            "rgb(250,191,171)"
           ],
           [
            0.08333333333333333,
            "rgb(248,176,158)"
           ],
           [
            0.16666666666666666,
            "rgb(247,165,149)"
           ],
           [
            0.25,
            "rgb(246,152,138)"
           ],
           [
            0.3333333333333333,
            "rgb(245,141,129)"
           ],
           [
            0.4166666666666667,
            "rgb(244,127,117)"
           ],
           [
            0.5,
            "rgb(243,115,107)"
           ],
           [
            0.5833333333333334,
            "rgb(242,102,96)"
           ],
           [
            0.6666666666666666,
            "rgb(241,91,87)"
           ],
           [
            0.75,
            "rgb(240,74,73)"
           ],
           [
            0.8333333333333334,
            "rgb(239,62,63)"
           ],
           [
            0.9166666666666666,
            "rgb(238,51,53)"
           ],
           [
            1,
            "rgb(236,35,40)"
           ]
          ]
         },
         "showlegend": false,
         "type": "bar",
         "x": [
          "HH Income $25K-34K",
          "HH Income $35K-49K",
          "HH Income $50K-74K",
          "HH Income $75K-99K",
          "HH Income $100K-149K",
          "HH Income $150K-199K"
         ],
         "xaxis": "x3",
         "y": [
          4,
          58,
          141,
          82,
          72,
          8
         ],
         "yaxis": "y3"
        },
        {
         "marker": {
          "color": [
           34454,
           44564.490909090906,
           62653.72666666667,
           84809.24545454545,
           122876.0945945946,
           155918.6
          ],
          "colorscale": [
           [
            0,
            "rgb(250,191,171)"
           ],
           [
            0.08333333333333333,
            "rgb(248,176,158)"
           ],
           [
            0.16666666666666666,
            "rgb(247,165,149)"
           ],
           [
            0.25,
            "rgb(246,152,138)"
           ],
           [
            0.3333333333333333,
            "rgb(245,141,129)"
           ],
           [
            0.4166666666666667,
            "rgb(244,127,117)"
           ],
           [
            0.5,
            "rgb(243,115,107)"
           ],
           [
            0.5833333333333334,
            "rgb(242,102,96)"
           ],
           [
            0.6666666666666666,
            "rgb(241,91,87)"
           ],
           [
            0.75,
            "rgb(240,74,73)"
           ],
           [
            0.8333333333333334,
            "rgb(239,62,63)"
           ],
           [
            0.9166666666666666,
            "rgb(238,51,53)"
           ],
           [
            1,
            "rgb(236,35,40)"
           ]
          ]
         },
         "showlegend": false,
         "type": "bar",
         "x": [
          "HH Income $25K-34K",
          "HH Income $35K-49K",
          "HH Income $50K-74K",
          "HH Income $75K-99K",
          "HH Income $100K-149K",
          "HH Income $150K-199K"
         ],
         "xaxis": "x4",
         "y": [
          3,
          55,
          150,
          110,
          74,
          5
         ],
         "yaxis": "y4"
        }
       ],
       "layout": {
        "annotations": [
         {
          "font": {
           "size": 16
          },
          "showarrow": false,
          "text": "Rivercross",
          "x": 0.10625,
          "xanchor": "center",
          "xref": "paper",
          "y": 1,
          "yanchor": "bottom",
          "yref": "paper"
         },
         {
          "font": {
           "size": 16
          },
          "showarrow": false,
          "text": "Roosevelt Landings",
          "x": 0.36875,
          "xanchor": "center",
          "xref": "paper",
          "y": 1,
          "yanchor": "bottom",
          "yref": "paper"
         },
         {
          "font": {
           "size": 16
          },
          "showarrow": false,
          "text": "Westview",
          "x": 0.6312500000000001,
          "xanchor": "center",
          "xref": "paper",
          "y": 1,
          "yanchor": "bottom",
          "yref": "paper"
         },
         {
          "font": {
           "size": 16
          },
          "showarrow": false,
          "text": "island house",
          "x": 0.89375,
          "xanchor": "center",
          "xref": "paper",
          "y": 1,
          "yanchor": "bottom",
          "yref": "paper"
         }
        ],
        "height": 1200,
        "plot_bgcolor": "rgba(255,255,255,0)",
        "template": {
         "data": {
          "bar": [
           {
            "error_x": {
             "color": "#2a3f5f"
            },
            "error_y": {
             "color": "#2a3f5f"
            },
            "marker": {
             "line": {
              "color": "#E5ECF6",
              "width": 0.5
             }
            },
            "type": "bar"
           }
          ],
          "barpolar": [
           {
            "marker": {
             "line": {
              "color": "#E5ECF6",
              "width": 0.5
             }
            },
            "type": "barpolar"
           }
          ],
          "carpet": [
           {
            "aaxis": {
             "endlinecolor": "#2a3f5f",
             "gridcolor": "white",
             "linecolor": "white",
             "minorgridcolor": "white",
             "startlinecolor": "#2a3f5f"
            },
            "baxis": {
             "endlinecolor": "#2a3f5f",
             "gridcolor": "white",
             "linecolor": "white",
             "minorgridcolor": "white",
             "startlinecolor": "#2a3f5f"
            },
            "type": "carpet"
           }
          ],
          "choropleth": [
           {
            "colorbar": {
             "outlinewidth": 0,
             "ticks": ""
            },
            "type": "choropleth"
           }
          ],
          "contour": [
           {
            "colorbar": {
             "outlinewidth": 0,
             "ticks": ""
            },
            "colorscale": [
             [
              0,
              "#0d0887"
             ],
             [
              0.1111111111111111,
              "#46039f"
             ],
             [
              0.2222222222222222,
              "#7201a8"
             ],
             [
              0.3333333333333333,
              "#9c179e"
             ],
             [
              0.4444444444444444,
              "#bd3786"
             ],
             [
              0.5555555555555556,
              "#d8576b"
             ],
             [
              0.6666666666666666,
              "#ed7953"
             ],
             [
              0.7777777777777778,
              "#fb9f3a"
             ],
             [
              0.8888888888888888,
              "#fdca26"
             ],
             [
              1,
              "#f0f921"
             ]
            ],
            "type": "contour"
           }
          ],
          "contourcarpet": [
           {
            "colorbar": {
             "outlinewidth": 0,
             "ticks": ""
            },
            "type": "contourcarpet"
           }
          ],
          "heatmap": [
           {
            "colorbar": {
             "outlinewidth": 0,
             "ticks": ""
            },
            "colorscale": [
             [
              0,
              "#0d0887"
             ],
             [
              0.1111111111111111,
              "#46039f"
             ],
             [
              0.2222222222222222,
              "#7201a8"
             ],
             [
              0.3333333333333333,
              "#9c179e"
             ],
             [
              0.4444444444444444,
              "#bd3786"
             ],
             [
              0.5555555555555556,
              "#d8576b"
             ],
             [
              0.6666666666666666,
              "#ed7953"
             ],
             [
              0.7777777777777778,
              "#fb9f3a"
             ],
             [
              0.8888888888888888,
              "#fdca26"
             ],
             [
              1,
              "#f0f921"
             ]
            ],
            "type": "heatmap"
           }
          ],
          "heatmapgl": [
           {
            "colorbar": {
             "outlinewidth": 0,
             "ticks": ""
            },
            "colorscale": [
             [
              0,
              "#0d0887"
             ],
             [
              0.1111111111111111,
              "#46039f"
             ],
             [
              0.2222222222222222,
              "#7201a8"
             ],
             [
              0.3333333333333333,
              "#9c179e"
             ],
             [
              0.4444444444444444,
              "#bd3786"
             ],
             [
              0.5555555555555556,
              "#d8576b"
             ],
             [
              0.6666666666666666,
              "#ed7953"
             ],
             [
              0.7777777777777778,
              "#fb9f3a"
             ],
             [
              0.8888888888888888,
              "#fdca26"
             ],
             [
              1,
              "#f0f921"
             ]
            ],
            "type": "heatmapgl"
           }
          ],
          "histogram": [
           {
            "marker": {
             "colorbar": {
              "outlinewidth": 0,
              "ticks": ""
             }
            },
            "type": "histogram"
           }
          ],
          "histogram2d": [
           {
            "colorbar": {
             "outlinewidth": 0,
             "ticks": ""
            },
            "colorscale": [
             [
              0,
              "#0d0887"
             ],
             [
              0.1111111111111111,
              "#46039f"
             ],
             [
              0.2222222222222222,
              "#7201a8"
             ],
             [
              0.3333333333333333,
              "#9c179e"
             ],
             [
              0.4444444444444444,
              "#bd3786"
             ],
             [
              0.5555555555555556,
              "#d8576b"
             ],
             [
              0.6666666666666666,
              "#ed7953"
             ],
             [
              0.7777777777777778,
              "#fb9f3a"
             ],
             [
              0.8888888888888888,
              "#fdca26"
             ],
             [
              1,
              "#f0f921"
             ]
            ],
            "type": "histogram2d"
           }
          ],
          "histogram2dcontour": [
           {
            "colorbar": {
             "outlinewidth": 0,
             "ticks": ""
            },
            "colorscale": [
             [
              0,
              "#0d0887"
             ],
             [
              0.1111111111111111,
              "#46039f"
             ],
             [
              0.2222222222222222,
              "#7201a8"
             ],
             [
              0.3333333333333333,
              "#9c179e"
             ],
             [
              0.4444444444444444,
              "#bd3786"
             ],
             [
              0.5555555555555556,
              "#d8576b"
             ],
             [
              0.6666666666666666,
              "#ed7953"
             ],
             [
              0.7777777777777778,
              "#fb9f3a"
             ],
             [
              0.8888888888888888,
              "#fdca26"
             ],
             [
              1,
              "#f0f921"
             ]
            ],
            "type": "histogram2dcontour"
           }
          ],
          "mesh3d": [
           {
            "colorbar": {
             "outlinewidth": 0,
             "ticks": ""
            },
            "type": "mesh3d"
           }
          ],
          "parcoords": [
           {
            "line": {
             "colorbar": {
              "outlinewidth": 0,
              "ticks": ""
             }
            },
            "type": "parcoords"
           }
          ],
          "pie": [
           {
            "automargin": true,
            "type": "pie"
           }
          ],
          "scatter": [
           {
            "marker": {
             "colorbar": {
              "outlinewidth": 0,
              "ticks": ""
             }
            },
            "type": "scatter"
           }
          ],
          "scatter3d": [
           {
            "line": {
             "colorbar": {
              "outlinewidth": 0,
              "ticks": ""
             }
            },
            "marker": {
             "colorbar": {
              "outlinewidth": 0,
              "ticks": ""
             }
            },
            "type": "scatter3d"
           }
          ],
          "scattercarpet": [
           {
            "marker": {
             "colorbar": {
              "outlinewidth": 0,
              "ticks": ""
             }
            },
            "type": "scattercarpet"
           }
          ],
          "scattergeo": [
           {
            "marker": {
             "colorbar": {
              "outlinewidth": 0,
              "ticks": ""
             }
            },
            "type": "scattergeo"
           }
          ],
          "scattergl": [
           {
            "marker": {
             "colorbar": {
              "outlinewidth": 0,
              "ticks": ""
             }
            },
            "type": "scattergl"
           }
          ],
          "scattermapbox": [
           {
            "marker": {
             "colorbar": {
              "outlinewidth": 0,
              "ticks": ""
             }
            },
            "type": "scattermapbox"
           }
          ],
          "scatterpolar": [
           {
            "marker": {
             "colorbar": {
              "outlinewidth": 0,
              "ticks": ""
             }
            },
            "type": "scatterpolar"
           }
          ],
          "scatterpolargl": [
           {
            "marker": {
             "colorbar": {
              "outlinewidth": 0,
              "ticks": ""
             }
            },
            "type": "scatterpolargl"
           }
          ],
          "scatterternary": [
           {
            "marker": {
             "colorbar": {
              "outlinewidth": 0,
              "ticks": ""
             }
            },
            "type": "scatterternary"
           }
          ],
          "surface": [
           {
            "colorbar": {
             "outlinewidth": 0,
             "ticks": ""
            },
            "colorscale": [
             [
              0,
              "#0d0887"
             ],
             [
              0.1111111111111111,
              "#46039f"
             ],
             [
              0.2222222222222222,
              "#7201a8"
             ],
             [
              0.3333333333333333,
              "#9c179e"
             ],
             [
              0.4444444444444444,
              "#bd3786"
             ],
             [
              0.5555555555555556,
              "#d8576b"
             ],
             [
              0.6666666666666666,
              "#ed7953"
             ],
             [
              0.7777777777777778,
              "#fb9f3a"
             ],
             [
              0.8888888888888888,
              "#fdca26"
             ],
             [
              1,
              "#f0f921"
             ]
            ],
            "type": "surface"
           }
          ],
          "table": [
           {
            "cells": {
             "fill": {
              "color": "#EBF0F8"
             },
             "line": {
              "color": "white"
             }
            },
            "header": {
             "fill": {
              "color": "#C8D4E3"
             },
             "line": {
              "color": "white"
             }
            },
            "type": "table"
           }
          ]
         },
         "layout": {
          "annotationdefaults": {
           "arrowcolor": "#2a3f5f",
           "arrowhead": 0,
           "arrowwidth": 1
          },
          "coloraxis": {
           "colorbar": {
            "outlinewidth": 0,
            "ticks": ""
           }
          },
          "colorscale": {
           "diverging": [
            [
             0,
             "#8e0152"
            ],
            [
             0.1,
             "#c51b7d"
            ],
            [
             0.2,
             "#de77ae"
            ],
            [
             0.3,
             "#f1b6da"
            ],
            [
             0.4,
             "#fde0ef"
            ],
            [
             0.5,
             "#f7f7f7"
            ],
            [
             0.6,
             "#e6f5d0"
            ],
            [
             0.7,
             "#b8e186"
            ],
            [
             0.8,
             "#7fbc41"
            ],
            [
             0.9,
             "#4d9221"
            ],
            [
             1,
             "#276419"
            ]
           ],
           "sequential": [
            [
             0,
             "#0d0887"
            ],
            [
             0.1111111111111111,
             "#46039f"
            ],
            [
             0.2222222222222222,
             "#7201a8"
            ],
            [
             0.3333333333333333,
             "#9c179e"
            ],
            [
             0.4444444444444444,
             "#bd3786"
            ],
            [
             0.5555555555555556,
             "#d8576b"
            ],
            [
             0.6666666666666666,
             "#ed7953"
            ],
            [
             0.7777777777777778,
             "#fb9f3a"
            ],
            [
             0.8888888888888888,
             "#fdca26"
            ],
            [
             1,
             "#f0f921"
            ]
           ],
           "sequentialminus": [
            [
             0,
             "#0d0887"
            ],
            [
             0.1111111111111111,
             "#46039f"
            ],
            [
             0.2222222222222222,
             "#7201a8"
            ],
            [
             0.3333333333333333,
             "#9c179e"
            ],
            [
             0.4444444444444444,
             "#bd3786"
            ],
            [
             0.5555555555555556,
             "#d8576b"
            ],
            [
             0.6666666666666666,
             "#ed7953"
            ],
            [
             0.7777777777777778,
             "#fb9f3a"
            ],
            [
             0.8888888888888888,
             "#fdca26"
            ],
            [
             1,
             "#f0f921"
            ]
           ]
          },
          "colorway": [
           "#636efa",
           "#EF553B",
           "#00cc96",
           "#ab63fa",
           "#FFA15A",
           "#19d3f3",
           "#FF6692",
           "#B6E880",
           "#FF97FF",
           "#FECB52"
          ],
          "font": {
           "color": "#2a3f5f"
          },
          "geo": {
           "bgcolor": "white",
           "lakecolor": "white",
           "landcolor": "#E5ECF6",
           "showlakes": true,
           "showland": true,
           "subunitcolor": "white"
          },
          "hoverlabel": {
           "align": "left"
          },
          "hovermode": "closest",
          "mapbox": {
           "style": "light"
          },
          "paper_bgcolor": "white",
          "plot_bgcolor": "#E5ECF6",
          "polar": {
           "angularaxis": {
            "gridcolor": "white",
            "linecolor": "white",
            "ticks": ""
           },
           "bgcolor": "#E5ECF6",
           "radialaxis": {
            "gridcolor": "white",
            "linecolor": "white",
            "ticks": ""
           }
          },
          "scene": {
           "xaxis": {
            "backgroundcolor": "#E5ECF6",
            "gridcolor": "white",
            "gridwidth": 2,
            "linecolor": "white",
            "showbackground": true,
            "ticks": "",
            "zerolinecolor": "white"
           },
           "yaxis": {
            "backgroundcolor": "#E5ECF6",
            "gridcolor": "white",
            "gridwidth": 2,
            "linecolor": "white",
            "showbackground": true,
            "ticks": "",
            "zerolinecolor": "white"
           },
           "zaxis": {
            "backgroundcolor": "#E5ECF6",
            "gridcolor": "white",
            "gridwidth": 2,
            "linecolor": "white",
            "showbackground": true,
            "ticks": "",
            "zerolinecolor": "white"
           }
          },
          "shapedefaults": {
           "line": {
            "color": "#2a3f5f"
           }
          },
          "ternary": {
           "aaxis": {
            "gridcolor": "white",
            "linecolor": "white",
            "ticks": ""
           },
           "baxis": {
            "gridcolor": "white",
            "linecolor": "white",
            "ticks": ""
           },
           "bgcolor": "#E5ECF6",
           "caxis": {
            "gridcolor": "white",
            "linecolor": "white",
            "ticks": ""
           }
          },
          "title": {
           "x": 0.05
          },
          "xaxis": {
           "automargin": true,
           "gridcolor": "white",
           "linecolor": "white",
           "ticks": "",
           "title": {
            "standoff": 15
           },
           "zerolinecolor": "white",
           "zerolinewidth": 2
          },
          "yaxis": {
           "automargin": true,
           "gridcolor": "white",
           "linecolor": "white",
           "ticks": "",
           "title": {
            "standoff": 15
           },
           "zerolinecolor": "white",
           "zerolinewidth": 2
          }
         }
        },
        "title": {
         "text": "Buildings Mean Distribution for the year: 1980"
        },
        "width": 1200,
        "xaxis": {
         "anchor": "y",
         "domain": [
          0,
          0.2125
         ],
         "gridcolor": "rgb(150,150,150)",
         "linecolor": "rgb(150,150,150)",
         "showgrid": true,
         "showline": true
        },
        "xaxis10": {
         "anchor": "y10",
         "domain": [
          0.2625,
          0.475
         ],
         "gridcolor": "rgb(150,150,150)",
         "linecolor": "rgb(150,150,150)",
         "showgrid": true,
         "showline": true
        },
        "xaxis11": {
         "anchor": "y11",
         "domain": [
          0.525,
          0.7375
         ],
         "gridcolor": "rgb(150,150,150)",
         "linecolor": "rgb(150,150,150)",
         "showgrid": true,
         "showline": true
        },
        "xaxis12": {
         "anchor": "y12",
         "domain": [
          0.7875,
          1
         ],
         "gridcolor": "rgb(150,150,150)",
         "linecolor": "rgb(150,150,150)",
         "showgrid": true,
         "showline": true
        },
        "xaxis13": {
         "anchor": "y13",
         "domain": [
          0,
          0.2125
         ],
         "gridcolor": "rgb(150,150,150)",
         "linecolor": "rgb(150,150,150)",
         "showgrid": true,
         "showline": true
        },
        "xaxis14": {
         "anchor": "y14",
         "domain": [
          0.2625,
          0.475
         ],
         "gridcolor": "rgb(150,150,150)",
         "linecolor": "rgb(150,150,150)",
         "showgrid": true,
         "showline": true
        },
        "xaxis15": {
         "anchor": "y15",
         "domain": [
          0.525,
          0.7375
         ],
         "gridcolor": "rgb(150,150,150)",
         "linecolor": "rgb(150,150,150)",
         "showgrid": true,
         "showline": true
        },
        "xaxis16": {
         "anchor": "y16",
         "domain": [
          0.7875,
          1
         ],
         "gridcolor": "rgb(150,150,150)",
         "linecolor": "rgb(150,150,150)",
         "showgrid": true,
         "showline": true
        },
        "xaxis2": {
         "anchor": "y2",
         "domain": [
          0.2625,
          0.475
         ],
         "gridcolor": "rgb(150,150,150)",
         "linecolor": "rgb(150,150,150)",
         "showgrid": true,
         "showline": true
        },
        "xaxis3": {
         "anchor": "y3",
         "domain": [
          0.525,
          0.7375
         ],
         "gridcolor": "rgb(150,150,150)",
         "linecolor": "rgb(150,150,150)",
         "showgrid": true,
         "showline": true
        },
        "xaxis4": {
         "anchor": "y4",
         "domain": [
          0.7875,
          1
         ],
         "gridcolor": "rgb(150,150,150)",
         "linecolor": "rgb(150,150,150)",
         "showgrid": true,
         "showline": true
        },
        "xaxis5": {
         "anchor": "y5",
         "domain": [
          0,
          0.2125
         ],
         "gridcolor": "rgb(150,150,150)",
         "linecolor": "rgb(150,150,150)",
         "showgrid": true,
         "showline": true
        },
        "xaxis6": {
         "anchor": "y6",
         "domain": [
          0.2625,
          0.475
         ],
         "gridcolor": "rgb(150,150,150)",
         "linecolor": "rgb(150,150,150)",
         "showgrid": true,
         "showline": true
        },
        "xaxis7": {
         "anchor": "y7",
         "domain": [
          0.525,
          0.7375
         ],
         "gridcolor": "rgb(150,150,150)",
         "linecolor": "rgb(150,150,150)",
         "showgrid": true,
         "showline": true
        },
        "xaxis8": {
         "anchor": "y8",
         "domain": [
          0.7875,
          1
         ],
         "gridcolor": "rgb(150,150,150)",
         "linecolor": "rgb(150,150,150)",
         "showgrid": true,
         "showline": true
        },
        "xaxis9": {
         "anchor": "y9",
         "domain": [
          0,
          0.2125
         ],
         "gridcolor": "rgb(150,150,150)",
         "linecolor": "rgb(150,150,150)",
         "showgrid": true,
         "showline": true
        },
        "yaxis": {
         "anchor": "x",
         "domain": [
          0.84375,
          1
         ],
         "gridcolor": "rgb(150,150,150)",
         "linecolor": "rgb(150,150,150)",
         "showgrid": true,
         "showline": true
        },
        "yaxis10": {
         "anchor": "x10",
         "domain": [
          0.28125,
          0.4375
         ],
         "gridcolor": "rgb(150,150,150)",
         "linecolor": "rgb(150,150,150)",
         "showgrid": true,
         "showline": true
        },
        "yaxis11": {
         "anchor": "x11",
         "domain": [
          0.28125,
          0.4375
         ],
         "gridcolor": "rgb(150,150,150)",
         "linecolor": "rgb(150,150,150)",
         "showgrid": true,
         "showline": true
        },
        "yaxis12": {
         "anchor": "x12",
         "domain": [
          0.28125,
          0.4375
         ],
         "gridcolor": "rgb(150,150,150)",
         "linecolor": "rgb(150,150,150)",
         "showgrid": true,
         "showline": true
        },
        "yaxis13": {
         "anchor": "x13",
         "domain": [
          0,
          0.15625
         ],
         "gridcolor": "rgb(150,150,150)",
         "linecolor": "rgb(150,150,150)",
         "showgrid": true,
         "showline": true
        },
        "yaxis14": {
         "anchor": "x14",
         "domain": [
          0,
          0.15625
         ],
         "gridcolor": "rgb(150,150,150)",
         "linecolor": "rgb(150,150,150)",
         "showgrid": true,
         "showline": true
        },
        "yaxis15": {
         "anchor": "x15",
         "domain": [
          0,
          0.15625
         ],
         "gridcolor": "rgb(150,150,150)",
         "linecolor": "rgb(150,150,150)",
         "showgrid": true,
         "showline": true
        },
        "yaxis16": {
         "anchor": "x16",
         "domain": [
          0,
          0.15625
         ],
         "gridcolor": "rgb(150,150,150)",
         "linecolor": "rgb(150,150,150)",
         "showgrid": true,
         "showline": true
        },
        "yaxis2": {
         "anchor": "x2",
         "domain": [
          0.84375,
          1
         ],
         "gridcolor": "rgb(150,150,150)",
         "linecolor": "rgb(150,150,150)",
         "showgrid": true,
         "showline": true
        },
        "yaxis3": {
         "anchor": "x3",
         "domain": [
          0.84375,
          1
         ],
         "gridcolor": "rgb(150,150,150)",
         "linecolor": "rgb(150,150,150)",
         "showgrid": true,
         "showline": true
        },
        "yaxis4": {
         "anchor": "x4",
         "domain": [
          0.84375,
          1
         ],
         "gridcolor": "rgb(150,150,150)",
         "linecolor": "rgb(150,150,150)",
         "showgrid": true,
         "showline": true
        },
        "yaxis5": {
         "anchor": "x5",
         "domain": [
          0.5625,
          0.71875
         ],
         "gridcolor": "rgb(150,150,150)",
         "linecolor": "rgb(150,150,150)",
         "showgrid": true,
         "showline": true
        },
        "yaxis6": {
         "anchor": "x6",
         "domain": [
          0.5625,
          0.71875
         ],
         "gridcolor": "rgb(150,150,150)",
         "linecolor": "rgb(150,150,150)",
         "showgrid": true,
         "showline": true
        },
        "yaxis7": {
         "anchor": "x7",
         "domain": [
          0.5625,
          0.71875
         ],
         "gridcolor": "rgb(150,150,150)",
         "linecolor": "rgb(150,150,150)",
         "showgrid": true,
         "showline": true
        },
        "yaxis8": {
         "anchor": "x8",
         "domain": [
          0.5625,
          0.71875
         ],
         "gridcolor": "rgb(150,150,150)",
         "linecolor": "rgb(150,150,150)",
         "showgrid": true,
         "showline": true
        },
        "yaxis9": {
         "anchor": "x9",
         "domain": [
          0.28125,
          0.4375
         ],
         "gridcolor": "rgb(150,150,150)",
         "linecolor": "rgb(150,150,150)",
         "showgrid": true,
         "showline": true
        }
       }
      }
     },
     "metadata": {},
     "output_type": "display_data"
    }
   ],
   "source": [
    "ridt_widgets.widget4()\n",
    "age_fig_c_year,ds_cal = ridt_widgets.widget_4_action(df_ts_1)\n",
    "age_fig_c_year.show()"
   ]
  },
  {
   "cell_type": "markdown",
   "metadata": {
    "id": "-DN7qQblLUv7"
   },
   "source": [
    "\n",
    "## Now adding building events\n",
    "# First Event Rivercross Between Start date 2003-01-01 and End date 2013-12-31 as\n",
    "# Flaged 🚩\n",
    "<img src='rc.jpg' width='250'/>\n"
   ]
  },
  {
   "cell_type": "markdown",
   "metadata": {
    "id": "MX724PDqLcd2"
   },
   "source": [
    "# 🚩Adding Building Event Time Series"
   ]
  },
  {
   "cell_type": "code",
   "execution_count": 45,
   "metadata": {
    "colab": {
     "base_uri": "https://localhost:8080/",
     "height": 288
    },
    "id": "aSf1jwCS3hMt",
    "outputId": "015b8595-ad8e-43b0-f447-16fd2e98f4fb"
   },
   "outputs": [],
   "source": [
    "#bldg_events"
   ]
  },
  {
   "cell_type": "code",
   "execution_count": 92,
   "metadata": {
    "colab": {
     "base_uri": "https://localhost:8080/"
    },
    "id": "fmGOJQJbI192",
    "outputId": "e8377e0e-b01c-422f-8ab2-b9339c5cad7d"
   },
   "outputs": [
    {
     "name": "stdout",
     "output_type": "stream",
     "text": [
      "i 0\n",
      "i 1\n",
      "i 2\n",
      "i 3\n",
      "i 4\n",
      "i 5\n",
      "i 6\n",
      "i 7\n",
      "Updating To Market Rate: Rivercross\n",
      "Updating To Market Rate: island house\n",
      "Updating To Market Rate: Westview\n",
      "Updating To Market Rate: Roosevelt Landings\n"
     ]
    }
   ],
   "source": [
    "#bld_ts = ridt_buildings_ts_obj(p_ds.json_bldgs, bldg_events)\n",
    "#bld_ts.ds\n",
    "df_ts_2 = ridt_WIRE.update_Wire_To_Market_rate(p_ds,bldg_events,df_ts_1) # Update WIRE to Market Rate"
   ]
  },
  {
   "cell_type": "code",
   "execution_count": 93,
   "metadata": {
    "id": "ZtakEjfU-c66"
   },
   "outputs": [],
   "source": [
    "#df_ts_2.ds.to_excel('big_data_ri_nov_5.xlsx')"
   ]
  },
  {
   "cell_type": "markdown",
   "metadata": {
    "id": "MlsGfcX3JCTo"
   },
   "source": [
    "# Adding Market Simulation for Non WIRE buildings"
   ]
  },
  {
   "cell_type": "code",
   "execution_count": 94,
   "metadata": {
    "id": "mxRoHavau4JA"
   },
   "outputs": [],
   "source": [
    "rental_south_town = p_ds.ApartmentType_according_to_dict()\n",
    "#rental_south_town"
   ]
  },
  {
   "cell_type": "code",
   "execution_count": 95,
   "metadata": {
    "id": "zrwjtqzTvWbc"
   },
   "outputs": [],
   "source": [
    "rental_south_town = rental_south_town.query(\"(Category=='Rental')&(Group=='SouthTown')\")"
   ]
  },
  {
   "cell_type": "code",
   "execution_count": 96,
   "metadata": {
    "colab": {
     "base_uri": "https://localhost:8080/",
     "height": 198
    },
    "id": "Y5sLSqnDvWYR",
    "outputId": "37f33711-fe68-4e89-fa5c-52f73a78f201"
   },
   "outputs": [
    {
     "data": {
      "text/html": [
       "<div>\n",
       "<style scoped>\n",
       "    .dataframe tbody tr th:only-of-type {\n",
       "        vertical-align: middle;\n",
       "    }\n",
       "\n",
       "    .dataframe tbody tr th {\n",
       "        vertical-align: top;\n",
       "    }\n",
       "\n",
       "    .dataframe thead th {\n",
       "        text-align: right;\n",
       "    }\n",
       "</style>\n",
       "<table border=\"1\" class=\"dataframe\">\n",
       "  <thead>\n",
       "    <tr style=\"text-align: right;\">\n",
       "      <th></th>\n",
       "      <th>bldgs_id</th>\n",
       "      <th>cnstrct_yr</th>\n",
       "      <th>Bldg Proje</th>\n",
       "      <th>Category</th>\n",
       "      <th>Group</th>\n",
       "    </tr>\n",
       "  </thead>\n",
       "  <tbody>\n",
       "    <tr>\n",
       "      <th>7</th>\n",
       "      <td>480</td>\n",
       "      <td>2015</td>\n",
       "      <td>Riverwalk Point</td>\n",
       "      <td>Rental</td>\n",
       "      <td>SouthTown</td>\n",
       "    </tr>\n",
       "    <tr>\n",
       "      <th>11</th>\n",
       "      <td>405</td>\n",
       "      <td>2007</td>\n",
       "      <td>Riverwalk Crossing</td>\n",
       "      <td>Rental</td>\n",
       "      <td>SouthTown</td>\n",
       "    </tr>\n",
       "    <tr>\n",
       "      <th>13</th>\n",
       "      <td>465</td>\n",
       "      <td>2004</td>\n",
       "      <td>Riverwalk place</td>\n",
       "      <td>Rental</td>\n",
       "      <td>SouthTown</td>\n",
       "    </tr>\n",
       "    <tr>\n",
       "      <th>14</th>\n",
       "      <td>475</td>\n",
       "      <td>2004</td>\n",
       "      <td>Riverwalk place</td>\n",
       "      <td>Rental</td>\n",
       "      <td>SouthTown</td>\n",
       "    </tr>\n",
       "    <tr>\n",
       "      <th>15</th>\n",
       "      <td>460</td>\n",
       "      <td>2020</td>\n",
       "      <td>Riverwalk Point</td>\n",
       "      <td>Rental</td>\n",
       "      <td>SouthTown</td>\n",
       "    </tr>\n",
       "  </tbody>\n",
       "</table>\n",
       "</div>"
      ],
      "text/plain": [
       "   bldgs_id  cnstrct_yr          Bldg Proje Category      Group\n",
       "7       480        2015     Riverwalk Point   Rental  SouthTown\n",
       "11      405        2007  Riverwalk Crossing   Rental  SouthTown\n",
       "13      465        2004     Riverwalk place   Rental  SouthTown\n",
       "14      475        2004     Riverwalk place   Rental  SouthTown\n",
       "15      460        2020     Riverwalk Point   Rental  SouthTown"
      ]
     },
     "execution_count": 96,
     "metadata": {
      "tags": []
     },
     "output_type": "execute_result"
    }
   ],
   "source": [
    "rental_south_town"
   ]
  },
  {
   "cell_type": "code",
   "execution_count": 97,
   "metadata": {
    "id": "l9h_2BEJvRCO"
   },
   "outputs": [],
   "source": [
    "# Todos\n",
    "# Update Rent Price Range According to ctegory and real price range\n",
    "# update Agents\n",
    "# Take a subset of the Agents from these 5 buildins\n",
    "# every year \n",
    "#their slary\n",
    "# evey year increase rent\n",
    "# if Burden above 38% get out"
   ]
  },
  {
   "cell_type": "code",
   "execution_count": 103,
   "metadata": {
    "colab": {
     "base_uri": "https://localhost:8080/",
     "height": 963
    },
    "id": "Owg_pv2uIzX5",
    "outputId": "e2af7748-f90d-4a65-a0b0-6fe58a2875a2"
   },
   "outputs": [
    {
     "data": {
      "text/html": [
       "<div>\n",
       "<style scoped>\n",
       "    .dataframe tbody tr th:only-of-type {\n",
       "        vertical-align: middle;\n",
       "    }\n",
       "\n",
       "    .dataframe tbody tr th {\n",
       "        vertical-align: top;\n",
       "    }\n",
       "\n",
       "    .dataframe thead th {\n",
       "        text-align: right;\n",
       "    }\n",
       "</style>\n",
       "<table border=\"1\" class=\"dataframe\">\n",
       "  <thead>\n",
       "    <tr style=\"text-align: right;\">\n",
       "      <th></th>\n",
       "      <th>ap_index</th>\n",
       "      <th>bld_key</th>\n",
       "      <th>address_door</th>\n",
       "      <th>Building Name</th>\n",
       "      <th>built_year</th>\n",
       "      <th>affordable_living</th>\n",
       "      <th>elderly_lving</th>\n",
       "      <th>Rental_Units</th>\n",
       "      <th>ApartmentType</th>\n",
       "      <th>annual_utilities</th>\n",
       "      <th>Ap_sq_feet_size</th>\n",
       "      <th>Ap_number_of_rooms</th>\n",
       "      <th>protected</th>\n",
       "      <th>Low_income</th>\n",
       "      <th>Upper_income</th>\n",
       "      <th>agent_action</th>\n",
       "      <th>move_in</th>\n",
       "      <th>birth_date</th>\n",
       "      <th>death_date</th>\n",
       "      <th>death_age</th>\n",
       "      <th>entrance_age</th>\n",
       "      <th>move_out</th>\n",
       "      <th>cause</th>\n",
       "      <th>income</th>\n",
       "      <th>annual_return_mortgage</th>\n",
       "      <th>annual_hoa_expenses</th>\n",
       "      <th>annual_expenses</th>\n",
       "      <th>annual_burden</th>\n",
       "      <th>agentID</th>\n",
       "      <th>previous_agentID</th>\n",
       "      <th>tenant_cycle</th>\n",
       "      <th>comment 1</th>\n",
       "      <th>comment 2</th>\n",
       "      <th>annual_mortgage_burden</th>\n",
       "      <th>annual_expenses_burden</th>\n",
       "    </tr>\n",
       "  </thead>\n",
       "  <tbody>\n",
       "    <tr>\n",
       "      <th>1967</th>\n",
       "      <td>0</td>\n",
       "      <td>480</td>\n",
       "      <td>480_0</td>\n",
       "      <td>Riverwalk Point</td>\n",
       "      <td>2015-01-01</td>\n",
       "      <td>1</td>\n",
       "      <td>0</td>\n",
       "      <td>1</td>\n",
       "      <td>Rental</td>\n",
       "      <td>3000</td>\n",
       "      <td>1364.0</td>\n",
       "      <td>2.0</td>\n",
       "      <td>False</td>\n",
       "      <td>41846</td>\n",
       "      <td>66953</td>\n",
       "      <td>In Building</td>\n",
       "      <td>2015-01-01</td>\n",
       "      <td>1978-09-08</td>\n",
       "      <td>2074-01-01</td>\n",
       "      <td>96</td>\n",
       "      <td>37</td>\n",
       "      <td>2074-01-01</td>\n",
       "      <td>death</td>\n",
       "      <td>60866</td>\n",
       "      <td>0.0</td>\n",
       "      <td>0.0</td>\n",
       "      <td>0.0</td>\n",
       "      <td>0.0</td>\n",
       "      <td>9110c1d4-a1f8-4757-aca7-f5387d767ca4</td>\n",
       "      <td>0</td>\n",
       "      <td>0.0</td>\n",
       "      <td></td>\n",
       "      <td></td>\n",
       "      <td>NaN</td>\n",
       "      <td>NaN</td>\n",
       "    </tr>\n",
       "    <tr>\n",
       "      <th>1968</th>\n",
       "      <td>1</td>\n",
       "      <td>480</td>\n",
       "      <td>480_1</td>\n",
       "      <td>Riverwalk Point</td>\n",
       "      <td>2015-01-01</td>\n",
       "      <td>1</td>\n",
       "      <td>0</td>\n",
       "      <td>1</td>\n",
       "      <td>Rental</td>\n",
       "      <td>3000</td>\n",
       "      <td>1364.0</td>\n",
       "      <td>2.0</td>\n",
       "      <td>False</td>\n",
       "      <td>41846</td>\n",
       "      <td>66953</td>\n",
       "      <td>In Building</td>\n",
       "      <td>2015-01-01</td>\n",
       "      <td>1985-01-03</td>\n",
       "      <td>2069-01-01</td>\n",
       "      <td>84</td>\n",
       "      <td>30</td>\n",
       "      <td>2069-01-01</td>\n",
       "      <td>death</td>\n",
       "      <td>54221</td>\n",
       "      <td>0.0</td>\n",
       "      <td>0.0</td>\n",
       "      <td>0.0</td>\n",
       "      <td>0.0</td>\n",
       "      <td>474adfea-6c2f-49b8-8c00-69f879baf465</td>\n",
       "      <td>0</td>\n",
       "      <td>0.0</td>\n",
       "      <td></td>\n",
       "      <td></td>\n",
       "      <td>NaN</td>\n",
       "      <td>NaN</td>\n",
       "    </tr>\n",
       "    <tr>\n",
       "      <th>1969</th>\n",
       "      <td>2</td>\n",
       "      <td>480</td>\n",
       "      <td>480_2</td>\n",
       "      <td>Riverwalk Point</td>\n",
       "      <td>2015-01-01</td>\n",
       "      <td>1</td>\n",
       "      <td>0</td>\n",
       "      <td>1</td>\n",
       "      <td>Rental</td>\n",
       "      <td>3000</td>\n",
       "      <td>1364.0</td>\n",
       "      <td>2.0</td>\n",
       "      <td>False</td>\n",
       "      <td>41846</td>\n",
       "      <td>66953</td>\n",
       "      <td>In Building</td>\n",
       "      <td>2015-01-01</td>\n",
       "      <td>1974-02-17</td>\n",
       "      <td>2072-01-01</td>\n",
       "      <td>98</td>\n",
       "      <td>41</td>\n",
       "      <td>2072-01-01</td>\n",
       "      <td>death</td>\n",
       "      <td>54792</td>\n",
       "      <td>0.0</td>\n",
       "      <td>0.0</td>\n",
       "      <td>0.0</td>\n",
       "      <td>0.0</td>\n",
       "      <td>1326d5d8-d4f2-4d3d-a1d2-3396713f6c23</td>\n",
       "      <td>0</td>\n",
       "      <td>0.0</td>\n",
       "      <td></td>\n",
       "      <td></td>\n",
       "      <td>NaN</td>\n",
       "      <td>NaN</td>\n",
       "    </tr>\n",
       "    <tr>\n",
       "      <th>1970</th>\n",
       "      <td>3</td>\n",
       "      <td>480</td>\n",
       "      <td>480_3</td>\n",
       "      <td>Riverwalk Point</td>\n",
       "      <td>2015-01-01</td>\n",
       "      <td>1</td>\n",
       "      <td>0</td>\n",
       "      <td>1</td>\n",
       "      <td>Rental</td>\n",
       "      <td>3000</td>\n",
       "      <td>1364.0</td>\n",
       "      <td>2.0</td>\n",
       "      <td>False</td>\n",
       "      <td>41846</td>\n",
       "      <td>66953</td>\n",
       "      <td>In Building</td>\n",
       "      <td>2015-01-01</td>\n",
       "      <td>1957-08-06</td>\n",
       "      <td>2031-01-01</td>\n",
       "      <td>74</td>\n",
       "      <td>58</td>\n",
       "      <td>2031-01-01</td>\n",
       "      <td>death</td>\n",
       "      <td>55795</td>\n",
       "      <td>0.0</td>\n",
       "      <td>0.0</td>\n",
       "      <td>0.0</td>\n",
       "      <td>0.0</td>\n",
       "      <td>82cc967d-44ed-4206-a218-04932af70e8f</td>\n",
       "      <td>0</td>\n",
       "      <td>0.0</td>\n",
       "      <td></td>\n",
       "      <td></td>\n",
       "      <td>NaN</td>\n",
       "      <td>NaN</td>\n",
       "    </tr>\n",
       "    <tr>\n",
       "      <th>1971</th>\n",
       "      <td>4</td>\n",
       "      <td>480</td>\n",
       "      <td>480_4</td>\n",
       "      <td>Riverwalk Point</td>\n",
       "      <td>2015-01-01</td>\n",
       "      <td>1</td>\n",
       "      <td>0</td>\n",
       "      <td>1</td>\n",
       "      <td>Rental</td>\n",
       "      <td>3000</td>\n",
       "      <td>1364.0</td>\n",
       "      <td>2.0</td>\n",
       "      <td>False</td>\n",
       "      <td>41846</td>\n",
       "      <td>66953</td>\n",
       "      <td>In Building</td>\n",
       "      <td>2015-01-01</td>\n",
       "      <td>1956-03-24</td>\n",
       "      <td>2048-01-01</td>\n",
       "      <td>92</td>\n",
       "      <td>59</td>\n",
       "      <td>2048-01-01</td>\n",
       "      <td>death</td>\n",
       "      <td>42043</td>\n",
       "      <td>0.0</td>\n",
       "      <td>0.0</td>\n",
       "      <td>0.0</td>\n",
       "      <td>0.0</td>\n",
       "      <td>ad66cd4e-a211-437f-ac4c-9bf49eab1851</td>\n",
       "      <td>0</td>\n",
       "      <td>0.0</td>\n",
       "      <td></td>\n",
       "      <td></td>\n",
       "      <td>NaN</td>\n",
       "      <td>NaN</td>\n",
       "    </tr>\n",
       "    <tr>\n",
       "      <th>...</th>\n",
       "      <td>...</td>\n",
       "      <td>...</td>\n",
       "      <td>...</td>\n",
       "      <td>...</td>\n",
       "      <td>...</td>\n",
       "      <td>...</td>\n",
       "      <td>...</td>\n",
       "      <td>...</td>\n",
       "      <td>...</td>\n",
       "      <td>...</td>\n",
       "      <td>...</td>\n",
       "      <td>...</td>\n",
       "      <td>...</td>\n",
       "      <td>...</td>\n",
       "      <td>...</td>\n",
       "      <td>...</td>\n",
       "      <td>...</td>\n",
       "      <td>...</td>\n",
       "      <td>...</td>\n",
       "      <td>...</td>\n",
       "      <td>...</td>\n",
       "      <td>...</td>\n",
       "      <td>...</td>\n",
       "      <td>...</td>\n",
       "      <td>...</td>\n",
       "      <td>...</td>\n",
       "      <td>...</td>\n",
       "      <td>...</td>\n",
       "      <td>...</td>\n",
       "      <td>...</td>\n",
       "      <td>...</td>\n",
       "      <td>...</td>\n",
       "      <td>...</td>\n",
       "      <td>...</td>\n",
       "      <td>...</td>\n",
       "    </tr>\n",
       "    <tr>\n",
       "      <th>8390</th>\n",
       "      <td>77</td>\n",
       "      <td>460</td>\n",
       "      <td>460_77</td>\n",
       "      <td>Riverwalk Point</td>\n",
       "      <td>2020-01-01</td>\n",
       "      <td>1</td>\n",
       "      <td>0</td>\n",
       "      <td>1</td>\n",
       "      <td>Rental</td>\n",
       "      <td>3000</td>\n",
       "      <td>1364.0</td>\n",
       "      <td>2.0</td>\n",
       "      <td>False</td>\n",
       "      <td>225671</td>\n",
       "      <td>530992</td>\n",
       "      <td>In Building</td>\n",
       "      <td>2097-01-02</td>\n",
       "      <td>2064-03-17</td>\n",
       "      <td>2100-01-01</td>\n",
       "      <td>36</td>\n",
       "      <td>33</td>\n",
       "      <td>2100-01-01</td>\n",
       "      <td>death</td>\n",
       "      <td>418514</td>\n",
       "      <td>0.0</td>\n",
       "      <td>0.0</td>\n",
       "      <td>0.0</td>\n",
       "      <td>0.0</td>\n",
       "      <td>6b7bad42-5566-457d-ba18-8afe54a71ed5</td>\n",
       "      <td>99639764-12b3-44bd-a928-c12a0b1bd369</td>\n",
       "      <td>2.0</td>\n",
       "      <td></td>\n",
       "      <td></td>\n",
       "      <td>NaN</td>\n",
       "      <td>NaN</td>\n",
       "    </tr>\n",
       "    <tr>\n",
       "      <th>8391</th>\n",
       "      <td>93</td>\n",
       "      <td>460</td>\n",
       "      <td>460_93</td>\n",
       "      <td>Riverwalk Point</td>\n",
       "      <td>2020-01-01</td>\n",
       "      <td>1</td>\n",
       "      <td>0</td>\n",
       "      <td>1</td>\n",
       "      <td>Rental</td>\n",
       "      <td>3000</td>\n",
       "      <td>1364.0</td>\n",
       "      <td>2.0</td>\n",
       "      <td>False</td>\n",
       "      <td>203231</td>\n",
       "      <td>478191</td>\n",
       "      <td>In Building</td>\n",
       "      <td>2088-01-02</td>\n",
       "      <td>2053-05-07</td>\n",
       "      <td>2100-01-01</td>\n",
       "      <td>47</td>\n",
       "      <td>35</td>\n",
       "      <td>2100-01-01</td>\n",
       "      <td>death</td>\n",
       "      <td>329754</td>\n",
       "      <td>0.0</td>\n",
       "      <td>0.0</td>\n",
       "      <td>0.0</td>\n",
       "      <td>0.0</td>\n",
       "      <td>fc86d86b-965d-48ed-b1db-952810c11f1f</td>\n",
       "      <td>d52bd8b6-8c19-4494-8523-42edf2c661f0</td>\n",
       "      <td>2.0</td>\n",
       "      <td></td>\n",
       "      <td></td>\n",
       "      <td>NaN</td>\n",
       "      <td>NaN</td>\n",
       "    </tr>\n",
       "    <tr>\n",
       "      <th>8392</th>\n",
       "      <td>120</td>\n",
       "      <td>460</td>\n",
       "      <td>460_120</td>\n",
       "      <td>Riverwalk Point</td>\n",
       "      <td>2020-01-01</td>\n",
       "      <td>1</td>\n",
       "      <td>0</td>\n",
       "      <td>1</td>\n",
       "      <td>Rental</td>\n",
       "      <td>3000</td>\n",
       "      <td>1364.0</td>\n",
       "      <td>2.0</td>\n",
       "      <td>False</td>\n",
       "      <td>215531</td>\n",
       "      <td>507132</td>\n",
       "      <td>In Building</td>\n",
       "      <td>2093-01-02</td>\n",
       "      <td>2063-03-01</td>\n",
       "      <td>2100-01-01</td>\n",
       "      <td>37</td>\n",
       "      <td>30</td>\n",
       "      <td>2100-01-01</td>\n",
       "      <td>death</td>\n",
       "      <td>243479</td>\n",
       "      <td>0.0</td>\n",
       "      <td>0.0</td>\n",
       "      <td>0.0</td>\n",
       "      <td>0.0</td>\n",
       "      <td>2b805b02-f50c-44af-8968-bf7d96d51266</td>\n",
       "      <td>ccc5b857-5b08-4eea-82e5-efd1eb72dc35</td>\n",
       "      <td>2.0</td>\n",
       "      <td></td>\n",
       "      <td></td>\n",
       "      <td>NaN</td>\n",
       "      <td>NaN</td>\n",
       "    </tr>\n",
       "    <tr>\n",
       "      <th>8393</th>\n",
       "      <td>185</td>\n",
       "      <td>460</td>\n",
       "      <td>460_185</td>\n",
       "      <td>Riverwalk Point</td>\n",
       "      <td>2020-01-01</td>\n",
       "      <td>0</td>\n",
       "      <td>0</td>\n",
       "      <td>1</td>\n",
       "      <td>Rental</td>\n",
       "      <td>3000</td>\n",
       "      <td>1364.0</td>\n",
       "      <td>2.0</td>\n",
       "      <td>False</td>\n",
       "      <td>223111</td>\n",
       "      <td>524969</td>\n",
       "      <td>In Building</td>\n",
       "      <td>2096-01-02</td>\n",
       "      <td>2061-12-24</td>\n",
       "      <td>2100-01-01</td>\n",
       "      <td>39</td>\n",
       "      <td>35</td>\n",
       "      <td>2100-01-01</td>\n",
       "      <td>death</td>\n",
       "      <td>444833</td>\n",
       "      <td>0.0</td>\n",
       "      <td>0.0</td>\n",
       "      <td>0.0</td>\n",
       "      <td>0.0</td>\n",
       "      <td>88e33e14-84e7-4de4-8e3c-84d211d6c523</td>\n",
       "      <td>6c8aca07-1967-42e3-b116-edf8768ada55</td>\n",
       "      <td>2.0</td>\n",
       "      <td></td>\n",
       "      <td></td>\n",
       "      <td>NaN</td>\n",
       "      <td>NaN</td>\n",
       "    </tr>\n",
       "    <tr>\n",
       "      <th>8394</th>\n",
       "      <td>248</td>\n",
       "      <td>460</td>\n",
       "      <td>460_248</td>\n",
       "      <td>Riverwalk Point</td>\n",
       "      <td>2020-01-01</td>\n",
       "      <td>0</td>\n",
       "      <td>0</td>\n",
       "      <td>1</td>\n",
       "      <td>Rental</td>\n",
       "      <td>3000</td>\n",
       "      <td>1364.0</td>\n",
       "      <td>2.0</td>\n",
       "      <td>False</td>\n",
       "      <td>208101</td>\n",
       "      <td>489650</td>\n",
       "      <td>In Building</td>\n",
       "      <td>2090-01-02</td>\n",
       "      <td>2060-03-14</td>\n",
       "      <td>2100-01-01</td>\n",
       "      <td>40</td>\n",
       "      <td>30</td>\n",
       "      <td>2100-01-01</td>\n",
       "      <td>death</td>\n",
       "      <td>220687</td>\n",
       "      <td>0.0</td>\n",
       "      <td>0.0</td>\n",
       "      <td>0.0</td>\n",
       "      <td>0.0</td>\n",
       "      <td>d4edd475-9472-4e53-a6f2-538f386056c0</td>\n",
       "      <td>ea2a02dd-1579-4469-8d8f-648e6f5e3bc9</td>\n",
       "      <td>2.0</td>\n",
       "      <td></td>\n",
       "      <td></td>\n",
       "      <td>NaN</td>\n",
       "      <td>NaN</td>\n",
       "    </tr>\n",
       "  </tbody>\n",
       "</table>\n",
       "<p>2557 rows × 35 columns</p>\n",
       "</div>"
      ],
      "text/plain": [
       "      ap_index bld_key address_door    Building Name built_year  \\\n",
       "1967         0     480        480_0  Riverwalk Point 2015-01-01   \n",
       "1968         1     480        480_1  Riverwalk Point 2015-01-01   \n",
       "1969         2     480        480_2  Riverwalk Point 2015-01-01   \n",
       "1970         3     480        480_3  Riverwalk Point 2015-01-01   \n",
       "1971         4     480        480_4  Riverwalk Point 2015-01-01   \n",
       "...        ...     ...          ...              ...        ...   \n",
       "8390        77     460       460_77  Riverwalk Point 2020-01-01   \n",
       "8391        93     460       460_93  Riverwalk Point 2020-01-01   \n",
       "8392       120     460      460_120  Riverwalk Point 2020-01-01   \n",
       "8393       185     460      460_185  Riverwalk Point 2020-01-01   \n",
       "8394       248     460      460_248  Riverwalk Point 2020-01-01   \n",
       "\n",
       "      affordable_living  elderly_lving  Rental_Units ApartmentType  \\\n",
       "1967                  1              0             1        Rental   \n",
       "1968                  1              0             1        Rental   \n",
       "1969                  1              0             1        Rental   \n",
       "1970                  1              0             1        Rental   \n",
       "1971                  1              0             1        Rental   \n",
       "...                 ...            ...           ...           ...   \n",
       "8390                  1              0             1        Rental   \n",
       "8391                  1              0             1        Rental   \n",
       "8392                  1              0             1        Rental   \n",
       "8393                  0              0             1        Rental   \n",
       "8394                  0              0             1        Rental   \n",
       "\n",
       "      annual_utilities  Ap_sq_feet_size  Ap_number_of_rooms  protected  \\\n",
       "1967              3000           1364.0                 2.0      False   \n",
       "1968              3000           1364.0                 2.0      False   \n",
       "1969              3000           1364.0                 2.0      False   \n",
       "1970              3000           1364.0                 2.0      False   \n",
       "1971              3000           1364.0                 2.0      False   \n",
       "...                ...              ...                 ...        ...   \n",
       "8390              3000           1364.0                 2.0      False   \n",
       "8391              3000           1364.0                 2.0      False   \n",
       "8392              3000           1364.0                 2.0      False   \n",
       "8393              3000           1364.0                 2.0      False   \n",
       "8394              3000           1364.0                 2.0      False   \n",
       "\n",
       "      Low_income  Upper_income agent_action    move_in birth_date death_date  \\\n",
       "1967       41846         66953  In Building 2015-01-01 1978-09-08 2074-01-01   \n",
       "1968       41846         66953  In Building 2015-01-01 1985-01-03 2069-01-01   \n",
       "1969       41846         66953  In Building 2015-01-01 1974-02-17 2072-01-01   \n",
       "1970       41846         66953  In Building 2015-01-01 1957-08-06 2031-01-01   \n",
       "1971       41846         66953  In Building 2015-01-01 1956-03-24 2048-01-01   \n",
       "...          ...           ...          ...        ...        ...        ...   \n",
       "8390      225671        530992  In Building 2097-01-02 2064-03-17 2100-01-01   \n",
       "8391      203231        478191  In Building 2088-01-02 2053-05-07 2100-01-01   \n",
       "8392      215531        507132  In Building 2093-01-02 2063-03-01 2100-01-01   \n",
       "8393      223111        524969  In Building 2096-01-02 2061-12-24 2100-01-01   \n",
       "8394      208101        489650  In Building 2090-01-02 2060-03-14 2100-01-01   \n",
       "\n",
       "      death_age  entrance_age   move_out  cause  income  \\\n",
       "1967         96            37 2074-01-01  death   60866   \n",
       "1968         84            30 2069-01-01  death   54221   \n",
       "1969         98            41 2072-01-01  death   54792   \n",
       "1970         74            58 2031-01-01  death   55795   \n",
       "1971         92            59 2048-01-01  death   42043   \n",
       "...         ...           ...        ...    ...     ...   \n",
       "8390         36            33 2100-01-01  death  418514   \n",
       "8391         47            35 2100-01-01  death  329754   \n",
       "8392         37            30 2100-01-01  death  243479   \n",
       "8393         39            35 2100-01-01  death  444833   \n",
       "8394         40            30 2100-01-01  death  220687   \n",
       "\n",
       "      annual_return_mortgage  annual_hoa_expenses  annual_expenses  \\\n",
       "1967                     0.0                  0.0              0.0   \n",
       "1968                     0.0                  0.0              0.0   \n",
       "1969                     0.0                  0.0              0.0   \n",
       "1970                     0.0                  0.0              0.0   \n",
       "1971                     0.0                  0.0              0.0   \n",
       "...                      ...                  ...              ...   \n",
       "8390                     0.0                  0.0              0.0   \n",
       "8391                     0.0                  0.0              0.0   \n",
       "8392                     0.0                  0.0              0.0   \n",
       "8393                     0.0                  0.0              0.0   \n",
       "8394                     0.0                  0.0              0.0   \n",
       "\n",
       "      annual_burden                               agentID  \\\n",
       "1967            0.0  9110c1d4-a1f8-4757-aca7-f5387d767ca4   \n",
       "1968            0.0  474adfea-6c2f-49b8-8c00-69f879baf465   \n",
       "1969            0.0  1326d5d8-d4f2-4d3d-a1d2-3396713f6c23   \n",
       "1970            0.0  82cc967d-44ed-4206-a218-04932af70e8f   \n",
       "1971            0.0  ad66cd4e-a211-437f-ac4c-9bf49eab1851   \n",
       "...             ...                                   ...   \n",
       "8390            0.0  6b7bad42-5566-457d-ba18-8afe54a71ed5   \n",
       "8391            0.0  fc86d86b-965d-48ed-b1db-952810c11f1f   \n",
       "8392            0.0  2b805b02-f50c-44af-8968-bf7d96d51266   \n",
       "8393            0.0  88e33e14-84e7-4de4-8e3c-84d211d6c523   \n",
       "8394            0.0  d4edd475-9472-4e53-a6f2-538f386056c0   \n",
       "\n",
       "                          previous_agentID  tenant_cycle comment 1 comment 2  \\\n",
       "1967                                     0           0.0                       \n",
       "1968                                     0           0.0                       \n",
       "1969                                     0           0.0                       \n",
       "1970                                     0           0.0                       \n",
       "1971                                     0           0.0                       \n",
       "...                                    ...           ...       ...       ...   \n",
       "8390  99639764-12b3-44bd-a928-c12a0b1bd369           2.0                       \n",
       "8391  d52bd8b6-8c19-4494-8523-42edf2c661f0           2.0                       \n",
       "8392  ccc5b857-5b08-4eea-82e5-efd1eb72dc35           2.0                       \n",
       "8393  6c8aca07-1967-42e3-b116-edf8768ada55           2.0                       \n",
       "8394  ea2a02dd-1579-4469-8d8f-648e6f5e3bc9           2.0                       \n",
       "\n",
       "      annual_mortgage_burden  annual_expenses_burden  \n",
       "1967                     NaN                     NaN  \n",
       "1968                     NaN                     NaN  \n",
       "1969                     NaN                     NaN  \n",
       "1970                     NaN                     NaN  \n",
       "1971                     NaN                     NaN  \n",
       "...                      ...                     ...  \n",
       "8390                     NaN                     NaN  \n",
       "8391                     NaN                     NaN  \n",
       "8392                     NaN                     NaN  \n",
       "8393                     NaN                     NaN  \n",
       "8394                     NaN                     NaN  \n",
       "\n",
       "[2557 rows x 35 columns]"
      ]
     },
     "execution_count": 103,
     "metadata": {
      "tags": []
     },
     "output_type": "execute_result"
    }
   ],
   "source": [
    "df_ts_2.filter_by_list_of_bld_keys(rental_south_town['bldgs_id'].values).ds"
   ]
  },
  {
   "cell_type": "code",
   "execution_count": 99,
   "metadata": {
    "colab": {
     "base_uri": "https://localhost:8080/",
     "height": 495
    },
    "id": "zC-y50lBJHxk",
    "outputId": "b787e6c6-3b0c-4dbf-eae3-df7f30febdee"
   },
   "outputs": [
    {
     "data": {
      "text/html": [
       "<div>\n",
       "<style scoped>\n",
       "    .dataframe tbody tr th:only-of-type {\n",
       "        vertical-align: middle;\n",
       "    }\n",
       "\n",
       "    .dataframe tbody tr th {\n",
       "        vertical-align: top;\n",
       "    }\n",
       "\n",
       "    .dataframe thead th {\n",
       "        text-align: right;\n",
       "    }\n",
       "</style>\n",
       "<table border=\"1\" class=\"dataframe\">\n",
       "  <thead>\n",
       "    <tr style=\"text-align: right;\">\n",
       "      <th></th>\n",
       "      <th>ap_index</th>\n",
       "      <th>bld_key</th>\n",
       "      <th>address_door</th>\n",
       "      <th>Building Name</th>\n",
       "      <th>built_year</th>\n",
       "      <th>affordable_living</th>\n",
       "      <th>elderly_lving</th>\n",
       "      <th>Rental_Units</th>\n",
       "      <th>ApartmentType</th>\n",
       "      <th>annual_utilities</th>\n",
       "      <th>Ap_sq_feet_size</th>\n",
       "      <th>Ap_number_of_rooms</th>\n",
       "      <th>protected</th>\n",
       "      <th>Low_income</th>\n",
       "      <th>Upper_income</th>\n",
       "      <th>agent_action</th>\n",
       "      <th>move_in</th>\n",
       "      <th>birth_date</th>\n",
       "      <th>death_date</th>\n",
       "      <th>death_age</th>\n",
       "      <th>entrance_age</th>\n",
       "      <th>move_out</th>\n",
       "      <th>cause</th>\n",
       "      <th>income</th>\n",
       "      <th>annual_return_mortgage</th>\n",
       "      <th>annual_hoa_expenses</th>\n",
       "      <th>annual_expenses</th>\n",
       "      <th>annual_burden</th>\n",
       "      <th>agentID</th>\n",
       "      <th>previous_agentID</th>\n",
       "      <th>tenant_cycle</th>\n",
       "      <th>comment 1</th>\n",
       "      <th>comment 2</th>\n",
       "      <th>annual_mortgage_burden</th>\n",
       "      <th>annual_expenses_burden</th>\n",
       "    </tr>\n",
       "  </thead>\n",
       "  <tbody>\n",
       "    <tr>\n",
       "      <th>0</th>\n",
       "      <td>0</td>\n",
       "      <td>10-40</td>\n",
       "      <td>10-40_0</td>\n",
       "      <td>Manhattan park</td>\n",
       "      <td>1989-01-01</td>\n",
       "      <td>0</td>\n",
       "      <td>0</td>\n",
       "      <td>1</td>\n",
       "      <td>Rental</td>\n",
       "      <td>3000</td>\n",
       "      <td>1364.0</td>\n",
       "      <td>2.0</td>\n",
       "      <td>False</td>\n",
       "      <td>45560</td>\n",
       "      <td>107200</td>\n",
       "      <td>In Building</td>\n",
       "      <td>1989-01-01</td>\n",
       "      <td>1956-04-05</td>\n",
       "      <td>2031-01-01</td>\n",
       "      <td>75</td>\n",
       "      <td>33</td>\n",
       "      <td>2031-01-01</td>\n",
       "      <td>death</td>\n",
       "      <td>75555</td>\n",
       "      <td>0.0</td>\n",
       "      <td>0.0</td>\n",
       "      <td>0.0</td>\n",
       "      <td>0.0</td>\n",
       "      <td>d10b60b2-fb4c-4c84-a100-41c05e00a439</td>\n",
       "      <td>0</td>\n",
       "      <td>0.0</td>\n",
       "      <td></td>\n",
       "      <td></td>\n",
       "      <td>NaN</td>\n",
       "      <td>NaN</td>\n",
       "    </tr>\n",
       "    <tr>\n",
       "      <th>1</th>\n",
       "      <td>1</td>\n",
       "      <td>10-40</td>\n",
       "      <td>10-40_1</td>\n",
       "      <td>Manhattan park</td>\n",
       "      <td>1989-01-01</td>\n",
       "      <td>0</td>\n",
       "      <td>0</td>\n",
       "      <td>1</td>\n",
       "      <td>Rental</td>\n",
       "      <td>3000</td>\n",
       "      <td>1364.0</td>\n",
       "      <td>2.0</td>\n",
       "      <td>False</td>\n",
       "      <td>45560</td>\n",
       "      <td>107200</td>\n",
       "      <td>In Building</td>\n",
       "      <td>1989-01-01</td>\n",
       "      <td>1940-04-02</td>\n",
       "      <td>2023-01-01</td>\n",
       "      <td>83</td>\n",
       "      <td>49</td>\n",
       "      <td>2023-01-01</td>\n",
       "      <td>death</td>\n",
       "      <td>60062</td>\n",
       "      <td>0.0</td>\n",
       "      <td>0.0</td>\n",
       "      <td>0.0</td>\n",
       "      <td>0.0</td>\n",
       "      <td>af0afc62-7a54-46bb-a932-37de233705f2</td>\n",
       "      <td>0</td>\n",
       "      <td>0.0</td>\n",
       "      <td></td>\n",
       "      <td></td>\n",
       "      <td>NaN</td>\n",
       "      <td>NaN</td>\n",
       "    </tr>\n",
       "    <tr>\n",
       "      <th>2</th>\n",
       "      <td>2</td>\n",
       "      <td>10-40</td>\n",
       "      <td>10-40_2</td>\n",
       "      <td>Manhattan park</td>\n",
       "      <td>1989-01-01</td>\n",
       "      <td>0</td>\n",
       "      <td>0</td>\n",
       "      <td>1</td>\n",
       "      <td>Rental</td>\n",
       "      <td>3000</td>\n",
       "      <td>1364.0</td>\n",
       "      <td>2.0</td>\n",
       "      <td>False</td>\n",
       "      <td>45560</td>\n",
       "      <td>107200</td>\n",
       "      <td>In Building</td>\n",
       "      <td>1989-01-01</td>\n",
       "      <td>1936-12-12</td>\n",
       "      <td>2013-01-01</td>\n",
       "      <td>77</td>\n",
       "      <td>53</td>\n",
       "      <td>2013-01-01</td>\n",
       "      <td>death</td>\n",
       "      <td>72043</td>\n",
       "      <td>0.0</td>\n",
       "      <td>0.0</td>\n",
       "      <td>0.0</td>\n",
       "      <td>0.0</td>\n",
       "      <td>70fef37b-728c-40d9-8e89-aab815d79ac1</td>\n",
       "      <td>0</td>\n",
       "      <td>0.0</td>\n",
       "      <td></td>\n",
       "      <td></td>\n",
       "      <td>NaN</td>\n",
       "      <td>NaN</td>\n",
       "    </tr>\n",
       "    <tr>\n",
       "      <th>3</th>\n",
       "      <td>3</td>\n",
       "      <td>10-40</td>\n",
       "      <td>10-40_3</td>\n",
       "      <td>Manhattan park</td>\n",
       "      <td>1989-01-01</td>\n",
       "      <td>0</td>\n",
       "      <td>0</td>\n",
       "      <td>1</td>\n",
       "      <td>Rental</td>\n",
       "      <td>3000</td>\n",
       "      <td>1364.0</td>\n",
       "      <td>2.0</td>\n",
       "      <td>False</td>\n",
       "      <td>45560</td>\n",
       "      <td>107200</td>\n",
       "      <td>In Building</td>\n",
       "      <td>1989-01-01</td>\n",
       "      <td>1949-11-18</td>\n",
       "      <td>2036-01-01</td>\n",
       "      <td>87</td>\n",
       "      <td>40</td>\n",
       "      <td>2036-01-01</td>\n",
       "      <td>death</td>\n",
       "      <td>79240</td>\n",
       "      <td>0.0</td>\n",
       "      <td>0.0</td>\n",
       "      <td>0.0</td>\n",
       "      <td>0.0</td>\n",
       "      <td>256b6148-39d1-4b91-8de5-00f454c6a198</td>\n",
       "      <td>0</td>\n",
       "      <td>0.0</td>\n",
       "      <td></td>\n",
       "      <td></td>\n",
       "      <td>NaN</td>\n",
       "      <td>NaN</td>\n",
       "    </tr>\n",
       "    <tr>\n",
       "      <th>4</th>\n",
       "      <td>4</td>\n",
       "      <td>10-40</td>\n",
       "      <td>10-40_4</td>\n",
       "      <td>Manhattan park</td>\n",
       "      <td>1989-01-01</td>\n",
       "      <td>0</td>\n",
       "      <td>0</td>\n",
       "      <td>1</td>\n",
       "      <td>Rental</td>\n",
       "      <td>3000</td>\n",
       "      <td>1364.0</td>\n",
       "      <td>2.0</td>\n",
       "      <td>False</td>\n",
       "      <td>45560</td>\n",
       "      <td>107200</td>\n",
       "      <td>In Building</td>\n",
       "      <td>1989-01-01</td>\n",
       "      <td>1931-04-12</td>\n",
       "      <td>1997-01-01</td>\n",
       "      <td>66</td>\n",
       "      <td>58</td>\n",
       "      <td>1997-01-01</td>\n",
       "      <td>death</td>\n",
       "      <td>48673</td>\n",
       "      <td>0.0</td>\n",
       "      <td>0.0</td>\n",
       "      <td>0.0</td>\n",
       "      <td>0.0</td>\n",
       "      <td>d3796e6c-c2f1-4e88-b4b0-3cae1baf2904</td>\n",
       "      <td>0</td>\n",
       "      <td>0.0</td>\n",
       "      <td></td>\n",
       "      <td></td>\n",
       "      <td>NaN</td>\n",
       "      <td>NaN</td>\n",
       "    </tr>\n",
       "  </tbody>\n",
       "</table>\n",
       "</div>"
      ],
      "text/plain": [
       "   ap_index bld_key address_door   Building Name built_year  \\\n",
       "0         0   10-40      10-40_0  Manhattan park 1989-01-01   \n",
       "1         1   10-40      10-40_1  Manhattan park 1989-01-01   \n",
       "2         2   10-40      10-40_2  Manhattan park 1989-01-01   \n",
       "3         3   10-40      10-40_3  Manhattan park 1989-01-01   \n",
       "4         4   10-40      10-40_4  Manhattan park 1989-01-01   \n",
       "\n",
       "   affordable_living  elderly_lving  Rental_Units ApartmentType  \\\n",
       "0                  0              0             1        Rental   \n",
       "1                  0              0             1        Rental   \n",
       "2                  0              0             1        Rental   \n",
       "3                  0              0             1        Rental   \n",
       "4                  0              0             1        Rental   \n",
       "\n",
       "   annual_utilities  Ap_sq_feet_size  Ap_number_of_rooms  protected  \\\n",
       "0              3000           1364.0                 2.0      False   \n",
       "1              3000           1364.0                 2.0      False   \n",
       "2              3000           1364.0                 2.0      False   \n",
       "3              3000           1364.0                 2.0      False   \n",
       "4              3000           1364.0                 2.0      False   \n",
       "\n",
       "   Low_income  Upper_income agent_action    move_in birth_date death_date  \\\n",
       "0       45560        107200  In Building 1989-01-01 1956-04-05 2031-01-01   \n",
       "1       45560        107200  In Building 1989-01-01 1940-04-02 2023-01-01   \n",
       "2       45560        107200  In Building 1989-01-01 1936-12-12 2013-01-01   \n",
       "3       45560        107200  In Building 1989-01-01 1949-11-18 2036-01-01   \n",
       "4       45560        107200  In Building 1989-01-01 1931-04-12 1997-01-01   \n",
       "\n",
       "   death_age  entrance_age   move_out  cause  income  annual_return_mortgage  \\\n",
       "0         75            33 2031-01-01  death   75555                     0.0   \n",
       "1         83            49 2023-01-01  death   60062                     0.0   \n",
       "2         77            53 2013-01-01  death   72043                     0.0   \n",
       "3         87            40 2036-01-01  death   79240                     0.0   \n",
       "4         66            58 1997-01-01  death   48673                     0.0   \n",
       "\n",
       "   annual_hoa_expenses  annual_expenses  annual_burden  \\\n",
       "0                  0.0              0.0            0.0   \n",
       "1                  0.0              0.0            0.0   \n",
       "2                  0.0              0.0            0.0   \n",
       "3                  0.0              0.0            0.0   \n",
       "4                  0.0              0.0            0.0   \n",
       "\n",
       "                                agentID previous_agentID  tenant_cycle  \\\n",
       "0  d10b60b2-fb4c-4c84-a100-41c05e00a439                0           0.0   \n",
       "1  af0afc62-7a54-46bb-a932-37de233705f2                0           0.0   \n",
       "2  70fef37b-728c-40d9-8e89-aab815d79ac1                0           0.0   \n",
       "3  256b6148-39d1-4b91-8de5-00f454c6a198                0           0.0   \n",
       "4  d3796e6c-c2f1-4e88-b4b0-3cae1baf2904                0           0.0   \n",
       "\n",
       "  comment 1 comment 2  annual_mortgage_burden  annual_expenses_burden  \n",
       "0                                         NaN                     NaN  \n",
       "1                                         NaN                     NaN  \n",
       "2                                         NaN                     NaN  \n",
       "3                                         NaN                     NaN  \n",
       "4                                         NaN                     NaN  "
      ]
     },
     "execution_count": 99,
     "metadata": {
      "tags": []
     },
     "output_type": "execute_result"
    }
   ],
   "source": [
    "df_ts_2.ds.head()"
   ]
  },
  {
   "cell_type": "code",
   "execution_count": 81,
   "metadata": {
    "colab": {
     "base_uri": "https://localhost:8080/"
    },
    "id": "8JET97L2I31h",
    "outputId": "4594dff2-67ce-4e0a-892e-37d58831f87c"
   },
   "outputs": [
    {
     "data": {
      "text/plain": [
       "__main__.ridt_agents_ts_obj"
      ]
     },
     "execution_count": 81,
     "metadata": {
      "tags": []
     },
     "output_type": "execute_result"
    }
   ],
   "source": [
    "type(df_ts_2)"
   ]
  },
  {
   "cell_type": "code",
   "execution_count": 36,
   "metadata": {
    "colab": {
     "base_uri": "https://localhost:8080/"
    },
    "id": "94GjyF0JJGr-",
    "outputId": "b4e9f9cb-eaea-41c6-92ab-05f7f5f3022d"
   },
   "outputs": [
    {
     "name": "stdout",
     "output_type": "stream",
     "text": [
      "i 0\n",
      "i 1\n",
      "i 2\n",
      "i 3\n",
      "i 4\n",
      "i 5\n",
      "i 6\n",
      "i 7\n"
     ]
    }
   ],
   "source": [
    "#df_ts_2.ds.to_excel('population_time_series_nov_9.xlsx')\n",
    "bld_ts = ridt_buildings_ts_obj(p_ds.json_bldgs, bldg_events)"
   ]
  },
  {
   "cell_type": "code",
   "execution_count": 37,
   "metadata": {
    "id": "ghaTMc8CSLjq"
   },
   "outputs": [],
   "source": [
    "c_df = df_ts_2.filter_ds_by_year(2020,True)"
   ]
  },
  {
   "cell_type": "code",
   "execution_count": null,
   "metadata": {
    "colab": {
     "base_uri": "https://localhost:8080/",
     "height": 945
    },
    "id": "RH4CVRPGSiJs",
    "outputId": "d19bf5bb-c5ef-4941-fbbc-5ba34cd75a62"
   },
   "outputs": [
    {
     "data": {
      "text/html": [
       "<div>\n",
       "<style scoped>\n",
       "    .dataframe tbody tr th:only-of-type {\n",
       "        vertical-align: middle;\n",
       "    }\n",
       "\n",
       "    .dataframe tbody tr th {\n",
       "        vertical-align: top;\n",
       "    }\n",
       "\n",
       "    .dataframe thead th {\n",
       "        text-align: right;\n",
       "    }\n",
       "</style>\n",
       "<table border=\"1\" class=\"dataframe\">\n",
       "  <thead>\n",
       "    <tr style=\"text-align: right;\">\n",
       "      <th></th>\n",
       "      <th>ap_index</th>\n",
       "      <th>bld_key</th>\n",
       "      <th>address_door</th>\n",
       "      <th>Building Name</th>\n",
       "      <th>built_year</th>\n",
       "      <th>affordable_living</th>\n",
       "      <th>elderly_lving</th>\n",
       "      <th>Rental_Units</th>\n",
       "      <th>ApartmentType</th>\n",
       "      <th>annual_utilities</th>\n",
       "      <th>Ap_sq_feet_size</th>\n",
       "      <th>Ap_number_of_rooms</th>\n",
       "      <th>protected</th>\n",
       "      <th>Low_income</th>\n",
       "      <th>Upper_income</th>\n",
       "      <th>agent_action</th>\n",
       "      <th>move_in</th>\n",
       "      <th>birth_date</th>\n",
       "      <th>death_date</th>\n",
       "      <th>death_age</th>\n",
       "      <th>entrance_age</th>\n",
       "      <th>move_out</th>\n",
       "      <th>cause</th>\n",
       "      <th>income</th>\n",
       "      <th>annual_return_mortgage</th>\n",
       "      <th>annual_hoa_expenses</th>\n",
       "      <th>annual_expenses</th>\n",
       "      <th>annual_burden</th>\n",
       "      <th>agentID</th>\n",
       "      <th>previous_agentID</th>\n",
       "      <th>tenant_cycle</th>\n",
       "      <th>comment 1</th>\n",
       "      <th>comment 2</th>\n",
       "      <th>annual_mortgage_burden</th>\n",
       "      <th>annual_expenses_burden</th>\n",
       "    </tr>\n",
       "  </thead>\n",
       "  <tbody>\n",
       "    <tr>\n",
       "      <th>1737</th>\n",
       "      <td>0</td>\n",
       "      <td>425</td>\n",
       "      <td>425_0</td>\n",
       "      <td>Riverwalk Landing</td>\n",
       "      <td>2007-01-01</td>\n",
       "      <td>0</td>\n",
       "      <td>0</td>\n",
       "      <td>0</td>\n",
       "      <td>Other</td>\n",
       "      <td>0</td>\n",
       "      <td>1364.0</td>\n",
       "      <td>2.0</td>\n",
       "      <td>False</td>\n",
       "      <td>62067</td>\n",
       "      <td>146040</td>\n",
       "      <td>In Building</td>\n",
       "      <td>2007-01-01</td>\n",
       "      <td>1947-01-01</td>\n",
       "      <td>2039-01-01</td>\n",
       "      <td>92</td>\n",
       "      <td>60</td>\n",
       "      <td>2039-01-01</td>\n",
       "      <td>death</td>\n",
       "      <td>86181</td>\n",
       "      <td>0.0</td>\n",
       "      <td>0.0</td>\n",
       "      <td>0.0</td>\n",
       "      <td>0.0</td>\n",
       "      <td>53980f1e-655c-4351-812c-670946b87ab7</td>\n",
       "      <td>0</td>\n",
       "      <td>0.0</td>\n",
       "      <td></td>\n",
       "      <td></td>\n",
       "      <td>0.0</td>\n",
       "      <td>0.0</td>\n",
       "    </tr>\n",
       "    <tr>\n",
       "      <th>1738</th>\n",
       "      <td>1</td>\n",
       "      <td>425</td>\n",
       "      <td>425_1</td>\n",
       "      <td>Riverwalk Landing</td>\n",
       "      <td>2007-01-01</td>\n",
       "      <td>0</td>\n",
       "      <td>0</td>\n",
       "      <td>0</td>\n",
       "      <td>Other</td>\n",
       "      <td>0</td>\n",
       "      <td>1364.0</td>\n",
       "      <td>2.0</td>\n",
       "      <td>False</td>\n",
       "      <td>62067</td>\n",
       "      <td>146040</td>\n",
       "      <td>In Building</td>\n",
       "      <td>2007-01-01</td>\n",
       "      <td>1945-01-02</td>\n",
       "      <td>2025-01-01</td>\n",
       "      <td>80</td>\n",
       "      <td>62</td>\n",
       "      <td>2025-01-01</td>\n",
       "      <td>death</td>\n",
       "      <td>122871</td>\n",
       "      <td>0.0</td>\n",
       "      <td>0.0</td>\n",
       "      <td>0.0</td>\n",
       "      <td>0.0</td>\n",
       "      <td>33051e02-395b-4e9c-b087-967015fef896</td>\n",
       "      <td>0</td>\n",
       "      <td>0.0</td>\n",
       "      <td></td>\n",
       "      <td></td>\n",
       "      <td>0.0</td>\n",
       "      <td>0.0</td>\n",
       "    </tr>\n",
       "    <tr>\n",
       "      <th>1739</th>\n",
       "      <td>2</td>\n",
       "      <td>425</td>\n",
       "      <td>425_2</td>\n",
       "      <td>Riverwalk Landing</td>\n",
       "      <td>2007-01-01</td>\n",
       "      <td>0</td>\n",
       "      <td>0</td>\n",
       "      <td>0</td>\n",
       "      <td>Other</td>\n",
       "      <td>0</td>\n",
       "      <td>1364.0</td>\n",
       "      <td>2.0</td>\n",
       "      <td>False</td>\n",
       "      <td>62067</td>\n",
       "      <td>146040</td>\n",
       "      <td>In Building</td>\n",
       "      <td>2007-01-01</td>\n",
       "      <td>1951-07-24</td>\n",
       "      <td>2022-01-01</td>\n",
       "      <td>71</td>\n",
       "      <td>56</td>\n",
       "      <td>2022-01-01</td>\n",
       "      <td>death</td>\n",
       "      <td>133417</td>\n",
       "      <td>0.0</td>\n",
       "      <td>0.0</td>\n",
       "      <td>0.0</td>\n",
       "      <td>0.0</td>\n",
       "      <td>aeeba88a-1ac4-4d7d-9f6a-685b4a7dab2b</td>\n",
       "      <td>0</td>\n",
       "      <td>0.0</td>\n",
       "      <td></td>\n",
       "      <td></td>\n",
       "      <td>0.0</td>\n",
       "      <td>0.0</td>\n",
       "    </tr>\n",
       "    <tr>\n",
       "      <th>1741</th>\n",
       "      <td>4</td>\n",
       "      <td>425</td>\n",
       "      <td>425_4</td>\n",
       "      <td>Riverwalk Landing</td>\n",
       "      <td>2007-01-01</td>\n",
       "      <td>0</td>\n",
       "      <td>0</td>\n",
       "      <td>0</td>\n",
       "      <td>Other</td>\n",
       "      <td>0</td>\n",
       "      <td>1364.0</td>\n",
       "      <td>2.0</td>\n",
       "      <td>False</td>\n",
       "      <td>62067</td>\n",
       "      <td>146040</td>\n",
       "      <td>In Building</td>\n",
       "      <td>2007-01-01</td>\n",
       "      <td>1975-01-12</td>\n",
       "      <td>2060-01-01</td>\n",
       "      <td>85</td>\n",
       "      <td>32</td>\n",
       "      <td>2060-01-01</td>\n",
       "      <td>death</td>\n",
       "      <td>137776</td>\n",
       "      <td>0.0</td>\n",
       "      <td>0.0</td>\n",
       "      <td>0.0</td>\n",
       "      <td>0.0</td>\n",
       "      <td>5bd91200-7389-4a43-a77f-72dbb14892c7</td>\n",
       "      <td>0</td>\n",
       "      <td>0.0</td>\n",
       "      <td></td>\n",
       "      <td></td>\n",
       "      <td>0.0</td>\n",
       "      <td>0.0</td>\n",
       "    </tr>\n",
       "    <tr>\n",
       "      <th>1742</th>\n",
       "      <td>5</td>\n",
       "      <td>425</td>\n",
       "      <td>425_5</td>\n",
       "      <td>Riverwalk Landing</td>\n",
       "      <td>2007-01-01</td>\n",
       "      <td>0</td>\n",
       "      <td>0</td>\n",
       "      <td>0</td>\n",
       "      <td>Other</td>\n",
       "      <td>0</td>\n",
       "      <td>1364.0</td>\n",
       "      <td>2.0</td>\n",
       "      <td>False</td>\n",
       "      <td>62067</td>\n",
       "      <td>146040</td>\n",
       "      <td>In Building</td>\n",
       "      <td>2007-01-01</td>\n",
       "      <td>1949-04-26</td>\n",
       "      <td>2028-01-01</td>\n",
       "      <td>79</td>\n",
       "      <td>58</td>\n",
       "      <td>2028-01-01</td>\n",
       "      <td>death</td>\n",
       "      <td>117914</td>\n",
       "      <td>0.0</td>\n",
       "      <td>0.0</td>\n",
       "      <td>0.0</td>\n",
       "      <td>0.0</td>\n",
       "      <td>efc5b099-9e31-4a27-9b96-52e73749219d</td>\n",
       "      <td>0</td>\n",
       "      <td>0.0</td>\n",
       "      <td></td>\n",
       "      <td></td>\n",
       "      <td>0.0</td>\n",
       "      <td>0.0</td>\n",
       "    </tr>\n",
       "    <tr>\n",
       "      <th>...</th>\n",
       "      <td>...</td>\n",
       "      <td>...</td>\n",
       "      <td>...</td>\n",
       "      <td>...</td>\n",
       "      <td>...</td>\n",
       "      <td>...</td>\n",
       "      <td>...</td>\n",
       "      <td>...</td>\n",
       "      <td>...</td>\n",
       "      <td>...</td>\n",
       "      <td>...</td>\n",
       "      <td>...</td>\n",
       "      <td>...</td>\n",
       "      <td>...</td>\n",
       "      <td>...</td>\n",
       "      <td>...</td>\n",
       "      <td>...</td>\n",
       "      <td>...</td>\n",
       "      <td>...</td>\n",
       "      <td>...</td>\n",
       "      <td>...</td>\n",
       "      <td>...</td>\n",
       "      <td>...</td>\n",
       "      <td>...</td>\n",
       "      <td>...</td>\n",
       "      <td>...</td>\n",
       "      <td>...</td>\n",
       "      <td>...</td>\n",
       "      <td>...</td>\n",
       "      <td>...</td>\n",
       "      <td>...</td>\n",
       "      <td>...</td>\n",
       "      <td>...</td>\n",
       "      <td>...</td>\n",
       "      <td>...</td>\n",
       "    </tr>\n",
       "    <tr>\n",
       "      <th>5685</th>\n",
       "      <td>182</td>\n",
       "      <td>425</td>\n",
       "      <td>425_182</td>\n",
       "      <td>Riverwalk Landing</td>\n",
       "      <td>2007-01-01</td>\n",
       "      <td>0</td>\n",
       "      <td>0</td>\n",
       "      <td>0</td>\n",
       "      <td>Other</td>\n",
       "      <td>0</td>\n",
       "      <td>1364.0</td>\n",
       "      <td>2.0</td>\n",
       "      <td>False</td>\n",
       "      <td>76074</td>\n",
       "      <td>178998</td>\n",
       "      <td>In Building</td>\n",
       "      <td>2019-01-02</td>\n",
       "      <td>1991-07-18</td>\n",
       "      <td>2092-01-01</td>\n",
       "      <td>101</td>\n",
       "      <td>28</td>\n",
       "      <td>2092-01-01</td>\n",
       "      <td>death</td>\n",
       "      <td>177965</td>\n",
       "      <td>0.0</td>\n",
       "      <td>0.0</td>\n",
       "      <td>0.0</td>\n",
       "      <td>0.0</td>\n",
       "      <td>9c9f3fb9-4cd6-4545-902f-2f8da74e1e02</td>\n",
       "      <td>96bd7564-a516-4bae-a729-8f44f339d9cc</td>\n",
       "      <td>1.0</td>\n",
       "      <td></td>\n",
       "      <td></td>\n",
       "      <td>0.0</td>\n",
       "      <td>0.0</td>\n",
       "    </tr>\n",
       "    <tr>\n",
       "      <th>5689</th>\n",
       "      <td>186</td>\n",
       "      <td>425</td>\n",
       "      <td>425_186</td>\n",
       "      <td>Riverwalk Landing</td>\n",
       "      <td>2007-01-01</td>\n",
       "      <td>0</td>\n",
       "      <td>0</td>\n",
       "      <td>0</td>\n",
       "      <td>Other</td>\n",
       "      <td>0</td>\n",
       "      <td>1364.0</td>\n",
       "      <td>2.0</td>\n",
       "      <td>False</td>\n",
       "      <td>73572</td>\n",
       "      <td>173112</td>\n",
       "      <td>In Building</td>\n",
       "      <td>2017-01-02</td>\n",
       "      <td>1987-04-25</td>\n",
       "      <td>2093-01-01</td>\n",
       "      <td>106</td>\n",
       "      <td>30</td>\n",
       "      <td>2093-01-01</td>\n",
       "      <td>death</td>\n",
       "      <td>73718</td>\n",
       "      <td>0.0</td>\n",
       "      <td>0.0</td>\n",
       "      <td>0.0</td>\n",
       "      <td>0.0</td>\n",
       "      <td>5fa20f52-5e40-4767-9d48-dc5be45d5b46</td>\n",
       "      <td>1ebc2581-4a3d-4301-9b31-0ce4f96c18dc</td>\n",
       "      <td>1.0</td>\n",
       "      <td></td>\n",
       "      <td></td>\n",
       "      <td>0.0</td>\n",
       "      <td>0.0</td>\n",
       "    </tr>\n",
       "    <tr>\n",
       "      <th>5706</th>\n",
       "      <td>203</td>\n",
       "      <td>425</td>\n",
       "      <td>425_203</td>\n",
       "      <td>Riverwalk Landing</td>\n",
       "      <td>2007-01-01</td>\n",
       "      <td>0</td>\n",
       "      <td>0</td>\n",
       "      <td>0</td>\n",
       "      <td>Other</td>\n",
       "      <td>0</td>\n",
       "      <td>1364.0</td>\n",
       "      <td>2.0</td>\n",
       "      <td>False</td>\n",
       "      <td>73572</td>\n",
       "      <td>173112</td>\n",
       "      <td>In Building</td>\n",
       "      <td>2017-01-02</td>\n",
       "      <td>1988-12-12</td>\n",
       "      <td>2100-01-01</td>\n",
       "      <td>112</td>\n",
       "      <td>29</td>\n",
       "      <td>2100-01-01</td>\n",
       "      <td>death</td>\n",
       "      <td>101997</td>\n",
       "      <td>0.0</td>\n",
       "      <td>0.0</td>\n",
       "      <td>0.0</td>\n",
       "      <td>0.0</td>\n",
       "      <td>5005dd59-ca2a-463e-97bb-87c425c0f37e</td>\n",
       "      <td>a0fbe3ce-00c9-473f-9027-f9ec6b8fe9df</td>\n",
       "      <td>1.0</td>\n",
       "      <td></td>\n",
       "      <td></td>\n",
       "      <td>0.0</td>\n",
       "      <td>0.0</td>\n",
       "    </tr>\n",
       "    <tr>\n",
       "      <th>5722</th>\n",
       "      <td>219</td>\n",
       "      <td>425</td>\n",
       "      <td>425_219</td>\n",
       "      <td>Riverwalk Landing</td>\n",
       "      <td>2007-01-01</td>\n",
       "      <td>0</td>\n",
       "      <td>0</td>\n",
       "      <td>0</td>\n",
       "      <td>Other</td>\n",
       "      <td>0</td>\n",
       "      <td>1364.0</td>\n",
       "      <td>2.0</td>\n",
       "      <td>False</td>\n",
       "      <td>63142</td>\n",
       "      <td>148571</td>\n",
       "      <td>In Building</td>\n",
       "      <td>2008-01-02</td>\n",
       "      <td>1977-01-14</td>\n",
       "      <td>2063-01-01</td>\n",
       "      <td>86</td>\n",
       "      <td>31</td>\n",
       "      <td>2063-01-01</td>\n",
       "      <td>death</td>\n",
       "      <td>93084</td>\n",
       "      <td>0.0</td>\n",
       "      <td>0.0</td>\n",
       "      <td>0.0</td>\n",
       "      <td>0.0</td>\n",
       "      <td>075c7d84-b91b-4997-87f3-b3c25f2bfcd2</td>\n",
       "      <td>69fb808e-f147-445e-b3d7-d448a1cd92a8</td>\n",
       "      <td>1.0</td>\n",
       "      <td></td>\n",
       "      <td></td>\n",
       "      <td>0.0</td>\n",
       "      <td>0.0</td>\n",
       "    </tr>\n",
       "    <tr>\n",
       "      <th>5729</th>\n",
       "      <td>226</td>\n",
       "      <td>425</td>\n",
       "      <td>425_226</td>\n",
       "      <td>Riverwalk Landing</td>\n",
       "      <td>2007-01-01</td>\n",
       "      <td>0</td>\n",
       "      <td>0</td>\n",
       "      <td>0</td>\n",
       "      <td>Other</td>\n",
       "      <td>0</td>\n",
       "      <td>1364.0</td>\n",
       "      <td>2.0</td>\n",
       "      <td>False</td>\n",
       "      <td>74815</td>\n",
       "      <td>176036</td>\n",
       "      <td>In Building</td>\n",
       "      <td>2018-01-02</td>\n",
       "      <td>1989-12-03</td>\n",
       "      <td>2095-01-01</td>\n",
       "      <td>106</td>\n",
       "      <td>29</td>\n",
       "      <td>2095-01-01</td>\n",
       "      <td>death</td>\n",
       "      <td>101528</td>\n",
       "      <td>0.0</td>\n",
       "      <td>0.0</td>\n",
       "      <td>0.0</td>\n",
       "      <td>0.0</td>\n",
       "      <td>07102956-12a2-428c-ab69-dce03b3d2cb3</td>\n",
       "      <td>7c2f0fb7-2995-4f6a-88d1-26ccf8662f9f</td>\n",
       "      <td>1.0</td>\n",
       "      <td></td>\n",
       "      <td></td>\n",
       "      <td>0.0</td>\n",
       "      <td>0.0</td>\n",
       "    </tr>\n",
       "  </tbody>\n",
       "</table>\n",
       "<p>226 rows × 35 columns</p>\n",
       "</div>"
      ],
      "text/plain": [
       "      ap_index bld_key address_door      Building Name built_year  \\\n",
       "1737         0     425        425_0  Riverwalk Landing 2007-01-01   \n",
       "1738         1     425        425_1  Riverwalk Landing 2007-01-01   \n",
       "1739         2     425        425_2  Riverwalk Landing 2007-01-01   \n",
       "1741         4     425        425_4  Riverwalk Landing 2007-01-01   \n",
       "1742         5     425        425_5  Riverwalk Landing 2007-01-01   \n",
       "...        ...     ...          ...                ...        ...   \n",
       "5685       182     425      425_182  Riverwalk Landing 2007-01-01   \n",
       "5689       186     425      425_186  Riverwalk Landing 2007-01-01   \n",
       "5706       203     425      425_203  Riverwalk Landing 2007-01-01   \n",
       "5722       219     425      425_219  Riverwalk Landing 2007-01-01   \n",
       "5729       226     425      425_226  Riverwalk Landing 2007-01-01   \n",
       "\n",
       "      affordable_living  elderly_lving  Rental_Units ApartmentType  \\\n",
       "1737                  0              0             0         Other   \n",
       "1738                  0              0             0         Other   \n",
       "1739                  0              0             0         Other   \n",
       "1741                  0              0             0         Other   \n",
       "1742                  0              0             0         Other   \n",
       "...                 ...            ...           ...           ...   \n",
       "5685                  0              0             0         Other   \n",
       "5689                  0              0             0         Other   \n",
       "5706                  0              0             0         Other   \n",
       "5722                  0              0             0         Other   \n",
       "5729                  0              0             0         Other   \n",
       "\n",
       "      annual_utilities  Ap_sq_feet_size  Ap_number_of_rooms  protected  \\\n",
       "1737                 0           1364.0                 2.0      False   \n",
       "1738                 0           1364.0                 2.0      False   \n",
       "1739                 0           1364.0                 2.0      False   \n",
       "1741                 0           1364.0                 2.0      False   \n",
       "1742                 0           1364.0                 2.0      False   \n",
       "...                ...              ...                 ...        ...   \n",
       "5685                 0           1364.0                 2.0      False   \n",
       "5689                 0           1364.0                 2.0      False   \n",
       "5706                 0           1364.0                 2.0      False   \n",
       "5722                 0           1364.0                 2.0      False   \n",
       "5729                 0           1364.0                 2.0      False   \n",
       "\n",
       "      Low_income  Upper_income agent_action    move_in birth_date death_date  \\\n",
       "1737       62067        146040  In Building 2007-01-01 1947-01-01 2039-01-01   \n",
       "1738       62067        146040  In Building 2007-01-01 1945-01-02 2025-01-01   \n",
       "1739       62067        146040  In Building 2007-01-01 1951-07-24 2022-01-01   \n",
       "1741       62067        146040  In Building 2007-01-01 1975-01-12 2060-01-01   \n",
       "1742       62067        146040  In Building 2007-01-01 1949-04-26 2028-01-01   \n",
       "...          ...           ...          ...        ...        ...        ...   \n",
       "5685       76074        178998  In Building 2019-01-02 1991-07-18 2092-01-01   \n",
       "5689       73572        173112  In Building 2017-01-02 1987-04-25 2093-01-01   \n",
       "5706       73572        173112  In Building 2017-01-02 1988-12-12 2100-01-01   \n",
       "5722       63142        148571  In Building 2008-01-02 1977-01-14 2063-01-01   \n",
       "5729       74815        176036  In Building 2018-01-02 1989-12-03 2095-01-01   \n",
       "\n",
       "      death_age  entrance_age   move_out  cause  income  \\\n",
       "1737         92            60 2039-01-01  death   86181   \n",
       "1738         80            62 2025-01-01  death  122871   \n",
       "1739         71            56 2022-01-01  death  133417   \n",
       "1741         85            32 2060-01-01  death  137776   \n",
       "1742         79            58 2028-01-01  death  117914   \n",
       "...         ...           ...        ...    ...     ...   \n",
       "5685        101            28 2092-01-01  death  177965   \n",
       "5689        106            30 2093-01-01  death   73718   \n",
       "5706        112            29 2100-01-01  death  101997   \n",
       "5722         86            31 2063-01-01  death   93084   \n",
       "5729        106            29 2095-01-01  death  101528   \n",
       "\n",
       "      annual_return_mortgage  annual_hoa_expenses  annual_expenses  \\\n",
       "1737                     0.0                  0.0              0.0   \n",
       "1738                     0.0                  0.0              0.0   \n",
       "1739                     0.0                  0.0              0.0   \n",
       "1741                     0.0                  0.0              0.0   \n",
       "1742                     0.0                  0.0              0.0   \n",
       "...                      ...                  ...              ...   \n",
       "5685                     0.0                  0.0              0.0   \n",
       "5689                     0.0                  0.0              0.0   \n",
       "5706                     0.0                  0.0              0.0   \n",
       "5722                     0.0                  0.0              0.0   \n",
       "5729                     0.0                  0.0              0.0   \n",
       "\n",
       "      annual_burden                               agentID  \\\n",
       "1737            0.0  53980f1e-655c-4351-812c-670946b87ab7   \n",
       "1738            0.0  33051e02-395b-4e9c-b087-967015fef896   \n",
       "1739            0.0  aeeba88a-1ac4-4d7d-9f6a-685b4a7dab2b   \n",
       "1741            0.0  5bd91200-7389-4a43-a77f-72dbb14892c7   \n",
       "1742            0.0  efc5b099-9e31-4a27-9b96-52e73749219d   \n",
       "...             ...                                   ...   \n",
       "5685            0.0  9c9f3fb9-4cd6-4545-902f-2f8da74e1e02   \n",
       "5689            0.0  5fa20f52-5e40-4767-9d48-dc5be45d5b46   \n",
       "5706            0.0  5005dd59-ca2a-463e-97bb-87c425c0f37e   \n",
       "5722            0.0  075c7d84-b91b-4997-87f3-b3c25f2bfcd2   \n",
       "5729            0.0  07102956-12a2-428c-ab69-dce03b3d2cb3   \n",
       "\n",
       "                          previous_agentID  tenant_cycle comment 1 comment 2  \\\n",
       "1737                                     0           0.0                       \n",
       "1738                                     0           0.0                       \n",
       "1739                                     0           0.0                       \n",
       "1741                                     0           0.0                       \n",
       "1742                                     0           0.0                       \n",
       "...                                    ...           ...       ...       ...   \n",
       "5685  96bd7564-a516-4bae-a729-8f44f339d9cc           1.0                       \n",
       "5689  1ebc2581-4a3d-4301-9b31-0ce4f96c18dc           1.0                       \n",
       "5706  a0fbe3ce-00c9-473f-9027-f9ec6b8fe9df           1.0                       \n",
       "5722  69fb808e-f147-445e-b3d7-d448a1cd92a8           1.0                       \n",
       "5729  7c2f0fb7-2995-4f6a-88d1-26ccf8662f9f           1.0                       \n",
       "\n",
       "      annual_mortgage_burden  annual_expenses_burden  \n",
       "1737                     0.0                     0.0  \n",
       "1738                     0.0                     0.0  \n",
       "1739                     0.0                     0.0  \n",
       "1741                     0.0                     0.0  \n",
       "1742                     0.0                     0.0  \n",
       "...                      ...                     ...  \n",
       "5685                     0.0                     0.0  \n",
       "5689                     0.0                     0.0  \n",
       "5706                     0.0                     0.0  \n",
       "5722                     0.0                     0.0  \n",
       "5729                     0.0                     0.0  \n",
       "\n",
       "[226 rows x 35 columns]"
      ]
     },
     "execution_count": 77,
     "metadata": {
      "tags": []
     },
     "output_type": "execute_result"
    }
   ],
   "source": [
    "#c_df.ds['ApartmentType'].unique()\n",
    "c_df.ds[c_df.ds['bld_key']=='425']"
   ]
  },
  {
   "cell_type": "code",
   "execution_count": null,
   "metadata": {
    "id": "KL69e59rP900"
   },
   "outputs": [],
   "source": [
    "p_ds.ds.groupby('bld_key').agg({'Building Name':'first','ap_index':'count','Rental_Units':'sum'}).reset_index().to_excel('buildings_group_by_bld_key.xlsx')"
   ]
  },
  {
   "cell_type": "code",
   "execution_count": null,
   "metadata": {
    "colab": {
     "base_uri": "https://localhost:8080/",
     "height": 322
    },
    "id": "DE2ngJh_TnxA",
    "outputId": "198efde0-254d-400d-9602-d77befd5f98f"
   },
   "outputs": [
    {
     "data": {
      "text/html": [
       "<div>\n",
       "<style scoped>\n",
       "    .dataframe tbody tr th:only-of-type {\n",
       "        vertical-align: middle;\n",
       "    }\n",
       "\n",
       "    .dataframe tbody tr th {\n",
       "        vertical-align: top;\n",
       "    }\n",
       "\n",
       "    .dataframe thead th {\n",
       "        text-align: right;\n",
       "    }\n",
       "</style>\n",
       "<table border=\"1\" class=\"dataframe\">\n",
       "  <thead>\n",
       "    <tr style=\"text-align: right;\">\n",
       "      <th></th>\n",
       "      <th>ap_index</th>\n",
       "      <th>bld_key</th>\n",
       "      <th>address_door</th>\n",
       "      <th>Building Name</th>\n",
       "      <th>built_year</th>\n",
       "      <th>affordable_living</th>\n",
       "      <th>elderly_lving</th>\n",
       "      <th>Rental_Units</th>\n",
       "      <th>ApartmentType</th>\n",
       "      <th>annual_utilities</th>\n",
       "      <th>Ap_sq_feet_size</th>\n",
       "      <th>Ap_number_of_rooms</th>\n",
       "      <th>protected</th>\n",
       "      <th>Low_income</th>\n",
       "      <th>Upper_income</th>\n",
       "    </tr>\n",
       "  </thead>\n",
       "  <tbody>\n",
       "    <tr>\n",
       "      <th>0</th>\n",
       "      <td>0</td>\n",
       "      <td>10-40</td>\n",
       "      <td>10-40_0</td>\n",
       "      <td>Manhattan park</td>\n",
       "      <td>1989-01-01</td>\n",
       "      <td>0</td>\n",
       "      <td>0</td>\n",
       "      <td>1</td>\n",
       "      <td>Rental</td>\n",
       "      <td>3000</td>\n",
       "      <td>1364.0</td>\n",
       "      <td>2.0</td>\n",
       "      <td>False</td>\n",
       "      <td>45560.371875</td>\n",
       "      <td>107200.875</td>\n",
       "    </tr>\n",
       "    <tr>\n",
       "      <th>1</th>\n",
       "      <td>1</td>\n",
       "      <td>10-40</td>\n",
       "      <td>10-40_1</td>\n",
       "      <td>Manhattan park</td>\n",
       "      <td>1989-01-01</td>\n",
       "      <td>0</td>\n",
       "      <td>0</td>\n",
       "      <td>1</td>\n",
       "      <td>Rental</td>\n",
       "      <td>3000</td>\n",
       "      <td>1364.0</td>\n",
       "      <td>2.0</td>\n",
       "      <td>False</td>\n",
       "      <td>45560.371875</td>\n",
       "      <td>107200.875</td>\n",
       "    </tr>\n",
       "    <tr>\n",
       "      <th>2</th>\n",
       "      <td>2</td>\n",
       "      <td>10-40</td>\n",
       "      <td>10-40_2</td>\n",
       "      <td>Manhattan park</td>\n",
       "      <td>1989-01-01</td>\n",
       "      <td>0</td>\n",
       "      <td>0</td>\n",
       "      <td>1</td>\n",
       "      <td>Rental</td>\n",
       "      <td>3000</td>\n",
       "      <td>1364.0</td>\n",
       "      <td>2.0</td>\n",
       "      <td>False</td>\n",
       "      <td>45560.371875</td>\n",
       "      <td>107200.875</td>\n",
       "    </tr>\n",
       "    <tr>\n",
       "      <th>3</th>\n",
       "      <td>3</td>\n",
       "      <td>10-40</td>\n",
       "      <td>10-40_3</td>\n",
       "      <td>Manhattan park</td>\n",
       "      <td>1989-01-01</td>\n",
       "      <td>0</td>\n",
       "      <td>0</td>\n",
       "      <td>1</td>\n",
       "      <td>Rental</td>\n",
       "      <td>3000</td>\n",
       "      <td>1364.0</td>\n",
       "      <td>2.0</td>\n",
       "      <td>False</td>\n",
       "      <td>45560.371875</td>\n",
       "      <td>107200.875</td>\n",
       "    </tr>\n",
       "    <tr>\n",
       "      <th>4</th>\n",
       "      <td>4</td>\n",
       "      <td>10-40</td>\n",
       "      <td>10-40_4</td>\n",
       "      <td>Manhattan park</td>\n",
       "      <td>1989-01-01</td>\n",
       "      <td>0</td>\n",
       "      <td>0</td>\n",
       "      <td>1</td>\n",
       "      <td>Rental</td>\n",
       "      <td>3000</td>\n",
       "      <td>1364.0</td>\n",
       "      <td>2.0</td>\n",
       "      <td>False</td>\n",
       "      <td>45560.371875</td>\n",
       "      <td>107200.875</td>\n",
       "    </tr>\n",
       "  </tbody>\n",
       "</table>\n",
       "</div>"
      ],
      "text/plain": [
       "   ap_index bld_key address_door   Building Name built_year  \\\n",
       "0         0   10-40      10-40_0  Manhattan park 1989-01-01   \n",
       "1         1   10-40      10-40_1  Manhattan park 1989-01-01   \n",
       "2         2   10-40      10-40_2  Manhattan park 1989-01-01   \n",
       "3         3   10-40      10-40_3  Manhattan park 1989-01-01   \n",
       "4         4   10-40      10-40_4  Manhattan park 1989-01-01   \n",
       "\n",
       "   affordable_living  elderly_lving  Rental_Units ApartmentType  \\\n",
       "0                  0              0             1        Rental   \n",
       "1                  0              0             1        Rental   \n",
       "2                  0              0             1        Rental   \n",
       "3                  0              0             1        Rental   \n",
       "4                  0              0             1        Rental   \n",
       "\n",
       "   annual_utilities  Ap_sq_feet_size  Ap_number_of_rooms  protected  \\\n",
       "0              3000           1364.0                 2.0      False   \n",
       "1              3000           1364.0                 2.0      False   \n",
       "2              3000           1364.0                 2.0      False   \n",
       "3              3000           1364.0                 2.0      False   \n",
       "4              3000           1364.0                 2.0      False   \n",
       "\n",
       "     Low_income  Upper_income  \n",
       "0  45560.371875    107200.875  \n",
       "1  45560.371875    107200.875  \n",
       "2  45560.371875    107200.875  \n",
       "3  45560.371875    107200.875  \n",
       "4  45560.371875    107200.875  "
      ]
     },
     "execution_count": 67,
     "metadata": {
      "tags": []
     },
     "output_type": "execute_result"
    }
   ],
   "source": [
    "p_ds.ds.head()"
   ]
  },
  {
   "cell_type": "markdown",
   "metadata": {
    "id": "tM6bmdfiNc9T"
   },
   "source": [
    "# Get to know the Agents"
   ]
  },
  {
   "cell_type": "code",
   "execution_count": null,
   "metadata": {
    "colab": {
     "base_uri": "https://localhost:8080/",
     "height": 165,
     "referenced_widgets": [
      "d87f402aaf8e44be9a0a245a70a1dc10",
      "d65f164e9b5f4e34b09a6fb72cceb322",
      "57cdfed569aa46fc91a69888a280a4c5",
      "1d5ffa8a11384a0d8625e481b8ce7b36",
      "618cc238ae524fafafb8f8486d89ad40",
      "896eb1ea74ad4972a49cefe44dda761e",
      "c1c2775baf584e41aca9b5ae257e3f59",
      "da65513027a9426f9bbafb9792032e30",
      "c1984e975cd14301b6172c59d6baa839"
     ]
    },
    "id": "OAPO90DcNdsT",
    "outputId": "b751c83d-33f6-4a8e-8a65-80da01a6d1ae"
   },
   "outputs": [
    {
     "name": "stdout",
     "output_type": "stream",
     "text": [
      "Select year to show Agent Statistics:\n"
     ]
    },
    {
     "data": {
      "application/vnd.jupyter.widget-view+json": {
       "model_id": "d87f402aaf8e44be9a0a245a70a1dc10",
       "version_major": 2,
       "version_minor": 0
      },
      "text/plain": [
       "IntSlider(value=1980, continuous_update=False, description='Year', max=2050, min=1975)"
      ]
     },
     "metadata": {
      "tags": []
     },
     "output_type": "display_data"
    },
    {
     "name": "stdout",
     "output_type": "stream",
     "text": [
      "What Kind of Map?:\n"
     ]
    },
    {
     "data": {
      "application/vnd.jupyter.widget-view+json": {
       "model_id": "1d5ffa8a11384a0d8625e481b8ce7b36",
       "version_major": 2,
       "version_minor": 0
      },
      "text/plain": [
       "Dropdown(description='Number:', options=(('Basic', 1), ('Burden Map', 2), ('Three', 3)), value=1)"
      ]
     },
     "metadata": {
      "tags": []
     },
     "output_type": "display_data"
    },
    {
     "name": "stdout",
     "output_type": "stream",
     "text": [
      "select Building:\n"
     ]
    },
    {
     "data": {
      "application/vnd.jupyter.widget-view+json": {
       "model_id": "c1c2775baf584e41aca9b5ae257e3f59",
       "version_major": 2,
       "version_minor": 0
      },
      "text/plain": [
       "Dropdown(description='Bldgs:', index=5, options=('Manhattan park', 'The Octagon', 'island house', 'The House',…"
      ]
     },
     "metadata": {
      "tags": []
     },
     "output_type": "display_data"
    }
   ],
   "source": [
    "ridt_widgets.widget3()"
   ]
  },
  {
   "cell_type": "code",
   "execution_count": null,
   "metadata": {
    "id": "xgaLktM2NgWE"
   },
   "outputs": [],
   "source": [
    "year_1, map_type,bld = ridt_widgets.get_data_widget3()"
   ]
  },
  {
   "cell_type": "code",
   "execution_count": null,
   "metadata": {
    "id": "lVlTUuUcdOZe"
   },
   "outputs": [],
   "source": [
    "df2 = ridt_agents_obj(df_ts_2.ds.copy())"
   ]
  },
  {
   "cell_type": "code",
   "execution_count": null,
   "metadata": {
    "id": "CCQNY7zoXavE"
   },
   "outputs": [],
   "source": [
    "df2_year = df2.filter_ds_by_year(year_1)\n",
    "df2_rivercross_year = df2.filter_ds_by_year_building(year_1,bld)"
   ]
  },
  {
   "cell_type": "code",
   "execution_count": null,
   "metadata": {
    "colab": {
     "base_uri": "https://localhost:8080/",
     "height": 78
    },
    "id": "2G147cR06Csp",
    "outputId": "a666c58a-0e6c-4308-e8ba-53a7a5ba65b7"
   },
   "outputs": [
    {
     "data": {
      "text/html": [
       "<div>\n",
       "<style scoped>\n",
       "    .dataframe tbody tr th:only-of-type {\n",
       "        vertical-align: middle;\n",
       "    }\n",
       "\n",
       "    .dataframe tbody tr th {\n",
       "        vertical-align: top;\n",
       "    }\n",
       "\n",
       "    .dataframe thead th {\n",
       "        text-align: right;\n",
       "    }\n",
       "</style>\n",
       "<table border=\"1\" class=\"dataframe\">\n",
       "  <thead>\n",
       "    <tr style=\"text-align: right;\">\n",
       "      <th></th>\n",
       "      <th>annual_burden</th>\n",
       "      <th>Number Of Housholds</th>\n",
       "    </tr>\n",
       "  </thead>\n",
       "  <tbody>\n",
       "    <tr>\n",
       "      <th>0</th>\n",
       "      <td>Less than 10.0 percent</td>\n",
       "      <td>534</td>\n",
       "    </tr>\n",
       "  </tbody>\n",
       "</table>\n",
       "</div>"
      ],
      "text/plain": [
       "            annual_burden  Number Of Housholds\n",
       "0  Less than 10.0 percent                  534"
      ]
     },
     "execution_count": 54,
     "metadata": {
      "tags": []
     },
     "output_type": "execute_result"
    }
   ],
   "source": [
    "df2_rivercross_year.report_burden()"
   ]
  },
  {
   "cell_type": "code",
   "execution_count": null,
   "metadata": {
    "id": "gShtlMztBwiZ"
   },
   "outputs": [],
   "source": [
    "df2_year.ds"
   ]
  },
  {
   "cell_type": "code",
   "execution_count": null,
   "metadata": {
    "id": "0aQzz0DPzxrG"
   },
   "outputs": [],
   "source": [
    "df2_rivercross_year.ds.to_excel('rivercross2024.xlsx')"
   ]
  },
  {
   "cell_type": "code",
   "execution_count": null,
   "metadata": {
    "id": "rxUC3inpd9H-"
   },
   "outputs": [],
   "source": [
    "df2_rivercross_year.report()"
   ]
  },
  {
   "cell_type": "code",
   "execution_count": null,
   "metadata": {
    "id": "oVAhaLZ9Xc2P"
   },
   "outputs": [],
   "source": [
    "df2_rivercross_year.ds.to_excel('rivercross_2020.xlsx')"
   ]
  },
  {
   "cell_type": "code",
   "execution_count": null,
   "metadata": {
    "colab": {
     "base_uri": "https://localhost:8080/",
     "height": 315
    },
    "id": "tbckbIc7Nknj",
    "outputId": "93ce658c-a484-4120-8a5c-2d8090324d95"
   },
   "outputs": [
    {
     "data": {
      "text/plain": [
       "<matplotlib.axes._subplots.AxesSubplot at 0x7fe267c1dba8>"
      ]
     },
     "execution_count": 55,
     "metadata": {
      "tags": []
     },
     "output_type": "execute_result"
    },
    {
     "data": {
      "image/png": "[encoded data removed]",
      "text/plain": [
       "<Figure size 432x288 with 1 Axes>"
      ]
     },
     "metadata": {
      "needs_background": "light",
      "tags": []
     },
     "output_type": "display_data"
    }
   ],
   "source": [
    "\n",
    "df2_f1 = df2.filter_ds_by_year(year_1)\n",
    "ca1 = ridt_demographic.group_ds_by_age(df2_f1.ds,year_1)\n",
    "ca1.plot.bar(x='group_age')"
   ]
  },
  {
   "cell_type": "code",
   "execution_count": null,
   "metadata": {
    "id": "QT9p9XXWV04P"
   },
   "outputs": [],
   "source": [
    "a_income_year = ridt_agent_economy.group_ds_income_group(df2_f1.ds)"
   ]
  },
  {
   "cell_type": "code",
   "execution_count": null,
   "metadata": {
    "colab": {
     "base_uri": "https://localhost:8080/",
     "height": 405
    },
    "id": "_vDxtl7rb0RI",
    "outputId": "fa8f8bb7-f4d4-4627-ffb5-af3a50d31e58"
   },
   "outputs": [
    {
     "data": {
      "text/plain": [
       "<matplotlib.axes._subplots.AxesSubplot at 0x7fe2669edf98>"
      ]
     },
     "execution_count": 57,
     "metadata": {
      "tags": []
     },
     "output_type": "execute_result"
    },
    {
     "data": {
      "image/png": "[encoded data removed]",
      "text/plain": [
       "<Figure size 432x288 with 1 Axes>"
      ]
     },
     "metadata": {
      "needs_background": "light",
      "tags": []
     },
     "output_type": "display_data"
    }
   ],
   "source": [
    "a_income_year.plot.bar(x='income_category',xlabel='For the Year ' +str(year_1))"
   ]
  },
  {
   "cell_type": "markdown",
   "metadata": {
    "id": "EW8bWbEdXNHh"
   },
   "source": [
    "#Map Plotting"
   ]
  },
  {
   "cell_type": "code",
   "execution_count": null,
   "metadata": {
    "id": "1BLoAcmRCpAk"
   },
   "outputs": [],
   "source": []
  },
  {
   "cell_type": "markdown",
   "metadata": {
    "id": "lnuDJhHXCqVO"
   },
   "source": [
    "## Option 2 Burden Mapping"
   ]
  },
  {
   "cell_type": "code",
   "execution_count": null,
   "metadata": {
    "id": "zwMlrC8oCs6r"
   },
   "outputs": [],
   "source": [
    "#Preparing the data\n",
    "# Group By Building and Burden Done\n",
    "# Merge with Geodatabase Done\n",
    "# Prepare Labeling"
   ]
  },
  {
   "cell_type": "code",
   "execution_count": null,
   "metadata": {
    "id": "5-Kswsc1J9M8"
   },
   "outputs": [],
   "source": [
    "m,json_burden = ridt_plotmaps.prepare_and_plot_burden(df2_year,json_bldgs)"
   ]
  },
  {
   "cell_type": "code",
   "execution_count": null,
   "metadata": {
    "colab": {
     "base_uri": "https://localhost:8080/",
     "height": 415
    },
    "id": "smVFHl37M24H",
    "outputId": "470a955e-7005-4cfc-ace8-bac8afeec858"
   },
   "outputs": [
    {
     "data": {
      "text/html": [
       "<div style=\"width:100%;\"><div style=\"position:relative;width:100%;height:0;padding-bottom:60%;\"><span style=\"color:#565656\">Make this Notebook Trusted to load map: File -> Trust Notebook</span><iframe src=\"about:blank\" style=\"position:absolute;width:100%;height:100%;left:0;top:0;border:none !important;\" data-html=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 onload=\"this.contentDocument.open();this.contentDocument.write(atob(this.getAttribute('data-html')));this.contentDocument.close();\" allowfullscreen webkitallowfullscreen mozallowfullscreen></iframe></div></div>"
      ],
      "text/plain": [
       "<folium.folium.Map at 0x7fe2669f5fd0>"
      ]
     },
     "execution_count": 60,
     "metadata": {
      "tags": []
     },
     "output_type": "execute_result"
    }
   ],
   "source": [
    "m"
   ]
  },
  {
   "cell_type": "code",
   "execution_count": null,
   "metadata": {
    "id": "YzRsQ7ITN6iX"
   },
   "outputs": [],
   "source": [
    "json_burden"
   ]
  },
  {
   "cell_type": "code",
   "execution_count": null,
   "metadata": {
    "id": "Rgl2WRACKPVl"
   },
   "outputs": [],
   "source": [
    "json_burden.columns"
   ]
  },
  {
   "cell_type": "code",
   "execution_count": null,
   "metadata": {
    "id": "EUjhaEcXC1-k"
   },
   "outputs": [],
   "source": [
    "burden_map_by_year = ridt_agents_obj(df2_year.ds.copy())\n",
    "burden_map_by_year.ds['annual_burden'] = burden_map_by_year.ds['annual_burden'].apply(ridt_agent_economy.get_burden_title)\n",
    "burden_bap_by_year_bldg = burden_map_by_year.report_burden_by_building()"
   ]
  },
  {
   "cell_type": "code",
   "execution_count": null,
   "metadata": {
    "id": "NyQZdhAtSduU"
   },
   "outputs": [],
   "source": [
    "jb1 = json_bldgs.copy()\n",
    "col = ['Bldg Proje', 'cnstrct_yr','bld_key','Address', 'geometry']\n",
    "jb1= jb1[col]"
   ]
  },
  {
   "cell_type": "code",
   "execution_count": null,
   "metadata": {
    "id": "YMZxVKXAF10T"
   },
   "outputs": [],
   "source": [
    "\n",
    "jbbf2 = pd.merge(jb1, bbybp, how='right', right_on='Building Name', left_on='Bldg Proje')\n"
   ]
  },
  {
   "cell_type": "code",
   "execution_count": null,
   "metadata": {
    "id": "MQn9MFhOHGKs"
   },
   "outputs": [],
   "source": [
    "jbbf2.plot()"
   ]
  },
  {
   "cell_type": "code",
   "execution_count": null,
   "metadata": {
    "id": "hK3OCW_111PE"
   },
   "outputs": [],
   "source": [
    "json_bldgs.columns"
   ]
  },
  {
   "cell_type": "code",
   "execution_count": null,
   "metadata": {
    "id": "lGyy4KbK02pl"
   },
   "outputs": [],
   "source": [
    "df2_rep = df2_f1.report()\n",
    "df2_rep.columns = [' '.join(col).strip() for col in df2_rep.columns.values]\n",
    "jbbf1 = pd.merge(jb1, df2_rep, how='right', right_on='Building Name', left_on='Bldg Proje')\n"
   ]
  },
  {
   "cell_type": "code",
   "execution_count": null,
   "metadata": {
    "id": "7d4YZBLdfxSv"
   },
   "outputs": [],
   "source": [
    "#part1 = ([' '.join(col).strip() for col in jbbf1.columns.values[0:-5]])\n",
    "#part2 = part1 + list(df2_merge.columns.values[-5:])\n",
    "#jbbf1.columns = part2\n",
    "jbbf1['Affordable_ratio'] = jbbf1['Affordable Living sum']/jbbf1['Apartments count']\n"
   ]
  },
  {
   "cell_type": "code",
   "execution_count": null,
   "metadata": {
    "id": "NEPSOSO10hiw"
   },
   "outputs": [],
   "source": [
    "jbbf1.plot()"
   ]
  },
  {
   "cell_type": "markdown",
   "metadata": {
    "id": "A05V129ta-P_"
   },
   "source": [
    "# Test"
   ]
  },
  {
   "cell_type": "code",
   "execution_count": null,
   "metadata": {
    "id": "trIO4dJomsc3"
   },
   "outputs": [],
   "source": [
    "m = ridt_plotmaps.map_2(jbbf1)\n",
    "#https://github.com/python-visualization/folium/tree/master/examples"
   ]
  },
  {
   "cell_type": "code",
   "execution_count": null,
   "metadata": {
    "id": "rMGw6kzsfUzS"
   },
   "outputs": [],
   "source": [
    "m"
   ]
  },
  {
   "cell_type": "code",
   "execution_count": null,
   "metadata": {
    "id": "PXYdPdahvJYt"
   },
   "outputs": [],
   "source": []
  },
  {
   "cell_type": "code",
   "execution_count": null,
   "metadata": {
    "id": "Bird7MFWNsjl"
   },
   "outputs": [],
   "source": [
    "fig2 = ridt_plot.plot_treemap_1(df2.ds.loc[df2.ds['Building Name']=='Rivercross'])\n",
    "#fig2.write_html('treemap_example.html')\n",
    "fig2.show()"
   ]
  },
  {
   "cell_type": "code",
   "execution_count": null,
   "metadata": {
    "id": "E0FPIu2lQmI5"
   },
   "outputs": [],
   "source": [
    "fig = ridt_plot.plot_treemap_2(df2.ds)\n",
    "fig.show()"
   ]
  },
  {
   "cell_type": "code",
   "execution_count": null,
   "metadata": {
    "id": "f-cwDj8v-RlB"
   },
   "outputs": [],
   "source": []
  },
  {
   "cell_type": "markdown",
   "metadata": {
    "id": "56uhUyzl-S8k"
   },
   "source": [
    "# New Section"
   ]
  }
 ],
 "metadata": {
  "colab": {
   "collapsed_sections": [
    "56uhUyzl-S8k"
   ],
   "name": "Colab_Simulation_Nov_11_2020.ipynb",
   "provenance": [],
   "toc_visible": true
  },
  "kernelspec": {
   "display_name": "Python 3",
   "language": "python",
   "name": "python3"
  },
  "language_info": {
   "codemirror_mode": {
    "name": "ipython",
    "version": 3
   },
   "file_extension": ".py",
   "mimetype": "text/x-python",
   "name": "python",
   "nbconvert_exporter": "python",
   "pygments_lexer": "ipython3",
   "version": "3.7.8"
  },
  "widgets": {
   "application/vnd.jupyter.widget-state+json": {
    "0534aa6d5be542819f488a845558ebc7": {
     "model_module": "@jupyter-widgets/controls",
     "model_name": "DescriptionStyleModel",
     "state": {
      "_model_module": "@jupyter-widgets/controls",
      "_model_module_version": "1.5.0",
      "_model_name": "DescriptionStyleModel",
      "_view_count": null,
      "_view_module": "@jupyter-widgets/base",
      "_view_module_version": "1.2.0",
      "_view_name": "StyleView",
      "description_width": ""
     }
    },
    "093e16d45bc44716969647566b2dfb9d": {
     "model_module": "@jupyter-widgets/base",
     "model_name": "LayoutModel",
     "state": {
      "_model_module": "@jupyter-widgets/base",
      "_model_module_version": "1.2.0",
      "_model_name": "LayoutModel",
      "_view_count": null,
      "_view_module": "@jupyter-widgets/base",
      "_view_module_version": "1.2.0",
      "_view_name": "LayoutView",
      "align_content": null,
      "align_items": null,
      "align_self": null,
      "border": null,
      "bottom": null,
      "display": null,
      "flex": null,
      "flex_flow": null,
      "grid_area": null,
      "grid_auto_columns": null,
      "grid_auto_flow": null,
      "grid_auto_rows": null,
      "grid_column": null,
      "grid_gap": null,
      "grid_row": null,
      "grid_template_areas": null,
      "grid_template_columns": null,
      "grid_template_rows": null,
      "height": null,
      "justify_content": null,
      "justify_items": null,
      "left": null,
      "margin": null,
      "max_height": null,
      "max_width": null,
      "min_height": null,
      "min_width": null,
      "object_fit": null,
      "object_position": null,
      "order": null,
      "overflow": null,
      "overflow_x": null,
      "overflow_y": null,
      "padding": null,
      "right": null,
      "top": null,
      "visibility": null,
      "width": null
     }
    },
    "0f314e57e5ef46c3a5456ebb4e0e2965": {
     "model_module": "@jupyter-widgets/controls",
     "model_name": "CheckboxModel",
     "state": {
      "_dom_classes": [],
      "_model_module": "@jupyter-widgets/controls",
      "_model_module_version": "1.5.0",
      "_model_name": "CheckboxModel",
      "_view_count": null,
      "_view_module": "@jupyter-widgets/controls",
      "_view_module_version": "1.5.0",
      "_view_name": "CheckboxView",
      "description": "Show Percent?",
      "description_tooltip": null,
      "disabled": false,
      "indent": false,
      "layout": "IPY_MODEL_4a225c4ede764687965ee8785e03785d",
      "style": "IPY_MODEL_f2c7ad27531045e0b1a51981b24932fa",
      "value": false
     }
    },
    "1910b0ab62be4769b297d57fa782fbf2": {
     "model_module": "@jupyter-widgets/controls",
     "model_name": "TextModel",
     "state": {
      "_dom_classes": [],
      "_model_module": "@jupyter-widgets/controls",
      "_model_module_version": "1.5.0",
      "_model_name": "TextModel",
      "_view_count": null,
      "_view_module": "@jupyter-widgets/controls",
      "_view_module_version": "1.5.0",
      "_view_name": "TextView",
      "continuous_update": true,
      "description": "",
      "description_tooltip": null,
      "disabled": false,
      "layout": "IPY_MODEL_f2d327c1fcc3476ea539ef6fa28f9dfc",
      "placeholder": "​",
      "style": "IPY_MODEL_0534aa6d5be542819f488a845558ebc7",
      "value": "bldgs_nov_5_1122.geojson"
     }
    },
    "1a0a35a27d944d3aafc6893cb781af0b": {
     "model_module": "@jupyter-widgets/base",
     "model_name": "LayoutModel",
     "state": {
      "_model_module": "@jupyter-widgets/base",
      "_model_module_version": "1.2.0",
      "_model_name": "LayoutModel",
      "_view_count": null,
      "_view_module": "@jupyter-widgets/base",
      "_view_module_version": "1.2.0",
      "_view_name": "LayoutView",
      "align_content": null,
      "align_items": null,
      "align_self": null,
      "border": null,
      "bottom": null,
      "display": null,
      "flex": null,
      "flex_flow": null,
      "grid_area": null,
      "grid_auto_columns": null,
      "grid_auto_flow": null,
      "grid_auto_rows": null,
      "grid_column": null,
      "grid_gap": null,
      "grid_row": null,
      "grid_template_areas": null,
      "grid_template_columns": null,
      "grid_template_rows": null,
      "height": null,
      "justify_content": null,
      "justify_items": null,
      "left": null,
      "margin": null,
      "max_height": null,
      "max_width": null,
      "min_height": null,
      "min_width": null,
      "object_fit": null,
      "object_position": null,
      "order": null,
      "overflow": null,
      "overflow_x": null,
      "overflow_y": null,
      "padding": null,
      "right": null,
      "top": null,
      "visibility": null,
      "width": null
     }
    },
    "1d5ffa8a11384a0d8625e481b8ce7b36": {
     "model_module": "@jupyter-widgets/controls",
     "model_name": "DropdownModel",
     "state": {
      "_dom_classes": [],
      "_model_module": "@jupyter-widgets/controls",
      "_model_module_version": "1.5.0",
      "_model_name": "DropdownModel",
      "_options_labels": [
       "Basic",
       "Burden Map",
       "Three"
      ],
      "_view_count": null,
      "_view_module": "@jupyter-widgets/controls",
      "_view_module_version": "1.5.0",
      "_view_name": "DropdownView",
      "description": "Number:",
      "description_tooltip": null,
      "disabled": false,
      "index": 0,
      "layout": "IPY_MODEL_896eb1ea74ad4972a49cefe44dda761e",
      "style": "IPY_MODEL_618cc238ae524fafafb8f8486d89ad40"
     }
    },
    "2401e9f600724cc1b04ba55923ff38f6": {
     "model_module": "@jupyter-widgets/controls",
     "model_name": "DescriptionStyleModel",
     "state": {
      "_model_module": "@jupyter-widgets/controls",
      "_model_module_version": "1.5.0",
      "_model_name": "DescriptionStyleModel",
      "_view_count": null,
      "_view_module": "@jupyter-widgets/base",
      "_view_module_version": "1.2.0",
      "_view_name": "StyleView",
      "description_width": ""
     }
    },
    "2cd68a027b8447b2a1ba20e3279c3903": {
     "model_module": "@jupyter-widgets/base",
     "model_name": "LayoutModel",
     "state": {
      "_model_module": "@jupyter-widgets/base",
      "_model_module_version": "1.2.0",
      "_model_name": "LayoutModel",
      "_view_count": null,
      "_view_module": "@jupyter-widgets/base",
      "_view_module_version": "1.2.0",
      "_view_name": "LayoutView",
      "align_content": null,
      "align_items": null,
      "align_self": null,
      "border": null,
      "bottom": null,
      "display": null,
      "flex": null,
      "flex_flow": null,
      "grid_area": null,
      "grid_auto_columns": null,
      "grid_auto_flow": null,
      "grid_auto_rows": null,
      "grid_column": null,
      "grid_gap": null,
      "grid_row": null,
      "grid_template_areas": null,
      "grid_template_columns": null,
      "grid_template_rows": null,
      "height": null,
      "justify_content": null,
      "justify_items": null,
      "left": null,
      "margin": null,
      "max_height": null,
      "max_width": null,
      "min_height": null,
      "min_width": null,
      "object_fit": null,
      "object_position": null,
      "order": null,
      "overflow": null,
      "overflow_x": null,
      "overflow_y": null,
      "padding": null,
      "right": null,
      "top": null,
      "visibility": null,
      "width": null
     }
    },
    "38641e4ccf99413eb55d99b59d78d045": {
     "model_module": "@jupyter-widgets/controls",
     "model_name": "DescriptionStyleModel",
     "state": {
      "_model_module": "@jupyter-widgets/controls",
      "_model_module_version": "1.5.0",
      "_model_name": "DescriptionStyleModel",
      "_view_count": null,
      "_view_module": "@jupyter-widgets/base",
      "_view_module_version": "1.2.0",
      "_view_name": "StyleView",
      "description_width": ""
     }
    },
    "3a9c57302a2445b486fd35ef315e3b77": {
     "model_module": "@jupyter-widgets/controls",
     "model_name": "TextModel",
     "state": {
      "_dom_classes": [],
      "_model_module": "@jupyter-widgets/controls",
      "_model_module_version": "1.5.0",
      "_model_name": "TextModel",
      "_view_count": null,
      "_view_module": "@jupyter-widgets/controls",
      "_view_module_version": "1.5.0",
      "_view_name": "TextView",
      "continuous_update": true,
      "description": "",
      "description_tooltip": null,
      "disabled": false,
      "layout": "IPY_MODEL_aa4f42eb187c4d3fbda6a5ff1d8283a8",
      "placeholder": "​",
      "style": "IPY_MODEL_a12b9c3262a9413dbeff11a3ea7a7204",
      "value": "building_event_sep_24.xlsx"
     }
    },
    "437a037037274f47971a521ebae996d2": {
     "model_module": "@jupyter-widgets/controls",
     "model_name": "DropdownModel",
     "state": {
      "_dom_classes": [],
      "_model_module": "@jupyter-widgets/controls",
      "_model_module_version": "1.5.0",
      "_model_name": "DropdownModel",
      "_options_labels": [
       "All Buildings",
       "Wire",
       "NorthTown",
       "Southtown"
      ],
      "_view_count": null,
      "_view_module": "@jupyter-widgets/controls",
      "_view_module_version": "1.5.0",
      "_view_name": "DropdownView",
      "description": "Choos a Category:",
      "description_tooltip": null,
      "disabled": false,
      "index": 3,
      "layout": "IPY_MODEL_8fe27888e8fb419293d3ad83eb50bfbd",
      "style": "IPY_MODEL_79d78ca0381940148e7155f772768a67"
     }
    },
    "4a225c4ede764687965ee8785e03785d": {
     "model_module": "@jupyter-widgets/base",
     "model_name": "LayoutModel",
     "state": {
      "_model_module": "@jupyter-widgets/base",
      "_model_module_version": "1.2.0",
      "_model_name": "LayoutModel",
      "_view_count": null,
      "_view_module": "@jupyter-widgets/base",
      "_view_module_version": "1.2.0",
      "_view_name": "LayoutView",
      "align_content": null,
      "align_items": null,
      "align_self": null,
      "border": null,
      "bottom": null,
      "display": null,
      "flex": null,
      "flex_flow": null,
      "grid_area": null,
      "grid_auto_columns": null,
      "grid_auto_flow": null,
      "grid_auto_rows": null,
      "grid_column": null,
      "grid_gap": null,
      "grid_row": null,
      "grid_template_areas": null,
      "grid_template_columns": null,
      "grid_template_rows": null,
      "height": null,
      "justify_content": null,
      "justify_items": null,
      "left": null,
      "margin": null,
      "max_height": null,
      "max_width": null,
      "min_height": null,
      "min_width": null,
      "object_fit": null,
      "object_position": null,
      "order": null,
      "overflow": null,
      "overflow_x": null,
      "overflow_y": null,
      "padding": null,
      "right": null,
      "top": null,
      "visibility": null,
      "width": null
     }
    },
    "57cdfed569aa46fc91a69888a280a4c5": {
     "model_module": "@jupyter-widgets/base",
     "model_name": "LayoutModel",
     "state": {
      "_model_module": "@jupyter-widgets/base",
      "_model_module_version": "1.2.0",
      "_model_name": "LayoutModel",
      "_view_count": null,
      "_view_module": "@jupyter-widgets/base",
      "_view_module_version": "1.2.0",
      "_view_name": "LayoutView",
      "align_content": null,
      "align_items": null,
      "align_self": null,
      "border": null,
      "bottom": null,
      "display": null,
      "flex": null,
      "flex_flow": null,
      "grid_area": null,
      "grid_auto_columns": null,
      "grid_auto_flow": null,
      "grid_auto_rows": null,
      "grid_column": null,
      "grid_gap": null,
      "grid_row": null,
      "grid_template_areas": null,
      "grid_template_columns": null,
      "grid_template_rows": null,
      "height": null,
      "justify_content": null,
      "justify_items": null,
      "left": null,
      "margin": null,
      "max_height": null,
      "max_width": null,
      "min_height": null,
      "min_width": null,
      "object_fit": null,
      "object_position": null,
      "order": null,
      "overflow": null,
      "overflow_x": null,
      "overflow_y": null,
      "padding": null,
      "right": null,
      "top": null,
      "visibility": null,
      "width": null
     }
    },
    "5c2d758f3ffc48acaa334a4ec4d09d42": {
     "model_module": "@jupyter-widgets/controls",
     "model_name": "DescriptionStyleModel",
     "state": {
      "_model_module": "@jupyter-widgets/controls",
      "_model_module_version": "1.5.0",
      "_model_name": "DescriptionStyleModel",
      "_view_count": null,
      "_view_module": "@jupyter-widgets/base",
      "_view_module_version": "1.2.0",
      "_view_name": "StyleView",
      "description_width": ""
     }
    },
    "618cc238ae524fafafb8f8486d89ad40": {
     "model_module": "@jupyter-widgets/controls",
     "model_name": "DescriptionStyleModel",
     "state": {
      "_model_module": "@jupyter-widgets/controls",
      "_model_module_version": "1.5.0",
      "_model_name": "DescriptionStyleModel",
      "_view_count": null,
      "_view_module": "@jupyter-widgets/base",
      "_view_module_version": "1.2.0",
      "_view_name": "StyleView",
      "description_width": ""
     }
    },
    "620cae3f6f294cbb903536f554382698": {
     "model_module": "@jupyter-widgets/controls",
     "model_name": "DescriptionStyleModel",
     "state": {
      "_model_module": "@jupyter-widgets/controls",
      "_model_module_version": "1.5.0",
      "_model_name": "DescriptionStyleModel",
      "_view_count": null,
      "_view_module": "@jupyter-widgets/base",
      "_view_module_version": "1.2.0",
      "_view_name": "StyleView",
      "description_width": ""
     }
    },
    "6939d3a9e14e435ab4099321e6e58c21": {
     "model_module": "@jupyter-widgets/controls",
     "model_name": "DropdownModel",
     "state": {
      "_dom_classes": [],
      "_model_module": "@jupyter-widgets/controls",
      "_model_module_version": "1.5.0",
      "_model_name": "DropdownModel",
      "_options_labels": [
       "1980",
       "1990",
       "2000",
       "2010",
       "2020",
       "2030",
       "2030",
       "2050",
       "Multi Year"
      ],
      "_view_count": null,
      "_view_module": "@jupyter-widgets/controls",
      "_view_module_version": "1.5.0",
      "_view_name": "DropdownView",
      "description": "Choos a Year:",
      "description_tooltip": null,
      "disabled": false,
      "index": 4,
      "layout": "IPY_MODEL_bfa6bc78e00e47cfa5b76479fb7614ef",
      "style": "IPY_MODEL_6c53a5f02ce741c1bbe8fd7579220dfa"
     }
    },
    "6c53a5f02ce741c1bbe8fd7579220dfa": {
     "model_module": "@jupyter-widgets/controls",
     "model_name": "DescriptionStyleModel",
     "state": {
      "_model_module": "@jupyter-widgets/controls",
      "_model_module_version": "1.5.0",
      "_model_name": "DescriptionStyleModel",
      "_view_count": null,
      "_view_module": "@jupyter-widgets/base",
      "_view_module_version": "1.2.0",
      "_view_name": "StyleView",
      "description_width": ""
     }
    },
    "79d78ca0381940148e7155f772768a67": {
     "model_module": "@jupyter-widgets/controls",
     "model_name": "DescriptionStyleModel",
     "state": {
      "_model_module": "@jupyter-widgets/controls",
      "_model_module_version": "1.5.0",
      "_model_name": "DescriptionStyleModel",
      "_view_count": null,
      "_view_module": "@jupyter-widgets/base",
      "_view_module_version": "1.2.0",
      "_view_name": "StyleView",
      "description_width": ""
     }
    },
    "7b4ecb2db4e54dada5f326296f44e85d": {
     "model_module": "@jupyter-widgets/base",
     "model_name": "LayoutModel",
     "state": {
      "_model_module": "@jupyter-widgets/base",
      "_model_module_version": "1.2.0",
      "_model_name": "LayoutModel",
      "_view_count": null,
      "_view_module": "@jupyter-widgets/base",
      "_view_module_version": "1.2.0",
      "_view_name": "LayoutView",
      "align_content": null,
      "align_items": null,
      "align_self": null,
      "border": null,
      "bottom": null,
      "display": null,
      "flex": null,
      "flex_flow": null,
      "grid_area": null,
      "grid_auto_columns": null,
      "grid_auto_flow": null,
      "grid_auto_rows": null,
      "grid_column": null,
      "grid_gap": null,
      "grid_row": null,
      "grid_template_areas": null,
      "grid_template_columns": null,
      "grid_template_rows": null,
      "height": null,
      "justify_content": null,
      "justify_items": null,
      "left": null,
      "margin": null,
      "max_height": null,
      "max_width": null,
      "min_height": null,
      "min_width": null,
      "object_fit": null,
      "object_position": null,
      "order": null,
      "overflow": null,
      "overflow_x": null,
      "overflow_y": null,
      "padding": null,
      "right": null,
      "top": null,
      "visibility": null,
      "width": null
     }
    },
    "7efe4b05cb10435d8de93cba530665f1": {
     "model_module": "@jupyter-widgets/controls",
     "model_name": "DescriptionStyleModel",
     "state": {
      "_model_module": "@jupyter-widgets/controls",
      "_model_module_version": "1.5.0",
      "_model_name": "DescriptionStyleModel",
      "_view_count": null,
      "_view_module": "@jupyter-widgets/base",
      "_view_module_version": "1.2.0",
      "_view_name": "StyleView",
      "description_width": ""
     }
    },
    "8566209e3b8b4be280d1262ad576ca4d": {
     "model_module": "@jupyter-widgets/controls",
     "model_name": "TextModel",
     "state": {
      "_dom_classes": [],
      "_model_module": "@jupyter-widgets/controls",
      "_model_module_version": "1.5.0",
      "_model_name": "TextModel",
      "_view_count": null,
      "_view_module": "@jupyter-widgets/controls",
      "_view_module_version": "1.5.0",
      "_view_name": "TextView",
      "continuous_update": true,
      "description": "",
      "description_tooltip": null,
      "disabled": false,
      "layout": "IPY_MODEL_7b4ecb2db4e54dada5f326296f44e85d",
      "placeholder": "​",
      "style": "IPY_MODEL_38641e4ccf99413eb55d99b59d78d045",
      "value": "/content/drive/My Drive/RI_Digital_Twin_DRIVE/Articles to publish/Article 2 Sharon/Simulation/Versions"
     }
    },
    "896eb1ea74ad4972a49cefe44dda761e": {
     "model_module": "@jupyter-widgets/base",
     "model_name": "LayoutModel",
     "state": {
      "_model_module": "@jupyter-widgets/base",
      "_model_module_version": "1.2.0",
      "_model_name": "LayoutModel",
      "_view_count": null,
      "_view_module": "@jupyter-widgets/base",
      "_view_module_version": "1.2.0",
      "_view_name": "LayoutView",
      "align_content": null,
      "align_items": null,
      "align_self": null,
      "border": null,
      "bottom": null,
      "display": null,
      "flex": null,
      "flex_flow": null,
      "grid_area": null,
      "grid_auto_columns": null,
      "grid_auto_flow": null,
      "grid_auto_rows": null,
      "grid_column": null,
      "grid_gap": null,
      "grid_row": null,
      "grid_template_areas": null,
      "grid_template_columns": null,
      "grid_template_rows": null,
      "height": null,
      "justify_content": null,
      "justify_items": null,
      "left": null,
      "margin": null,
      "max_height": null,
      "max_width": null,
      "min_height": null,
      "min_width": null,
      "object_fit": null,
      "object_position": null,
      "order": null,
      "overflow": null,
      "overflow_x": null,
      "overflow_y": null,
      "padding": null,
      "right": null,
      "top": null,
      "visibility": null,
      "width": null
     }
    },
    "8fe27888e8fb419293d3ad83eb50bfbd": {
     "model_module": "@jupyter-widgets/base",
     "model_name": "LayoutModel",
     "state": {
      "_model_module": "@jupyter-widgets/base",
      "_model_module_version": "1.2.0",
      "_model_name": "LayoutModel",
      "_view_count": null,
      "_view_module": "@jupyter-widgets/base",
      "_view_module_version": "1.2.0",
      "_view_name": "LayoutView",
      "align_content": null,
      "align_items": null,
      "align_self": null,
      "border": null,
      "bottom": null,
      "display": null,
      "flex": null,
      "flex_flow": null,
      "grid_area": null,
      "grid_auto_columns": null,
      "grid_auto_flow": null,
      "grid_auto_rows": null,
      "grid_column": null,
      "grid_gap": null,
      "grid_row": null,
      "grid_template_areas": null,
      "grid_template_columns": null,
      "grid_template_rows": null,
      "height": null,
      "justify_content": null,
      "justify_items": null,
      "left": null,
      "margin": null,
      "max_height": null,
      "max_width": null,
      "min_height": null,
      "min_width": null,
      "object_fit": null,
      "object_position": null,
      "order": null,
      "overflow": null,
      "overflow_x": null,
      "overflow_y": null,
      "padding": null,
      "right": null,
      "top": null,
      "visibility": null,
      "width": null
     }
    },
    "997be16b5ef546b18b1e4b73c9ff8c5a": {
     "model_module": "@jupyter-widgets/controls",
     "model_name": "TextModel",
     "state": {
      "_dom_classes": [],
      "_model_module": "@jupyter-widgets/controls",
      "_model_module_version": "1.5.0",
      "_model_name": "TextModel",
      "_view_count": null,
      "_view_module": "@jupyter-widgets/controls",
      "_view_module_version": "1.5.0",
      "_view_name": "TextView",
      "continuous_update": true,
      "description": "",
      "description_tooltip": null,
      "disabled": false,
      "layout": "IPY_MODEL_d045ddd1c3da41d8a00ae072f7b1ca6a",
      "placeholder": "​",
      "style": "IPY_MODEL_5c2d758f3ffc48acaa334a4ec4d09d42",
      "value": "wire_apt_rooms_dist_28_9.xlsx"
     }
    },
    "a12b9c3262a9413dbeff11a3ea7a7204": {
     "model_module": "@jupyter-widgets/controls",
     "model_name": "DescriptionStyleModel",
     "state": {
      "_model_module": "@jupyter-widgets/controls",
      "_model_module_version": "1.5.0",
      "_model_name": "DescriptionStyleModel",
      "_view_count": null,
      "_view_module": "@jupyter-widgets/base",
      "_view_module_version": "1.2.0",
      "_view_name": "StyleView",
      "description_width": ""
     }
    },
    "aa4f42eb187c4d3fbda6a5ff1d8283a8": {
     "model_module": "@jupyter-widgets/base",
     "model_name": "LayoutModel",
     "state": {
      "_model_module": "@jupyter-widgets/base",
      "_model_module_version": "1.2.0",
      "_model_name": "LayoutModel",
      "_view_count": null,
      "_view_module": "@jupyter-widgets/base",
      "_view_module_version": "1.2.0",
      "_view_name": "LayoutView",
      "align_content": null,
      "align_items": null,
      "align_self": null,
      "border": null,
      "bottom": null,
      "display": null,
      "flex": null,
      "flex_flow": null,
      "grid_area": null,
      "grid_auto_columns": null,
      "grid_auto_flow": null,
      "grid_auto_rows": null,
      "grid_column": null,
      "grid_gap": null,
      "grid_row": null,
      "grid_template_areas": null,
      "grid_template_columns": null,
      "grid_template_rows": null,
      "height": null,
      "justify_content": null,
      "justify_items": null,
      "left": null,
      "margin": null,
      "max_height": null,
      "max_width": null,
      "min_height": null,
      "min_width": null,
      "object_fit": null,
      "object_position": null,
      "order": null,
      "overflow": null,
      "overflow_x": null,
      "overflow_y": null,
      "padding": null,
      "right": null,
      "top": null,
      "visibility": null,
      "width": null
     }
    },
    "aee4011bfb5a4839915e0985095d3bdd": {
     "model_module": "@jupyter-widgets/controls",
     "model_name": "TextModel",
     "state": {
      "_dom_classes": [],
      "_model_module": "@jupyter-widgets/controls",
      "_model_module_version": "1.5.0",
      "_model_name": "TextModel",
      "_view_count": null,
      "_view_module": "@jupyter-widgets/controls",
      "_view_module_version": "1.5.0",
      "_view_name": "TextView",
      "continuous_update": true,
      "description": "",
      "description_tooltip": null,
      "disabled": false,
      "layout": "IPY_MODEL_2cd68a027b8447b2a1ba20e3279c3903",
      "placeholder": "​",
      "style": "IPY_MODEL_2401e9f600724cc1b04ba55923ff38f6",
      "value": "v_20201028_5000_calibration"
     }
    },
    "b6811e41477846468cf37037037052ea": {
     "model_module": "@jupyter-widgets/controls",
     "model_name": "DropdownModel",
     "state": {
      "_dom_classes": [],
      "_model_module": "@jupyter-widgets/controls",
      "_model_module_version": "1.5.0",
      "_model_name": "DropdownModel",
      "_options_labels": [
       "Demographic",
       "Income"
      ],
      "_view_count": null,
      "_view_module": "@jupyter-widgets/controls",
      "_view_module_version": "1.5.0",
      "_view_name": "DropdownView",
      "description": "Choos a Category:",
      "description_tooltip": null,
      "disabled": false,
      "index": 1,
      "layout": "IPY_MODEL_093e16d45bc44716969647566b2dfb9d",
      "style": "IPY_MODEL_620cae3f6f294cbb903536f554382698"
     }
    },
    "bfa6bc78e00e47cfa5b76479fb7614ef": {
     "model_module": "@jupyter-widgets/base",
     "model_name": "LayoutModel",
     "state": {
      "_model_module": "@jupyter-widgets/base",
      "_model_module_version": "1.2.0",
      "_model_name": "LayoutModel",
      "_view_count": null,
      "_view_module": "@jupyter-widgets/base",
      "_view_module_version": "1.2.0",
      "_view_name": "LayoutView",
      "align_content": null,
      "align_items": null,
      "align_self": null,
      "border": null,
      "bottom": null,
      "display": null,
      "flex": null,
      "flex_flow": null,
      "grid_area": null,
      "grid_auto_columns": null,
      "grid_auto_flow": null,
      "grid_auto_rows": null,
      "grid_column": null,
      "grid_gap": null,
      "grid_row": null,
      "grid_template_areas": null,
      "grid_template_columns": null,
      "grid_template_rows": null,
      "height": null,
      "justify_content": null,
      "justify_items": null,
      "left": null,
      "margin": null,
      "max_height": null,
      "max_width": null,
      "min_height": null,
      "min_width": null,
      "object_fit": null,
      "object_position": null,
      "order": null,
      "overflow": null,
      "overflow_x": null,
      "overflow_y": null,
      "padding": null,
      "right": null,
      "top": null,
      "visibility": null,
      "width": null
     }
    },
    "c1984e975cd14301b6172c59d6baa839": {
     "model_module": "@jupyter-widgets/base",
     "model_name": "LayoutModel",
     "state": {
      "_model_module": "@jupyter-widgets/base",
      "_model_module_version": "1.2.0",
      "_model_name": "LayoutModel",
      "_view_count": null,
      "_view_module": "@jupyter-widgets/base",
      "_view_module_version": "1.2.0",
      "_view_name": "LayoutView",
      "align_content": null,
      "align_items": null,
      "align_self": null,
      "border": null,
      "bottom": null,
      "display": null,
      "flex": null,
      "flex_flow": null,
      "grid_area": null,
      "grid_auto_columns": null,
      "grid_auto_flow": null,
      "grid_auto_rows": null,
      "grid_column": null,
      "grid_gap": null,
      "grid_row": null,
      "grid_template_areas": null,
      "grid_template_columns": null,
      "grid_template_rows": null,
      "height": null,
      "justify_content": null,
      "justify_items": null,
      "left": null,
      "margin": null,
      "max_height": null,
      "max_width": null,
      "min_height": null,
      "min_width": null,
      "object_fit": null,
      "object_position": null,
      "order": null,
      "overflow": null,
      "overflow_x": null,
      "overflow_y": null,
      "padding": null,
      "right": null,
      "top": null,
      "visibility": null,
      "width": null
     }
    },
    "c1c2775baf584e41aca9b5ae257e3f59": {
     "model_module": "@jupyter-widgets/controls",
     "model_name": "DropdownModel",
     "state": {
      "_dom_classes": [],
      "_model_module": "@jupyter-widgets/controls",
      "_model_module_version": "1.5.0",
      "_model_name": "DropdownModel",
      "_options_labels": [
       "Manhattan park",
       "The Octagon",
       "island house",
       "The House",
       "Roosevelt Landings",
       "Rivercross",
       "Riverwalk Landing",
       "Riverwalk Point",
       "Westview",
       "Riverwalk place",
       "Riverwalk Court",
       "Riverwalk Crossing",
       "2-4 River Road"
      ],
      "_view_count": null,
      "_view_module": "@jupyter-widgets/controls",
      "_view_module_version": "1.5.0",
      "_view_name": "DropdownView",
      "description": "Bldgs:",
      "description_tooltip": null,
      "disabled": false,
      "index": 5,
      "layout": "IPY_MODEL_c1984e975cd14301b6172c59d6baa839",
      "style": "IPY_MODEL_da65513027a9426f9bbafb9792032e30"
     }
    },
    "d045ddd1c3da41d8a00ae072f7b1ca6a": {
     "model_module": "@jupyter-widgets/base",
     "model_name": "LayoutModel",
     "state": {
      "_model_module": "@jupyter-widgets/base",
      "_model_module_version": "1.2.0",
      "_model_name": "LayoutModel",
      "_view_count": null,
      "_view_module": "@jupyter-widgets/base",
      "_view_module_version": "1.2.0",
      "_view_name": "LayoutView",
      "align_content": null,
      "align_items": null,
      "align_self": null,
      "border": null,
      "bottom": null,
      "display": null,
      "flex": null,
      "flex_flow": null,
      "grid_area": null,
      "grid_auto_columns": null,
      "grid_auto_flow": null,
      "grid_auto_rows": null,
      "grid_column": null,
      "grid_gap": null,
      "grid_row": null,
      "grid_template_areas": null,
      "grid_template_columns": null,
      "grid_template_rows": null,
      "height": null,
      "justify_content": null,
      "justify_items": null,
      "left": null,
      "margin": null,
      "max_height": null,
      "max_width": null,
      "min_height": null,
      "min_width": null,
      "object_fit": null,
      "object_position": null,
      "order": null,
      "overflow": null,
      "overflow_x": null,
      "overflow_y": null,
      "padding": null,
      "right": null,
      "top": null,
      "visibility": null,
      "width": null
     }
    },
    "d65f164e9b5f4e34b09a6fb72cceb322": {
     "model_module": "@jupyter-widgets/controls",
     "model_name": "SliderStyleModel",
     "state": {
      "_model_module": "@jupyter-widgets/controls",
      "_model_module_version": "1.5.0",
      "_model_name": "SliderStyleModel",
      "_view_count": null,
      "_view_module": "@jupyter-widgets/base",
      "_view_module_version": "1.2.0",
      "_view_name": "StyleView",
      "description_width": "",
      "handle_color": null
     }
    },
    "d87f402aaf8e44be9a0a245a70a1dc10": {
     "model_module": "@jupyter-widgets/controls",
     "model_name": "IntSliderModel",
     "state": {
      "_dom_classes": [],
      "_model_module": "@jupyter-widgets/controls",
      "_model_module_version": "1.5.0",
      "_model_name": "IntSliderModel",
      "_view_count": null,
      "_view_module": "@jupyter-widgets/controls",
      "_view_module_version": "1.5.0",
      "_view_name": "IntSliderView",
      "continuous_update": false,
      "description": "Year",
      "description_tooltip": null,
      "disabled": false,
      "layout": "IPY_MODEL_57cdfed569aa46fc91a69888a280a4c5",
      "max": 2050,
      "min": 1975,
      "orientation": "horizontal",
      "readout": true,
      "readout_format": "d",
      "step": 1,
      "style": "IPY_MODEL_d65f164e9b5f4e34b09a6fb72cceb322",
      "value": 1993
     }
    },
    "da65513027a9426f9bbafb9792032e30": {
     "model_module": "@jupyter-widgets/controls",
     "model_name": "DescriptionStyleModel",
     "state": {
      "_model_module": "@jupyter-widgets/controls",
      "_model_module_version": "1.5.0",
      "_model_name": "DescriptionStyleModel",
      "_view_count": null,
      "_view_module": "@jupyter-widgets/base",
      "_view_module_version": "1.2.0",
      "_view_name": "StyleView",
      "description_width": ""
     }
    },
    "f2c7ad27531045e0b1a51981b24932fa": {
     "model_module": "@jupyter-widgets/controls",
     "model_name": "DescriptionStyleModel",
     "state": {
      "_model_module": "@jupyter-widgets/controls",
      "_model_module_version": "1.5.0",
      "_model_name": "DescriptionStyleModel",
      "_view_count": null,
      "_view_module": "@jupyter-widgets/base",
      "_view_module_version": "1.2.0",
      "_view_name": "StyleView",
      "description_width": ""
     }
    },
    "f2d327c1fcc3476ea539ef6fa28f9dfc": {
     "model_module": "@jupyter-widgets/base",
     "model_name": "LayoutModel",
     "state": {
      "_model_module": "@jupyter-widgets/base",
      "_model_module_version": "1.2.0",
      "_model_name": "LayoutModel",
      "_view_count": null,
      "_view_module": "@jupyter-widgets/base",
      "_view_module_version": "1.2.0",
      "_view_name": "LayoutView",
      "align_content": null,
      "align_items": null,
      "align_self": null,
      "border": null,
      "bottom": null,
      "display": null,
      "flex": null,
      "flex_flow": null,
      "grid_area": null,
      "grid_auto_columns": null,
      "grid_auto_flow": null,
      "grid_auto_rows": null,
      "grid_column": null,
      "grid_gap": null,
      "grid_row": null,
      "grid_template_areas": null,
      "grid_template_columns": null,
      "grid_template_rows": null,
      "height": null,
      "justify_content": null,
      "justify_items": null,
      "left": null,
      "margin": null,
      "max_height": null,
      "max_width": null,
      "min_height": null,
      "min_width": null,
      "object_fit": null,
      "object_position": null,
      "order": null,
      "overflow": null,
      "overflow_x": null,
      "overflow_y": null,
      "padding": null,
      "right": null,
      "top": null,
      "visibility": null,
      "width": null
     }
    },
    "f9e9e08f743047059c03b343f8526f76": {
     "model_module": "@jupyter-widgets/controls",
     "model_name": "CheckboxModel",
     "state": {
      "_dom_classes": [],
      "_model_module": "@jupyter-widgets/controls",
      "_model_module_version": "1.5.0",
      "_model_name": "CheckboxModel",
      "_view_count": null,
      "_view_module": "@jupyter-widgets/controls",
      "_view_module_version": "1.5.0",
      "_view_name": "CheckboxView",
      "description": "By Buildings?",
      "description_tooltip": null,
      "disabled": false,
      "indent": false,
      "layout": "IPY_MODEL_1a0a35a27d944d3aafc6893cb781af0b",
      "style": "IPY_MODEL_7efe4b05cb10435d8de93cba530665f1",
      "value": true
     }
    }
   }
  }
 },
 "nbformat": 4,
 "nbformat_minor": 1
}
